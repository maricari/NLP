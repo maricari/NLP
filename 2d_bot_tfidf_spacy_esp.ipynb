{
  "cells": [
    {
      "cell_type": "markdown",
      "metadata": {
        "id": "view-in-github",
        "colab_type": "text"
      },
      "source": [
        "<a href=\"https://colab.research.google.com/github/maricari/NLP/blob/main/2d_bot_tfidf_spacy_esp.ipynb\" target=\"_parent\"><img src=\"https://colab.research.google.com/assets/colab-badge.svg\" alt=\"Open In Colab\"/></a>"
      ]
    },
    {
      "cell_type": "code",
      "source": [
        " web"
      ],
      "metadata": {
        "id": "WI36AMGorUrr"
      },
      "execution_count": null,
      "outputs": []
    },
    {
      "cell_type": "markdown",
      "metadata": {
        "id": "Ue5hxxkdAQJg"
      },
      "source": [
        "<img src=\"https://github.com/hernancontigiani/ceia_memorias_especializacion/raw/master/Figures/logoFIUBA.jpg\" width=\"500\" align=\"center\">\n",
        "\n",
        "\n",
        "# Procesamiento de lenguaje natural\n",
        "## Bot con Spacy utilizando un corpus de la web\n"
      ]
    },
    {
      "cell_type": "markdown",
      "source": [
        "## Alumna: María Carina Roldán"
      ],
      "metadata": {
        "id": "tKjHuzqKWs9k"
      }
    },
    {
      "cell_type": "code",
      "source": [
        "!pip install spacy-stanza"
      ],
      "metadata": {
        "id": "qh2N5_UuWYpl"
      },
      "execution_count": null,
      "outputs": []
    },
    {
      "cell_type": "code",
      "execution_count": null,
      "metadata": {
        "id": "kCED1hh-Ioyf"
      },
      "outputs": [],
      "source": [
        "import json\n",
        "import string\n",
        "import random\n",
        "import numpy as np\n",
        "\n",
        "# Para leer y parsear el texto en HTML\n",
        "import urllib.request\n",
        "import bs4 as bs\n",
        "\n",
        "# Para limpiar el texto\n",
        "import re\n",
        "import unicodedata\n",
        "\n",
        "# Para procesar el texto y armar los pipelines\n",
        "import spacy\n",
        "import stanza\n",
        "import spacy_stanza"
      ]
    },
    {
      "cell_type": "code",
      "source": [
        "# Descarga el diccionario en español y arma el pipeline de NLP\n",
        "stanza.download(\"es\")\n",
        "nlp = spacy_stanza.load_pipeline(\"es\")"
      ],
      "metadata": {
        "id": "HC-4aXzkWYsl"
      },
      "execution_count": null,
      "outputs": []
    },
    {
      "cell_type": "code",
      "source": [
        "import warnings\n",
        "warnings.filterwarnings('ignore')"
      ],
      "metadata": {
        "id": "bvJmnqGPHD_s"
      },
      "execution_count": null,
      "outputs": []
    },
    {
      "cell_type": "markdown",
      "metadata": {
        "id": "DMOa4JPSCJ29"
      },
      "source": [
        "### 1. Datos\n",
        "Se consumirán los datos de una página con refranes alusivos al tiempo."
      ]
    },
    {
      "cell_type": "code",
      "execution_count": null,
      "metadata": {
        "id": "RIO7b8GjAC17"
      },
      "outputs": [],
      "source": [
        "raw_html = urllib.request.urlopen('https://www.cervantesvirtual.com/obra-visor/refranes-alusivos-al-tiempo/html/')\n",
        "raw_html = raw_html.read()\n",
        "\n",
        "# Parsea el artículo\n",
        "article_html = bs.BeautifulSoup(raw_html, 'lxml')\n",
        "\n",
        "# Extrae el texto\n",
        "# Disclaimer!\n",
        "# Este texto es ad-hoc para esta página. No servirá para una página genérica\n",
        "\n",
        "article_section = article_html.find('section')\n",
        "article_text = article_section.text.split('PANIZO RODRIGUEZ, Juliana\\n')[1].split('BIBLIOGRAFÍA')[0]\n",
        "for titulo in ('EL TIEMPO','EL DIA','LOS DIAS DE LA SEMANA','EL SOL','EL CALOR','EL FRIO','LA HELADA','EL AGUA','EL VIENTO','LA PIEDRA, LOS TRUENOS Y LA NIEBLA','LA NOCHE'):\n",
        "  article_text = article_text.replace(titulo, '')\n",
        "\n",
        "# Remueve espacios, saltos de línea o tabulación que pudieran haber quedado\n",
        "text = re.sub(r'\\s+', ' ', article_text)\n"
      ]
    },
    {
      "cell_type": "code",
      "execution_count": null,
      "metadata": {
        "id": "pUH30a1_rOkS",
        "colab": {
          "base_uri": "https://localhost:8080/",
          "height": 139
        },
        "outputId": "ff8b5cc4-7d94-4891-9956-022f3048f00e"
      },
      "outputs": [
        {
          "output_type": "execute_result",
          "data": {
            "text/plain": [
              "'Para Rodríguez Marín el refrán es \"un dicho popular, sentencioso y breve, de verdad comprobada, generalmente simbólico y expuesto en forma poética, que contiene una regla de conducta u otra enseñanza\".Los refranes que inserto a continuación alusivos al tiempo, algunos los he recopilado en Valladolid y pueblos de la provincia y otros proceden de las obras señaladas en la bibliografía. La edad de los informantes oscila entre los veintidós y los ochenta y ocho años.Señalan, entre otros, los siguientes aspectos:-El valor del tiempo: El tiempo es oro. El tiempo es la cosa más preciosa del mundo. El tiempo, que es lo que más vale, no lo da Dios de balde. Quien defiende su tiempo, defiende su dinero.-Los efectos curativos del tiempo: El tiempo cura más que el sol. El tiempo es gran médico para el alma y para el cuerpo. El tiempo todo lo cura y todo lo muda. No hay mal que el tiempo no alivie su tormento.-La invitación a aprovechar el tiempo: Aprovecha el tiempo, que vale el cielo. Con el tiempo y la paciencia se adquiere la ciencia.-La fugacidad del tiempo: Vuela el tiempo de corrida, y tras él va nuestra vida. Tiempo pasado, jamás tornado. El tiempo vuela como el viento. El dinero se va y viene, pero el tiempo ido no vuelve. Tiempo presente, al mentarlo ya es ausente.-Los días de mal agüero: En martes ni te cases ni te embarques. En martes ni tu hija cases ni tu marrano mates. Si quieres que tu gallina buenos pollos saque, no la pongas trece huevos ni le eches en martes-Los efectos nocivos del granizo y del viento: Año de piedra, ninguno medra. Avenidas y pedriscos a muchos hacen pobres y a ninguno rico. Cuando el viento sopla airado, no hay paz en ningún lado. Tiempo ventoso, tiempo asqueroso.-Los beneficios que aporta la lluvia: Agua de mayo, pan para todo el año-Pronósticos meteorológicos: Cuando la perdiz canta, señal es de agua. Cuando el gato mucho se lava, cerca está el agua. A mal tiempo, buena cara: Aconseja resignación ante los malos trances de la vida.Aprovecha el tiempo que vale el cielo: Aconseja no desperdiciar la vida en devaneos, sino emplearlo en cosas de provecho.Aproveche bien a febrero quien holgó por enero: Invita a aprovechar el tiempo a las personas que no lo han hecho anteriormente.A su tiempo maduran las uvas: Refrán que aconseja tener paciencia para conseguir un fin.Cabras que mucho estornudan, tiempo que se muda.Coge las flores del buen tiempo, que pronto llegará tu invierno: Invita a aprovechar el tiempo porque pronto llegará la vejez.Con hacer que hacemos, todo el tiempo perdemos: Refrán contra los que aparentan trabajar y no hacen nada.Con el mal tiempo desaparecen los falsos amigos y las moscas: Indica que los amigos abundan cuando tenemos bienes y desaparecen cuando carecemos de ellos.Con el tiempo se muda el gesto: Indica que el paso del tiempo va cambiando el carácter.Con el tiempo todo se acaba: Significa que todas las cosas con el tiempo tienen su fin.Con el tiempo y paciencia se adquiere la ciencia: Indica que la sabiduría depende de los años.Cuando riendo, cuando riñendo, el tiempo se pasa y nos vamos yendo: Pone de manifiesto la fugacidad de todo lo terrenal.Cuando San Roque (16 de Agosto) vuelve la espalda, el tiempo cambia: (Significa que por estas fechas suele empeorar el tiempo.Danto tiempo al tiempo, el mozo llega a viejo.Dar tiempo al tiempo: Esperar la oportunidad para hacer una cosa.Del tiempo desperdiciado y de las palabras ociosas se ha de dar cuenta a Dios: Indica que el tiempo debe emplearse en obras útiles para la humanidad.De navidad a navidad, sólo un año va.De todos los bienes somos avarientos, menos del tiempo: Pone de manifiesto que a veces no valoramos el tiempo.El día de ayer nadie lo volverá a ver.El dinero se va y viene,. pero el tiempo ido no vuelve: Indica la fugacidad del tiempo.El hombre discreto, para todo tiene tiempo: Alaba a las personas que aprovechan el tiempo.El presente dura tan poco que ya es pasado cuando lo nombro.Tiempo presente, al mentarlo ya es ausente.Tiempo presente, un segundo: lo demás, o es pasado o es futuro.El tiempo aclara las cosas: Hay muchas circunstancias que no se pueden resolver en un momento, pero que pasando el tiempo tendrán su explicación.El tiempo cura las cosas y trae las rosas: Indica que el tiempo se encarga de curar las heridas y trae otros tiempos mejores.El tiempo cura más que el sol.El tiempo es buen consejero.El tiempo es devorador y consumidor de todas las cosas: Pone de manifiesto que no hay nada a lo que el tiempo no ponga fin.El tiempo es un gran médico, para el alma y para el cuerpo.El tiempo es inventor de novedades y descubridor de verdades.El tiempo es la cosa más preciosa del mundo: Porque el que se pierde no se recupera jamás.El tiempo es oro: Aconseja que no se desperdicie el tiempo por lo mucho que vale.El tiempo es padre de la verdad, y a relucir la sacará.El tiempo es una tierra que Dios nos ha dado: unos la labran, y otros la dejan de erizado: Indica que unos aprovechan el tiempo y otros no.El tiempo de los tres hermanos: la pereza, la moquita y el soplamanos: Se refiere al invierno.El tiempo enseña al que no tiene maestro.El tiempo da gusto a todos: unas veces seca y otras hace lodos.El tiempo, siempre borrando y siempre escribiendo.El tiempo no es oro, pero vale más que el oro: se recobra el oro que se perdió, y el tiempo perdido, no.El tiempo quiebra sin canto ni piedra: Con la edad vienen muchas molestias y enfermedades, que van demoliendo a las personas.El tiempo no pasa en balde: El paso del tiempo produce un desgaste en las personas y en los objetos.El tiempo, que es lo que más vale, nos lo da Dios de balde: Pondera la gratuidad del tiempo.El tiempo pasado, siempre fue loado: Refrán que pone de manifiesto la alabanza del tiempo pasado.El tiempo, ni siempre da canas, ni siempre da seso: Indica que el paso del tiempo, en algunas personas, no produce los frutos deseados, que son: sabiduría y experiencia.El tiempo pasado, tuvo mucho de bueno y mucho de malo; el presente de todo tiene; y el que vendrá, de todo tendrá; porque dicha cumplida, sólo en la otra vida,El tiempo todo lo cura y todo lo muda.El tiempo trae las rosas, y después de nevar y llover, las vuelve a traer.El tiempo trae las cosas nuevas, y el tiempo las hace viejas y se las lleva.El tiempo todo lo trae y todo se lo lleva.El tiempo vuela que se las pela.El tiempo vuela sin alas.El tiempo vuela como el viento.El tiempo y el dinero corren con el viento.El tiempo todo lo cura: Las penas más graves se van borrando cuando pasan los años. Si durasen siempre como el primer día que se experimentan, sería imposible la vida.El tiempo trae las rosas: Indica a las personas que están sufriendo, que vendrán épocas mejores.En el mucho tiempo está la prudencia: Indica que sólo con los años se adquiere esa virtud.En tiempo de higos no hay amigos: Censura a los que en los tiempos de su prosperidad o fortuna se olvidan de los amigos que tuvieron antes.Es bien dar tiempo al tiempo: Indica que es conveniente saber esperar.Gran pérdida es al letrado, el tiempo mal gastado.Hay que dar tiempo al tiempo: Invita a tener paciencia y saber esperar.Hay que tomar el tiempo conforme viene: Aconseja tener paciencia cuando un asunto le sale a uno mal.Hay tiempos de hablar y tiempos de callar: Pone de manifiesto que las cosas deben hacerse con oportunidad, porque cada una tiene marcada su ocasión.La pera dura, el tiempo la madura: Invita a tener paciencia.Lo que el tiempo trae, el tiempo se lo lleva.Los mayores imposibles, el tiempo y el dinero los hacen posibles.Más vale llegar a tiempo que rondar un año: Da mejor resultado llegar con oportunidad a alguna parte, aprovechando las circunstancias favorables, que ir y venir repetidas veces fuera de ocasión.Mi tiempo es el campo en que yo siembro.No es peor que el tiempo pase, sino que nos lleve por delante.No hay mal que el tiempo no alivie su tormento: Indica que el paso del tiempo alivia las penas.No hay plazo tan largo, que no llegue al cabo.No se hace sin tiempo lo que en todo tiempo se puede hacer.¡Oh, tiempo desperdiciado, quién te hubiera aprovechado!Para ennoblecer, engordar y saber, tiempo es menester: Las circunstancias indicadas se adquieren con el paso del tiempo.Para verdades, el tiempo, y para justicias, Dios.Por Santa Eulalia (12 de febrero), siempre el tiempo cambia: Significa que en esta época suele mejorar el tiempo.Quien da a tiempo un buen consejo, da mucho más que si diera dinero: Porque el dinero se termina, pero la experiencia de lo aconsejado no se pierde jamás.Quien defiende su tiempo, defiende su dinero.Quien quisiere ser mucho tiempo viejo, comiéncelo presto: Aconseja moderación en las acciones y modo de proceder, porque los excesos de la juventud abrevian la vida.Quien tiempo tuvo y tiempo perdió, con una albarda castíguele Dios: Refrán contra los holgazanes.Quien se burla del tiempo, el tiempo se burla de él: Quien se entrega a la ociosidad, cuando quiera aprovechar el tiempo malogrado, se encontrará con que ya es tarde.Quien su tiempo gasta en cosas vanas, no ve la muerte que está sobre sus espaldas.Si al entrar la noche canta el gallo, tiempo vario: El canto del gallo al anochecer indica que va a cambiar el tiempo.Siempre halla tiempo la buena voluntad: Indica que el que quiere hacer una cosa no deja de buscar la oportunidad para hacerla, aun a costa de algún sacrificio.Sufro y callo, por el tiempo en que me hallo: El que se encuentra en condiciones de inferioridad, respecto a otro que le molesta, no tiene más remedio que aguantar, esperando tiempos mejores.Tiempo ido, nunca más venido.Tiempo pasado, nunca más tornado: Pone de manifiesto el paso del tiempo.Tiempo ido, tiempo perdido: El tiempo que dejamos pasar sin haber hecho nada de provecho es un tiempo que no volverá, siendo, por lo tanto, perdido totalmente.Tiempo, palabras y piedras no tienen vuelta.Tiempo pasado traído a la memoria, da más pena que gloria.Tiempo pasado, con pena recordado.Tiempo perdido, para siempre ido.Tiempo mal gastado, nunca recobrado.Tiempo no aprovechado, viento que ha pasado.Tiempo tuviste: no culpes al tiempo, sino a ti que lo perdiste.Tiempo que se marchó, pájaro que voló.Tiempo y dinero, grandes remedios.Tiempo y reflexión, matan pasión: Indica que todo se olvida con el transcurso de los años.Tiempo y tiento quieren las cosas, y más las más dificultosas.Tiempo tras tiempo, y agua tras viento.Tiempo, viento, mujer y fortuna, son tan mudables como la luna.Todo lo cura el tiempo.Tomar el tiempo como viene: Aconseja resignación en las adversidades.Vaca que huele el suelo y después mira al cielo, te dice que va a cambiar el tiempo.Vuela el tiempo de corrida, y tras él va nuestra vida.A cada día le basta su afán: Indica que todos los días tienen alguna preocupación.Al buen día, ábrele la puerta: Aconseja que se aprovechen las situaciones favorables.Cada día que amanece, el número de tontos crece: Se utiliza este refrán cuando oímos alguna tontería.Día de devoción, víspera de trabajo: La huelga de un día supone mayor labor al siguiente.Días y ollas lo componen todo: Indica que con tiempo y paciencia todo se alcanza.El día de mañana no debe echarnos a perder el de hoy: Aconseja que no se preocupe uno por anticipado de lo que pueda ocurrir más adelante.El día nublado engaña al amo y al criado: porque no se hace en él todo el trabajo que se debiera, ya que anochece más temprano.El que cada día va bien, el domingo no tiene que ponerse: Aconseja no gastar todo a la vez, sino reservar para otras circunstancias.El que en sí confía, yerra cada día: Indica la conveniencia de no fiarlo todo a nuestras propias fuerzas.La noche para pensar y el día para obrar.Ninguno sabe, cuando se levanta, en qué ha de acabar el día: Indica lo inútil que es querer predecir el futuro.No hay cosa más socorrida que un día tras otro, porque lo que no se hace hoy, mañana tampoco: Refrán contra los vagos que no se preocupan por el trabajo.Otro día amanecerá y hará buen tiempo: Se emplea para consolar a los que se quejan de su mala suerte.Primer día de agosto, primer día de invierno: Indica que en el citado mes empeora el tiempo.Todos los días olla, amarga el caldo: Indica que por buena que sea una cosa se hace fastidiosa cuando es muy repetida.Todos los días se aprende una cosa nueva.Lunes, galbana; martes, mala gana; miércoles, tormenta; jueves, mala venta; viernes, a cazar ; sábado, a pescar, y el domingo se hizo para descansar: Indica las actividades de algunos hombres durante los días de la semana,El lunes mojo, el martes lavo; el miércoles cuelo; el jueves saco, el viernes cierno; el sábado amaso, el domingo, que yo hilaría, todos me dicen que no es día: Indica las actividades que realiza una mujer durante los días de la semana.Ya sale mi Juan por su carga de leña; Lunes, sale; martes, llega; miércoles, corta; jueves, seca; viernes, carga; sábado, de vuelta, y ya está aquí mi Juan con su carga de leña: Indica la actividad del hijo durante la semana.Del lunes al martes, pocas son las artes: Indica que en breve distancia de tiempo poca o ninguna variación de fortuna puede experimentarse.Lo que en domingo se agencia, la botica se lo lleva: Indica que no se debe trabajar en día de fiesta.Lunes y martes, ni gallina eches, ni hija cases: Se consideran estos días de mal agüero.Ni en lunes ni en martes vayas sin dinero a ninguna parte: Pone de manifiesto la necesidad del dinero.No hay lunes sin su tarea: Significa que el día siguiente a la fiesta, siempre hay trabajo.Riñen en lunes los amantes, y se buscan el martes: Indica que las riñas entre enamorados no suelen ser duraderas.Buenos y malos martes los hay en todas partes: Significa que a pesar de considerar al martes como día aciago, este día puede ser bueno o malo.Cada martes tiene su domingo: Indica que todo lo malo tiene su compensación.En todos los tiempos y en todas partes hay domingos que son martes: Significa que hay días de fiesta que son desdichados.En todas partes tiene cada semana su martes: Indica que en todos los lugares hay algún día de la semana que es desfavorable.En martes ni tu hija cases ni tu marrano mates: Porque se considera ese día de la semana de mal agüero.En martes, ni te cases ni te embarques.En martes no emprendas viaje.Para el que no tiene fortuna de su parte, todos los días son martes: Significa que para las personas que no tienen suerte todos los días son desfavorables.Por muchas vueltas que dieron los sastres no sacaron el antruejo (carnaval) del martes.Si quieres que tu gallina buenos pollos saque, no le pongas trece huevos ni la eches en martes: Ambas circunstancias se consideran supersticiosas.Para quien no tiene a la suerte de su parte, todos los días son martes.Ponerse en medio como el miércoles: Se aplica a las personas que se colocan en el medio y estorban a las demás.Ni miércoles sin sol, ni viuda sin dolor, ni muchacha sin amor: Se sobreentiende el verbo \"hay\".El jueves de la Ascensión, cerezas en Oviedo y trigo en León: Indica que en ese día son esos los productos que más se venden en las citadas localidades.Jueves, buen día para las mujeres: Porque es el día de mercado.Jueves lardero (el anterior a Carnaval), carne en el puchero.Tres días hay en el año que relucen más que el sol: Jueves Santo, Corpus Christi y el día de la Ascención: En las citadas fechas se celebran tres festividades muy importantes.Haber aprendido una cosa en viernes: Repetir lo que se aprendió u oyó en una ocasión, venga o no a cuento.Quien gasta el viernes, come el sábado: Indica que si gasta dinero el viernes es porque tiene para gastar otros días de la semana.No hay Domingo de Ramos sin Viernes Santo: Significa que al día de fiesta le precede otro de trabajo y de esfuerzo personal.En invierno y en verano, el buen dormir es en sábado: Indica que se duerme con más tranquilidad porque al día siguiente no hay que trabajar.La mujer del barbero, los sábados come puchero: Porque los barberos, los sábados tienen más trabajo.No hay sábado sin sol, ni viudita sin duelo, ni triste sin consuelo.Ni sábado sin sol, ni moza sin amor, ni viejo sin dolor.Quien en sábado descansa, el domingo trabaja.Domingo de Carnaval, mucho vino y poco pan: Significa que en esta fecha suele predominar la bebida.Domingo de Ramos, quien no estrena, no tiene manos: Alude a la costumbre popular de estrenar algo el Domingo de Ramos.Del 15 al 21, no falla ninguno: Se refiere al tercer domingo del mesEn todos tiempos y en todas partes hay domingos que son martes: Significa que algunos domingos son desdichados.Hoy domingo, y mañana fiesta; buena vida es ésta.Arrimarse al sol que más calienta: Aplícase a aquellas personas que no teniendo más ideal que su bienestar, cambian de opinión cuando ven que el que está en el poder puede favorecerlos en algo.Cuando llueve y hace sol, sale el arco del Señor: Se refiere al arco iris, que siempre se presenta en estas condiciones.Cuando llueve y hace sol, baila el perro y el pastor: Indica que los pastores se alegran al coincidir estas circunstancias.Cuando llueve y hace sol, se ríe nuestro Señor, cuando llueve y hace luna, se ríe la Virgen pura.De nada sirve que el sol alumbre para quien cierra los ojos: En inútil que se pretenda convencer a quien se niega a escuchar razonamientos.Donde entra el sol, no entra el doctor: Porque el sol es portador de salud.El que no madruga con el sol no goza del día: Indica que el levantarse tarde no suele reportar beneficios.El sol de marzo pega como un mazo: Significa que en este mes suele ser intenso el sol.Es capaz de jugar el sol por salir: Se aplica: a los que se dejan dominar por el vicio del juego.No dejar a uno ni a sol ni a sombra: No separarse de él.Para todos sale el sol: Indica que todos tenemos derecho a la vida, y que no se nos debe privar de los medios para conseguirla.Quien del sol está muy cerca más se calienta: Quienes se arriman a las personas importantes son los que más partido sacan en su provecho.Ser como el sol de invierno, que sale tarde y se pone luego: Se aplica a la amistad o el cariño, que siendo mucho al principio, se acaba con facilidad y dura poco tiempo.Sol de casa no calienta: Todo lo que se posee suele ser menos estimado.Sol que madruga, presto se arruga: Las cosas intempestivas por demasiado tempranas suelen malograrse.San Lorenzo (10 de agosto) calura y San Vicente (22 de enero) friúra; la uno y lo otro poco dura.Calor, agua, ni hielo, nunca se queda en el cielo: Indica que en todas las estaciones hace su tiempo correspondiente.De Virgen a Virgen (del Carmen a la Asunción) el calor aprieta firme; antes y después, verano es.De Virgen a Virgen los sesos se derriten: Del 16 de julio al 15 de agosto el calor del verano es más intenso.Calor de mayo, valor da al año: Porque en este mes se decide el resultado de las cosechas.Calor de marzo temprano, es para el campo muy sano: Ya que facilita el desarrollo de las plantas sembradas anteriormente.Beber frío y comer caliente: Indica las circunstancias que han de acompañar a la comida y a la bebida para que no dañen la salud.Cada cual siente frío como anda vestido: Las cosas se sienten más o menos, según el temperamento de cada uno.A helada de abril, hambre ha de seguir.Las heladas de abril se conocen al medir: Por lo maléficas que son en este tiempo, ya que estropean las cosechas.A las tres escarchas la lluvia no falta: Indica que después de haber tres heladas llueve.Antes faltará la madre a su hijo que la helada al granizo: Significa que después de granizar hiela.Año de heladas, año de parvas; quita de la era el heno, que el año viene bueno.Año que empieza helando, año de grano.Año que entra helando, mucho pan viene anunciando.Ara con helada, matarás la grama: Arrancadas con el arado las raíces de las malas hierbas, con facilidad se secan en tiempo de hielos.Blancas heladas, detrás las aguas.Blando hielo es de lluvia mensajero.Calor, agua, ni hielo, nunca se queda en el cielo: Significa que en cada estación del año hace su tiempo correspondiente.De todos los santos a navidad, o bien llover o bien helar: Señala los agentes atmosféricos típicos de esa época.Diciembre mojado y enero bien helado: Pone de manifiesto el tiempo característico de los citados meses.Dios nos libre de las heladas de mayo: Porque perjudican los frutos del campo.Hasta San Urbano (25 de mayo), no está libre el hortelano: Significa que no está libre de las heladas.Helada blanca, madrina es del agua: Las heladas intensas anuncian la lluvia.Hielo de enero, del agua es mensajero.Invierno que mucho hiela, cosecha de fruta espera: Porque retrasa su madurez y evita que la dañen las heladas tardías.Lluvias con helada traen buena añada.No hay miedo a frío ni helada, sino a lluvia porfiada: La lluvia intensa y continua perjudica más que el frío y el hielo.Por la Encarnación (25 de marzo), los últimos hielos son.Por todos los Santos, hielo en lo alto; por San Andrés (30 de noviembre), hielo en los pies.Ruín hierba, la helada no la quema.Si hiela por San Blas (3 de febrero), treinta días más: Se sobreentiende \"helará\".Si por San Jorge (23 de abril) hiela, no cogerás muchas peras.Agua de mayo, pan para todo el año: Manifiesta la utilidad de las lluvias en este mes para obtener una buena cosecha.Agua del cielo, no quita riego: Indica que el agua de lluvia a veces es insuficiente para el campo y éste necesita riegos.Agua por San Juan quita vino y no da pan: Pone de manifiesto que la lluvia en junio perjudica al campo.Cuando el gato mucho se lava, cerca está el agua. Cuando la perdiz canta, señal es de agua.Cuando retozan los gatos, agua o viento al canto. Cuando el sol da candilazo, agua en breve plazo: Los refranes anteriores ponen de manifiesto la proximidad de la lluvia.Cuando llueve, todos nos mojamos: Indica que cuando ocurre una desgracia general a todos nos toca parte.De entonces acá ya ha llovido algo: Denota que ha transcurrido mucho tiempo desde que se verificó aquello de que se trata.El que no se alegra cuando llueve, nada tiene: Se refiere a los que no poseen tierras y sembrados.En lloviendo el día de Santa Bibiana llueve cuarenta días y una semana: Significa que si llueve el 2 de diciembre, festividad de Santa Bibiana, lloverá durante 40 días más.Eso es lo mismo que llover sobre mojado: Se aplica a la persona que no puede reponerse pronto de alguna desgracia, por sobrevenirle inmediatamente otra u otras.Gran calma, señal es de agua.Junta de moscas o de mosquitos al oscurecer, anuncian que va a llover: Los signos externos, anteriormente citados, ponen de manifiesto la proximidad de la lluvia.La primera lluvia de agosto apresura el mosto: Porque beneficia los viñedos.Lluvia con aire de Toro, ablandó piedras y todo: Indica lo intensa que es la lluvia cuando va acompañada del viento que sopla del citado pueblo.Lluvias de enero llenan cuba, tinaja y granero: Indica que la lluvia del citado mes es beneficiosa para las vides, los olivos y los trigos.Lluvioso febrero, año cebadero: Las lluvias abundantes en el mes indicado anuncian buen año de cebada.Lluvia por San Lorenzo (10 de agosto), lluvia a buen tiempo: Cuando llueve en la citada época beneficia a los campos.Nunca llueve a gusto de todos: Indica lo difícil que es encontrar pareceres iguales.San Marcos, rey de los charcos: Significa que el día 25 de abril, festividad de San Marcos evangelista, suele llover mucho.Si en julio llueve, renace la hierba y el trigo se pierde: Significa que las lluvias en julio perjudican la cosecha de trigo.Si ves desprender el hollín de las chimeneas, cierto será que llover veas.Aire castellano, malo en invierno y peor en verano.Aire recio y nube baja, agua sobre la paja: Estas dos circunstancias indican que pronto lloverá.Aire solano, agua en la mano: Significa que cuando reina dicho viento lloverá pronto.Al que no se mueve no le da el aire: Aconseja la actividad para conseguir un fin.Aves que revolotean, viento ventean.Cuando el aire es favorable, aprovecharle: Aconseja no perder las ocasiones favorables.Cuando el viento sopla airado, no hay paz en ningún lado: Indica los efectos negativos del viento intenso.Cuando saltan los corderos, señal de viento.Dijo a la lluvia el viento: \"Cuando tú vienes, yo me ausento\".El viento de San Matías (24 de febrero) reina cuarenta días.El viento que anda el día de San Martín (11 de noviembre) domina hasta el fin: Si hace viento el día de San Martín lo hará hasta el final de mes.El viento que corra por San Juan (24 de junio), todo el año reinará.Líbrate, si estás sudado, del aire encallejonado: Porque ese aire es muy perjudicial.No haciendo viento, no hace mal tiempo. Tiempo ventoso, tiempo asqueroso.Viento, mujer y fortuna, mudables como la luna. Viento y ventura, poco dura.Año de piedra, ninguno medra: Porque ese año la cosecha es escasa.Avenidas y pedriscos a muchos hacen pobres y a ninguno rico: Ya que perjudican las cosechas.El granizo empobrece, pero no encarece.Granizar, víspera de helar: Significa que al día siguiente de granizar, normalmente, hiela.Por piedra no es mal año; mas a quien da, dáselo malo: Indica que la piedra perjudica los sembrados.Sol amarillo, agua o granizo.Después de muchos truenos, viene una gran lluvia: Las disputas y voces suelen acabar descargando la ira.Los truenos y la mar enseñan a rezar: Porque en las circunstancias desfavorables el hombre acude a Dios.Niebla rabuda, al tercer día muda: Indica que el tiempo cambia cuando la niebla es muy pertinaz.Andar toda la noche y amanecer en casa: Se aplica a los que parece que hacen mucho y no hacen nada.Cerner noche y día y no echar harina: Pone de manifiesto la desgracia de algunos que trabajan toda su vida y no prosperan.De noche todos los gatos son pardos: Indica que en la obscuridad de la noche es fácil disimular las acciones de las personas.Entre noche y día no hay pared: Indica que entre dos personas o cosas que son iguales, no hay motivo para establecer alguna diferencia.Haz de la noche, noche y del día, día, y vivirás con alegría: Refrán contra los que trasnochan demasiado.La noche se ha hecho para descansar y el día para trabajar.Lo que de noche se hace, de día se ve: Indica que las faltas de lo que se hace por la noche se ven al día siguiente.Ni volver de noche esquina, ni meterte en lo que hace la vecina: Aconseja que no se trasnoche ni se preocupe por lo que hacen los demás.____________'"
            ],
            "application/vnd.google.colaboratory.intrinsic+json": {
              "type": "string"
            }
          },
          "metadata": {},
          "execution_count": 6
        }
      ],
      "source": [
        "text"
      ]
    },
    {
      "cell_type": "markdown",
      "source": [
        "### 2 - Preprocesamiento de datos en español\n",
        "Elimina tildes, caracteres especiales, números, signos de puntuación"
      ],
      "metadata": {
        "id": "rDKGlrIxXOrb"
      }
    },
    {
      "cell_type": "code",
      "source": [
        "def preprocess_clean_text(text):    \n",
        "    # sacar tildes de las palabras:\n",
        "    text = text.lower()\n",
        "    text = unicodedata.normalize('NFKD', text).encode('ascii', 'ignore').decode('utf-8', 'ignore')\n",
        "    # quitar caracteres especiales\n",
        "    pattern = r'[^a-zA-z0-9.,!?/:;\\\"\\'\\s]' # [^ : ningún caracter de todos estos\n",
        "    # (termina eliminando cualquier caracter distinto de los del regex)\n",
        "    text = re.sub(pattern, '', text)\n",
        "    pattern = r'[^a-zA-z.,!?/:;\\\"\\'\\s]' # igual al anterior pero sin cifras numéricas\n",
        "    # quitar números\n",
        "    text = re.sub(pattern, '', text)\n",
        "    # quitar caracteres de puntuación\n",
        "    text = ''.join([c for c in text if c not in string.punctuation])\n",
        "    return text"
      ],
      "metadata": {
        "id": "OV4DYFc-XTku"
      },
      "execution_count": null,
      "outputs": []
    },
    {
      "cell_type": "code",
      "source": [
        "sample_text = '-La invitación a aprovechar el tiempo: Aprovecha el tiempo, que vale el cielo.'\n",
        "preprocess_clean_text(sample_text)\n"
      ],
      "metadata": {
        "colab": {
          "base_uri": "https://localhost:8080/",
          "height": 35
        },
        "id": "O_ifxmCG6jBf",
        "outputId": "71312c22-5333-41e3-8f44-f1cd5c4b34c4"
      },
      "execution_count": null,
      "outputs": [
        {
          "output_type": "execute_result",
          "data": {
            "text/plain": [
              "'la invitacion a aprovechar el tiempo aprovecha el tiempo que vale el cielo'"
            ],
            "application/vnd.google.colaboratory.intrinsic+json": {
              "type": "string"
            }
          },
          "metadata": {},
          "execution_count": 8
        }
      ]
    },
    {
      "cell_type": "markdown",
      "source": [
        "### 3 Pipeline con Spacy\n",
        "\n",
        "Tokenization → Lemmatization → Remove stopwords → Remove punctuation"
      ],
      "metadata": {
        "id": "5fx8yP8ZWfaQ"
      }
    },
    {
      "cell_type": "code",
      "source": [
        "def spacy_process(text):\n",
        "\n",
        "    doc = nlp(preprocess_clean_text(text))\n",
        "\n",
        "    # Tokenization & lemmatization\n",
        "    lemma_list = []\n",
        "    for token in doc:\n",
        "        lemma_list.append(token.lemma_)\n",
        "    # print(\"Tokenize+Lemmatize:\")\n",
        "    # print(lemma_list)\n",
        "    \n",
        "    # Stop words\n",
        "    filtered_sentence =[]\n",
        "    for word in lemma_list:\n",
        "        lexeme = nlp.vocab[word]\n",
        "        if lexeme.is_stop == False:\n",
        "            filtered_sentence.append(word) \n",
        "\n",
        "    # Filter punctuation\n",
        "    filtered_sentence = [w for w in filtered_sentence if w not in string.punctuation]\n",
        "\n",
        "    # print(\"Remove stopword & punctuation: \")\n",
        "    # print(filtered_sentence)\n",
        "    return filtered_sentence"
      ],
      "metadata": {
        "id": "IBsF1cu_WYyu"
      },
      "execution_count": null,
      "outputs": []
    },
    {
      "cell_type": "code",
      "source": [
        "spacy_process(sample_text)"
      ],
      "metadata": {
        "colab": {
          "base_uri": "https://localhost:8080/"
        },
        "id": "zWEPkvNJ65wO",
        "outputId": "bcf1bc0c-fa34-4c56-874c-6ccfc32166a2"
      },
      "execution_count": null,
      "outputs": [
        {
          "output_type": "execute_result",
          "data": {
            "text/plain": [
              "['invitacion',\n",
              " 'aprovechar',\n",
              " 'tiempo',\n",
              " 'aprovechar',\n",
              " 'tiempo',\n",
              " 'valer',\n",
              " 'cielo']"
            ]
          },
          "metadata": {},
          "execution_count": 10
        }
      ]
    },
    {
      "cell_type": "markdown",
      "metadata": {
        "id": "DKNcDGcisajf"
      },
      "source": [
        "### 3 - Arma el corpus"
      ]
    },
    {
      "cell_type": "code",
      "source": [
        "corpus = text.replace(\":\",\".\").split(\".\") # divide en oraciones\n",
        "corpus[10:20]"
      ],
      "metadata": {
        "id": "779yOe-Yw4DO",
        "colab": {
          "base_uri": "https://localhost:8080/"
        },
        "outputId": "9867fb03-7020-47ea-e1e7-2a591edd8ca9"
      },
      "execution_count": null,
      "outputs": [
        {
          "output_type": "execute_result",
          "data": {
            "text/plain": [
              "[' El tiempo cura más que el sol',\n",
              " ' El tiempo es gran médico para el alma y para el cuerpo',\n",
              " ' El tiempo todo lo cura y todo lo muda',\n",
              " ' No hay mal que el tiempo no alivie su tormento',\n",
              " '-La invitación a aprovechar el tiempo',\n",
              " ' Aprovecha el tiempo, que vale el cielo',\n",
              " ' Con el tiempo y la paciencia se adquiere la ciencia',\n",
              " '-La fugacidad del tiempo',\n",
              " ' Vuela el tiempo de corrida, y tras él va nuestra vida',\n",
              " ' Tiempo pasado, jamás tornado']"
            ]
          },
          "metadata": {},
          "execution_count": 11
        }
      ]
    },
    {
      "cell_type": "markdown",
      "metadata": {
        "id": "Jl8r6d9ZuyR9"
      },
      "source": [
        "### 5 - Utilizar vectores TF-IDF y la similitud coseno construido con el corpus de la página"
      ]
    },
    {
      "cell_type": "code",
      "execution_count": null,
      "metadata": {
        "id": "IRYFHcBfk2Gt"
      },
      "outputs": [],
      "source": [
        "from sklearn.feature_extraction.text import TfidfVectorizer\n",
        "from sklearn.metrics.pairwise import cosine_similarity\n",
        "\n",
        "# Respuestas random para cuando no hay match\n",
        "respuestas_sin_match = [\"Así es la vida\", \"No sé qué decirte\", \"Y bueno\", \"vos sabrás\"]\n",
        "\n",
        "def generate_response(user_input, corpus_param):\n",
        "    response = ''\n",
        "    # Sumar al corpus la pregunta del usuario para calcular\n",
        "    # su cercania con otros documentos/sentencias\n",
        "    # la entrada del usuario se usa para tokenizar y vectorizar\n",
        "    corpus = corpus_param.copy()\n",
        "    corpus.append(user_input)\n",
        "\n",
        "    # Crear un vectorizer TFIDF que utilice nuestra funcion \"spacy_process\"\n",
        "    # para obtener los tokens lematizados\n",
        "    word_vectorizer = TfidfVectorizer(tokenizer=spacy_process)\n",
        "\n",
        "    # Crear los vectores a partir del corpus\n",
        "    all_word_vectors = word_vectorizer.fit_transform(corpus)\n",
        "\n",
        "    # Calcular la similitud coseno entre todas los documentos excepto el agregado\n",
        "    similar_vector_values = cosine_similarity(all_word_vectors[-1], all_word_vectors)\n",
        "\n",
        "    # Obtener el índice del vector más cercano a nuestra oración\n",
        "    # --> descartando la similitud contra nuestor vector propio\n",
        "    similar_sentence_number = similar_vector_values.argsort()[0][-2]\n",
        "    vector_matched = similar_vector_values[0][similar_sentence_number]\n",
        "\n",
        "    if vector_matched == 0: # si la similaridad coseno fue nula (ningún término en común)\n",
        "        response = respuestas_sin_match[np.random.randint(len(respuestas_sin_match))]\n",
        "    else:\n",
        "        response = corpus[similar_sentence_number] # del corpus obtener el documento más similar\n",
        "\n",
        "    return response"
      ]
    },
    {
      "cell_type": "markdown",
      "metadata": {
        "id": "OK-BuXPBybSp"
      },
      "source": [
        "### 6 - Ensayar el sistema\n",
        "El sistema intentará encontrar la parte de la página que más se relaciona con nuestro texto de entrada. \n",
        "La idea es que un humano diga una expresión y el bot responda con una reflexión acorde. Por ejemplo:\n",
        "\n",
        "* humano: por qué estoy trabajando!\n",
        "* bot: La noche se ha hecho para descansar y el día para trabajar\n"
      ]
    },
    {
      "cell_type": "code",
      "source": [
        "def bot_response(human_text):\n",
        "    print(f\"humano: {human_text}\")    \n",
        "    resp = generate_response(human_text, corpus)\n",
        "    print(f\"bot: {resp}\\n\")\n",
        "    return resp"
      ],
      "metadata": {
        "id": "-1wKW0AEXwmk"
      },
      "execution_count": null,
      "outputs": []
    },
    {
      "cell_type": "markdown",
      "source": [
        "Un ejemplo con match ..."
      ],
      "metadata": {
        "id": "L2czH9wJZMR7"
      }
    },
    {
      "cell_type": "code",
      "source": [
        "response = bot_response('Qué tiempo loco!')"
      ],
      "metadata": {
        "colab": {
          "base_uri": "https://localhost:8080/"
        },
        "id": "soo1QFi9zR51",
        "outputId": "e6252498-e051-4a24-aab3-dc6cc581d72d"
      },
      "execution_count": null,
      "outputs": [
        {
          "output_type": "stream",
          "name": "stdout",
          "text": [
            "humano: Qué tiempo loco!\n",
            "bot: Tiempo tuviste\n",
            "\n"
          ]
        }
      ]
    },
    {
      "cell_type": "markdown",
      "source": [
        "Un ejemplo sin match ..."
      ],
      "metadata": {
        "id": "W0BQjBicZPhj"
      }
    },
    {
      "cell_type": "code",
      "source": [
        "response = bot_response('estos bots no saben nada de python')"
      ],
      "metadata": {
        "colab": {
          "base_uri": "https://localhost:8080/"
        },
        "id": "8f-q4c5iIpYf",
        "outputId": "9bc3f676-3f03-4344-ec71-1dd63ab9aecb"
      },
      "execution_count": null,
      "outputs": [
        {
          "output_type": "stream",
          "name": "stdout",
          "text": [
            "humano: estos bots no saben nada de python\n",
            "bot: Y bueno\n",
            "\n"
          ]
        }
      ]
    },
    {
      "cell_type": "markdown",
      "source": [
        "Le pasamos al bot un banco de frases (una a una) para ver qué nos responde "
      ],
      "metadata": {
        "id": "kLwqqFkAZTDE"
      }
    },
    {
      "cell_type": "code",
      "source": [
        "frases_humano = ['vacía está mi billetera ...', 'la helada estuvo complicada', 'por qué estoy trabajando!',\n",
        "                 'el viento se llevó los techos', 'qué cara está la cebolla', 'qué nostalgia!',\n",
        "                 'Acá pelando papas, y vos?', 'lunes, martes, miercoles, cuándo se termina esta semana...',\n",
        "                 'hace frío o calor?', 'los pajaritos cantan, la vieja se levanta',\n",
        "                 'sin gpu', 'se cortó la luz, que macana', 'tormenta mañana???',\n",
        "                 'se va a inundar todo con la tormenta.', 'Me voy a ver Netflix'  \n",
        "                 ]\n",
        "for _, frase in enumerate(frases_humano):\n",
        "  bot_response(frase)\n"
      ],
      "metadata": {
        "colab": {
          "base_uri": "https://localhost:8080/"
        },
        "id": "sMM2Ls3PId2L",
        "outputId": "90f0c816-ad53-4a01-d1c9-170f3da93381"
      },
      "execution_count": null,
      "outputs": [
        {
          "output_type": "stream",
          "name": "stdout",
          "text": [
            "humano: vacía está mi billetera ...\n",
            "bot: No sé qué decirte\n",
            "\n",
            "humano: la helada estuvo complicada\n",
            "bot:  Indica que después de haber tres heladas llueve\n",
            "\n",
            "humano: por qué estoy trabajando!\n",
            "bot: La noche se ha hecho para descansar y el día para trabajar\n",
            "\n",
            "humano: el viento se llevó los techos\n",
            "bot: No haciendo viento, no hace mal tiempo\n",
            "\n",
            "humano: qué cara está la cebolla\n",
            "bot:  A mal tiempo, buena cara\n",
            "\n",
            "humano: qué nostalgia!\n",
            "bot: vos sabrás\n",
            "\n",
            "humano: Acá pelando papas, y vos?\n",
            "bot: De entonces acá ya ha llovido algo\n",
            "\n",
            "humano: lunes, martes, miercoles, cuándo se termina esta semana...\n",
            "bot: En todas partes tiene cada semana su martes\n",
            "\n",
            "humano: hace frío o calor?\n",
            "bot: Calor de mayo, valor da al año\n",
            "\n",
            "humano: los pajaritos cantan, la vieja se levanta\n",
            "bot: Ninguno sabe, cuando se levanta, en qué ha de acabar el día\n",
            "\n",
            "humano: sin gpu\n",
            "bot: No sé qué decirte\n",
            "\n",
            "humano: se cortó la luz, que macana\n",
            "bot: Ya sale mi Juan por su carga de leña; Lunes, sale; martes, llega; miércoles, corta; jueves, seca; viernes, carga; sábado, de vuelta, y ya está aquí mi Juan con su carga de leña\n",
            "\n",
            "humano: tormenta mañana???\n",
            "bot: Hoy domingo, y mañana fiesta; buena vida es ésta\n",
            "\n",
            "humano: se va a inundar todo con la tormenta.\n",
            "bot: Lunes, galbana; martes, mala gana; miércoles, tormenta; jueves, mala venta; viernes, a cazar ; sábado, a pescar, y el domingo se hizo para descansar\n",
            "\n",
            "humano: Me voy a ver Netflix\n",
            "bot: No sé qué decirte\n",
            "\n"
          ]
        }
      ]
    },
    {
      "cell_type": "code",
      "source": [
        "corpus[-20:]"
      ],
      "metadata": {
        "id": "NCDQ2ta65z4-"
      },
      "execution_count": null,
      "outputs": []
    },
    {
      "cell_type": "markdown",
      "source": [
        "### El bot es muy lento! :(\n",
        "\n",
        "El bot tarda muchísimo en dar una respuesta. Inspeccionando el código se pudo determinar que el mayor tiempo es en la tokenización, específicamente en la instanciación `nlp()`, la cual se ejecuta internamente para cada frase del corpus."
      ],
      "metadata": {
        "id": "2BeABm55jAJ5"
      }
    },
    {
      "cell_type": "code",
      "source": [
        "import time\n",
        "\n",
        "inicio = time.time()\n",
        "doc = nlp(sample_text)\n",
        "fin = time.time()\n",
        "print(f\"Instanciando nlp() spacy_stanza: {fin-inicio}\")\n",
        "\n",
        "nlp = spacy.load('en_core_web_sm')\n",
        "\n",
        "inicio = time.time()\n",
        "doc = nlp(sample_text)\n",
        "fin = time.time()\n",
        "print(f\"Instanciando nlp() spacy: {fin-inicio}\")\n"
      ],
      "metadata": {
        "colab": {
          "base_uri": "https://localhost:8080/"
        },
        "id": "MoIYooeJifLM",
        "outputId": "7de7fe39-4f50-482b-8700-e38316a7a9ab"
      },
      "execution_count": null,
      "outputs": [
        {
          "output_type": "stream",
          "name": "stdout",
          "text": [
            "Instanciando nlp() spacy_stanza: 1.0933876037597656\n",
            "Instanciando nlp() spacy: 0.07859325408935547\n"
          ]
        }
      ]
    },
    {
      "cell_type": "markdown",
      "source": [
        "El problema es específicamente con la librería `spacy_stanza`. Con la librería `spacy` este fragmento de código es más de 10 veces más rápido.\n",
        "Por otro lado, el mismo proceso utilizando las librerías de `NLTK` es aún algo más rápido que `spacy`.\n",
        "\n",
        "(Nota: La última vez que corrí la notebook, Google me denegó la GPU por lo tanto estos tiempos son con CPU)"
      ],
      "metadata": {
        "id": "2_vvtB8Qjhm4"
      }
    },
    {
      "cell_type": "markdown",
      "metadata": {
        "id": "iTwpDae3lCzb"
      },
      "source": [
        "## Conclusiones\n",
        "Se construyó un bot que combina los dos bots explicados en clase: Parsear una página de internet pero usando Spacy para poder trabajar con el idioma español.\n",
        "\n",
        "### Características del bot\n",
        "- El texto base es una página con refranes. La idea de este bot es que el humano diga una frase y el bot responda con una reflexión o refrán pertinente a la frase.\n",
        "- Para hacerlo más interesante, cuando no hay match el bot responde una frase aleatoria tomada de una lista prearmada.\n",
        "\n",
        "### Resultados\n",
        "- En la mayoría de los casos las respuestas del bot tienen bastante sentido pensando en su objetivo: simplemente responder algo que tenga relación con la frase del humano. Incluso muchas respuestas resultan muy graciosas.\n",
        "- Se puede ver cómo sirve usar las librerías de español. Por ejemplo a la frase \"por qué estoy trabajando!\" el bot responde \"La noche se ha hecho para descansar y el día para trabajar\", es decir que entendió que las palabras trabajando y trabajar tienen el mismo origen. Por otro lado para la frase 'se cortó la luz' la respuesta habla de 'cortar leña'. Si bien semánticamente no hay relación entre las dos oraciones, es claro que para responder, el algoritmo usó la raiz del verbo cortar.\n",
        "\n",
        "### Mejoras posibles\n",
        "- El proceso de vectorización y comparación es bastante lento. Se pudo verificar que el problema era con la librería `spacy_stanza`. Una alternativa es usar la librería base `spacy` o la librería `NLTK` pero se perderían las ventajas del idioma español. Otra alternativa de implementación (no interactiva) podría ser armar un banco de preguntas, luego ampliar el corpus con todas las preguntas en un solo paso, y realizar el proceso de preprocesamiento y vectorización una única vez antes de comparar e imprimir todas las preguntas con sus respuestas.\n",
        "- Se podría guardar el historial de preguntas y la vectorización, para el caso que el humano repita una frase (igual o con las mismas palabras). Además de ahorrar tiempo de procesamiento, el bot podría responder algo diferente (por ejemplo la segunda frase en orden de similitud).\n",
        "- Se podría poner un threshold para que el bot considere match solo arriba de un valor dado mayor que cero. Por ejemplo a la frase \"Acá pelando papas, y vos?\" el bot responde \"De entonces acá ya ha llovido algo: ...\" lo cual no tiene sentido, solo hay una coincidencia en la palabra \"acá\" (que por otro lado podría haber sido una *stopword*).\n",
        "- Otra mejora a realizar sería el parseo de la página ya que está hecha ad-hoc para el texto específico que se eligió de ejemplo.\n"
      ]
    },
    {
      "cell_type": "markdown",
      "metadata": {
        "id": "_IQ_InuBlCzc"
      },
      "source": [
        "\n"
      ]
    }
  ],
  "metadata": {
    "colab": {
      "collapsed_sections": [],
      "provenance": [],
      "include_colab_link": true
    },
    "kernelspec": {
      "display_name": "Python 3",
      "language": "python",
      "name": "python3"
    },
    "language_info": {
      "codemirror_mode": {
        "name": "ipython",
        "version": 3
      },
      "file_extension": ".py",
      "mimetype": "text/x-python",
      "name": "python",
      "nbconvert_exporter": "python",
      "pygments_lexer": "ipython3",
      "version": "3.8.10"
    },
    "accelerator": "GPU",
    "gpuClass": "standard"
  },
  "nbformat": 4,
  "nbformat_minor": 0
}