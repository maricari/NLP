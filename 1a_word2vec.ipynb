{
  "nbformat": 4,
  "nbformat_minor": 0,
  "metadata": {
    "colab": {
      "provenance": [],
      "collapsed_sections": [],
      "include_colab_link": true
    },
    "kernelspec": {
      "name": "python3",
      "display_name": "Python 3"
    },
    "language_info": {
      "name": "python"
    }
  },
  "cells": [
    {
      "cell_type": "markdown",
      "metadata": {
        "id": "view-in-github",
        "colab_type": "text"
      },
      "source": [
        "<a href=\"https://colab.research.google.com/github/maricari/NLP/blob/main/1a_word2vec.ipynb\" target=\"_parent\"><img src=\"https://colab.research.google.com/assets/colab-badge.svg\" alt=\"Open In Colab\"/></a>"
      ]
    },
    {
      "cell_type": "markdown",
      "metadata": {
        "id": "Ue5hxxkdAQJg"
      },
      "source": [
        "<img src=\"https://github.com/FIUBA-Posgrado-Inteligencia-Artificial/procesamiento_lenguaje_natural/raw/main/logoFIUBA.jpg\" width=\"500\" align=\"center\">\n",
        "\n",
        "\n",
        "# Procesamiento de lenguaje natural\n",
        "## Word2vect\n"
      ]
    },
    {
      "cell_type": "markdown",
      "source": [
        "## Alumna: María Carina Roldán"
      ],
      "metadata": {
        "id": "bsCPDKusLlRC"
      }
    },
    {
      "cell_type": "code",
      "metadata": {
        "id": "kCED1hh-Ioyf"
      },
      "source": [
        "import numpy as np"
      ],
      "execution_count": 1,
      "outputs": []
    },
    {
      "cell_type": "markdown",
      "metadata": {
        "id": "DMOa4JPSCJ29"
      },
      "source": [
        "### Datos"
      ]
    },
    {
      "cell_type": "code",
      "metadata": {
        "id": "RIO7b8GjAC17"
      },
      "source": [
        "corpus = np.array(['que dia es hoy', 'martes el dia de hoy es martes', 'martes muchas gracias'])"
      ],
      "execution_count": 2,
      "outputs": []
    },
    {
      "cell_type": "markdown",
      "metadata": {
        "id": "8WqdaTmO8P1r"
      },
      "source": [
        "Documento 1 --> que dia es hoy \\\n",
        "Documento 2 --> martes el dia de hoy es martes \\\n",
        "Documento 3 --> martes muchas gracias"
      ]
    },
    {
      "cell_type": "markdown",
      "metadata": {
        "id": "FVHxBRNzCMOS"
      },
      "source": [
        "### 1 - Obtener el vocabulario del corpus (los términos utilizados)\n",
        "- Cada documento transformarlo en una lista de términos\n",
        "- Armar un vector de términos no repetidos de todos los documentos"
      ]
    },
    {
      "cell_type": "code",
      "source": [
        "def get_terminos(corpus):\n",
        "  t = np.empty(len(corpus), dtype=object) \n",
        "  l = len(corpus)\n",
        "  for i in range(l):\n",
        "    t[i] = corpus[i].split()\n",
        "  return(t)\n",
        "\n",
        "def vocabulario(corpus):\n",
        "  v = set()\n",
        "  l = len(corpus)\n",
        "  for i in range(l):\n",
        "    v.update(corpus[i].split())\n",
        "  return(v)"
      ],
      "metadata": {
        "id": "zDF3l2PnNHhZ"
      },
      "execution_count": 3,
      "outputs": []
    },
    {
      "cell_type": "code",
      "source": [
        "terminos = get_terminos(corpus)\n",
        "print(f\"Términos:\\n{terminos}\")\n",
        "vec = vocabulario(corpus)\n",
        "print(f\"\\nVocabulario:\\n{vec}\")"
      ],
      "metadata": {
        "colab": {
          "base_uri": "https://localhost:8080/"
        },
        "id": "7CME-478e3Yq",
        "outputId": "70d574b0-9be0-4878-c6fe-2b98b2aac994"
      },
      "execution_count": 4,
      "outputs": [
        {
          "output_type": "stream",
          "name": "stdout",
          "text": [
            "Términos:\n",
            "[list(['que', 'dia', 'es', 'hoy'])\n",
            " list(['martes', 'el', 'dia', 'de', 'hoy', 'es', 'martes'])\n",
            " list(['martes', 'muchas', 'gracias'])]\n",
            "\n",
            "Vocabulario:\n",
            "{'de', 'el', 'hoy', 'que', 'dia', 'gracias', 'es', 'martes', 'muchas'}\n"
          ]
        }
      ]
    },
    {
      "cell_type": "markdown",
      "metadata": {
        "id": "RUhH983FI7It"
      },
      "source": [
        "### 2- OneHot encoding\n",
        "Data una lista de textos, devolver una matriz con la representación oneHotEncoding de estos"
      ]
    },
    {
      "cell_type": "code",
      "source": [
        "def onehotencoding(corpus):\n",
        "  terminos = get_terminos(corpus)\n",
        "  vec = vocabulario(corpus)\n",
        "\n",
        "  onehot = np.zeros((len(corpus),len(vec)), dtype=int)\n",
        "  # armo la representación onehot por columnas\n",
        "  for j, term in enumerate(vec): # recorro la lista de términos no repetidos\n",
        "    for i in range(len(terminos)): # recorro los documentos\n",
        "      onehot[i, j] = 1 if term in terminos[i] else 0  \n",
        "  return(onehot)"
      ],
      "metadata": {
        "id": "TUhlcn-NeksQ"
      },
      "execution_count": 5,
      "outputs": []
    },
    {
      "cell_type": "code",
      "source": [
        "onehot = onehotencoding(corpus)\n",
        "\n",
        "print(\"Corpus:\")\n",
        "for i in range(len(terminos)):\n",
        "  print(terminos[i])\n",
        "print(f\"\\nTérminos:\\n{vec}\")\n",
        "print(f\"\\nOnehot encoding:\\n{onehot}\")"
      ],
      "metadata": {
        "colab": {
          "base_uri": "https://localhost:8080/"
        },
        "id": "yHE17bGUQppn",
        "outputId": "86f28a7f-c82a-43d0-a898-53da0ab499ce"
      },
      "execution_count": 6,
      "outputs": [
        {
          "output_type": "stream",
          "name": "stdout",
          "text": [
            "Corpus:\n",
            "['que', 'dia', 'es', 'hoy']\n",
            "['martes', 'el', 'dia', 'de', 'hoy', 'es', 'martes']\n",
            "['martes', 'muchas', 'gracias']\n",
            "\n",
            "Términos:\n",
            "{'de', 'el', 'hoy', 'que', 'dia', 'gracias', 'es', 'martes', 'muchas'}\n",
            "\n",
            "Onehot encoding:\n",
            "[[0 0 1 1 1 0 1 0 0]\n",
            " [1 1 1 0 1 0 1 1 0]\n",
            " [0 0 0 0 0 1 0 1 1]]\n"
          ]
        }
      ]
    },
    {
      "cell_type": "markdown",
      "metadata": {
        "id": "IIyWGmCpJVQL"
      },
      "source": [
        "### 3- Vectores de frecuencia\n",
        "Data una lista de textos, devolver una matriz con la representación de frecuencia de estos"
      ]
    },
    {
      "cell_type": "code",
      "source": [
        "def vec_frecuencia(corpus):\n",
        "  terminos = get_terminos(corpus)\n",
        "\n",
        "  vec = vocabulario(corpus)\n",
        "  # auxiliar para saber en que posición está cada palabra\n",
        "  vec_dict = dict()\n",
        "  for i in enumerate(vec):\n",
        "    vec_dict[i[1]] = i[0]\n",
        "\n",
        "  freq = np.zeros((len(corpus),len(vec)), dtype=int)\n",
        "  # armo el vector de frecuencia por filas\n",
        "  for i in range(len(terminos)): # recorro los documentos\n",
        "    for j in terminos[i]: # recorro los términos no repetidos\n",
        "      freq[i, vec_dict[j]]+=1\n",
        "  return(freq)"
      ],
      "metadata": {
        "id": "mpjuzALVfcA6"
      },
      "execution_count": 7,
      "outputs": []
    },
    {
      "cell_type": "code",
      "source": [
        "freq = vec_frecuencia(corpus)\n",
        "\n",
        "print(\"Corpus:\")\n",
        "for i in range(len(terminos)):\n",
        "  print(terminos[i])\n",
        "print(f\"\\nTérminos:\\n{vec}\")\n",
        "print(f\"\\nVectores de frecuencia:\\n{freq}\")"
      ],
      "metadata": {
        "colab": {
          "base_uri": "https://localhost:8080/"
        },
        "id": "vPJ7D32cXZjW",
        "outputId": "dac400e7-7672-4518-bb2f-4d1a635e20c7"
      },
      "execution_count": 15,
      "outputs": [
        {
          "output_type": "stream",
          "name": "stdout",
          "text": [
            "Corpus:\n",
            "['que', 'dia', 'es', 'hoy']\n",
            "['martes', 'el', 'dia', 'de', 'hoy', 'es', 'martes']\n",
            "['martes', 'muchas', 'gracias']\n",
            "\n",
            "Términos:\n",
            "{'de', 'el', 'hoy', 'que', 'dia', 'gracias', 'es', 'martes', 'muchas'}\n",
            "\n",
            "Vectores de frecuencia:\n",
            "[[0 0 1 1 1 0 1 0 0]\n",
            " [1 1 1 0 1 0 1 2 0]\n",
            " [0 0 0 0 0 1 0 1 1]]\n"
          ]
        }
      ]
    },
    {
      "cell_type": "markdown",
      "metadata": {
        "id": "z_Ot8HvWJcBu"
      },
      "source": [
        "### 4- TF-IDF\n",
        "Data una lista de textos, devolver una matriz con la representacion TFIDF"
      ]
    },
    {
      "cell_type": "code",
      "source": [
        "def get_tf_idf(corpus):\n",
        "  terminos = get_terminos(corpus)\n",
        "  vec = vocabulario(corpus)\n",
        "  freq = vec_frecuencia(corpus)\n",
        "  onehot = onehotencoding(corpus)\n",
        "\n",
        "  idf = np.ones((1,len(vec)), dtype=int) # inicializo idf en 1\n",
        "  N = len(corpus)                        # numerador\n",
        "  den = sum(onehot)                      # denominador\n",
        "  idf = idf*np.log(N/den)                # idf\n",
        "  tf_idf = freq * idf                    # tf_idf\n",
        "\n",
        "  return(vec, freq, idf, tf_idf)"
      ],
      "metadata": {
        "id": "6UDijAacgLCB"
      },
      "execution_count": 9,
      "outputs": []
    },
    {
      "cell_type": "code",
      "source": [
        "(vec, freq, idf, tf_idf) = get_tf_idf(corpus)"
      ],
      "metadata": {
        "id": "wV3P8pNfg2xv"
      },
      "execution_count": 10,
      "outputs": []
    },
    {
      "cell_type": "code",
      "source": [
        "print(\"Documentos:\")\n",
        "terminos = get_terminos(corpus)\n",
        "for i in range(len(terminos)):\n",
        "  print(terminos[i])\n",
        "print(f\"\\nTérminos:\\n{vec}\")\n",
        "print(f\"\\nTF:\\n{freq}\")\n",
        "print(f\"\\nIDF:\\n{np.array_str(idf, precision=3)}\")\n",
        "print(f\"\\nTF_IDF:\\n{np.array_str(tf_idf, precision=3)}\")"
      ],
      "metadata": {
        "colab": {
          "base_uri": "https://localhost:8080/"
        },
        "id": "6_kXKIElZwyG",
        "outputId": "580a7f8c-d35f-4a9a-fc4b-b8a62350faa0"
      },
      "execution_count": 16,
      "outputs": [
        {
          "output_type": "stream",
          "name": "stdout",
          "text": [
            "Documentos:\n",
            "['que', 'dia', 'es', 'hoy']\n",
            "['martes', 'el', 'dia', 'de', 'hoy', 'es', 'martes']\n",
            "['martes', 'muchas', 'gracias']\n",
            "\n",
            "Términos:\n",
            "{'de', 'el', 'hoy', 'que', 'dia', 'gracias', 'es', 'martes', 'muchas'}\n",
            "\n",
            "TF:\n",
            "[[0 0 1 1 1 0 1 0 0]\n",
            " [1 1 1 0 1 0 1 2 0]\n",
            " [0 0 0 0 0 1 0 1 1]]\n",
            "\n",
            "IDF:\n",
            "[[1.099 1.099 0.405 1.099 0.405 1.099 0.405 0.405 1.099]]\n",
            "\n",
            "TF_IDF:\n",
            "[[0.    0.    0.405 1.099 0.405 0.    0.405 0.    0.   ]\n",
            " [1.099 1.099 0.405 0.    0.405 0.    0.405 0.811 0.   ]\n",
            " [0.    0.    0.    0.    0.    1.099 0.    0.405 1.099]]\n"
          ]
        }
      ]
    },
    {
      "cell_type": "markdown",
      "metadata": {
        "id": "xMcsfndWJjm_"
      },
      "source": [
        "### 5 - Comparación de documentos\n",
        "Realizar una funcion que reciba el corpus y el índice de un documento y devuelva los documentos ordenados por la similitud coseno"
      ]
    },
    {
      "cell_type": "code",
      "metadata": {
        "id": "PUbfVnzIIoMj"
      },
      "source": [
        "def cosine_similarity(a, b):\n",
        "    return np.dot(a, b) / (np.linalg.norm(a) * (np.linalg.norm(b)))"
      ],
      "execution_count": 12,
      "outputs": []
    },
    {
      "cell_type": "code",
      "source": [
        "def compara_doc(corpus, idx):\n",
        "  if (idx<0 or idx>len(corpus)-1):\n",
        "    return None\n",
        "\n",
        "  docs = np.empty(len(corpus), dtype=object) # los docs que va a retornar\n",
        "  cs = np.zeros(len(corpus), dtype=float)    # array con las similaridades\n",
        "\n",
        "  terminos = get_terminos(corpus)\n",
        "  (vec, freq, idf, tf_idf) = get_tf_idf(corpus)\n",
        "\n",
        "  N = len(corpus)\n",
        "  for i in range(N):\n",
        "    cs[i] = cosine_similarity(tf_idf[idx], tf_idf[i])\n",
        "\n",
        "  idxs = np.argsort(cs)\n",
        "  cs_sorted = np.zeros(len(corpus), dtype=float) # array con las similaridades (descendente)\n",
        "  for i_rev in range(N):\n",
        "    i = N-i_rev-1\n",
        "    docs[i_rev] = corpus[idxs[i]]\n",
        "    cs_sorted[i_rev] = cs[idxs[i]]\n",
        "  return docs, cs_sorted"
      ],
      "metadata": {
        "id": "btm8EQtsiM1I"
      },
      "execution_count": 13,
      "outputs": []
    },
    {
      "cell_type": "code",
      "source": [
        "star = \"(*)\"\n",
        "for cual in range(len(corpus)):\n",
        "  print(f\"Similitud con '{corpus[cual]}'\\n\")\n",
        "  docs, cs = compara_doc(corpus, cual)\n",
        "  for i in range(len(corpus)):\n",
        "    el_mismo = star if docs[i] == corpus[cual] else \"\"\n",
        "    print(f\"  {docs[i]} (cosine similarity:{cs[i]:.3f}) {el_mismo}\")\n",
        "  print(\"\\n\")\n",
        "print(f\"{star} Es el mismo documento\")"
      ],
      "metadata": {
        "colab": {
          "base_uri": "https://localhost:8080/"
        },
        "id": "x4c06xFJioDx",
        "outputId": "3a5d1123-995f-4e07-f70e-4a20778ee7a6"
      },
      "execution_count": 14,
      "outputs": [
        {
          "output_type": "stream",
          "name": "stdout",
          "text": [
            "Similitud con 'que dia es hoy'\n",
            "\n",
            "  que dia es hoy (cosine similarity:1.000) (*)\n",
            "  martes el dia de hoy es martes (cosine similarity:0.200) \n",
            "  martes muchas gracias (cosine similarity:0.000) \n",
            "\n",
            "\n",
            "Similitud con 'martes el dia de hoy es martes'\n",
            "\n",
            "  martes el dia de hoy es martes (cosine similarity:1.000) (*)\n",
            "  que dia es hoy (cosine similarity:0.200) \n",
            "  martes muchas gracias (cosine similarity:0.108) \n",
            "\n",
            "\n",
            "Similitud con 'martes muchas gracias'\n",
            "\n",
            "  martes muchas gracias (cosine similarity:1.000) (*)\n",
            "  martes el dia de hoy es martes (cosine similarity:0.108) \n",
            "  que dia es hoy (cosine similarity:0.000) \n",
            "\n",
            "\n",
            "(*) Es el mismo documento\n"
          ]
        }
      ]
    },
    {
      "cell_type": "markdown",
      "source": [
        "### Ejemplo aumentando el corpus"
      ],
      "metadata": {
        "id": "ALS9FMszx2ms"
      }
    },
    {
      "cell_type": "code",
      "source": [
        "corpus2 = np.array(['que dia es hoy', 'martes el dia de hoy es martes', 'martes muchas gracias',\n",
        "                   'los lunes son lunes', 'el dia de hoy es lunes'])\n",
        "cual=4\n",
        "print(f\"Similitud con '{corpus2[cual]}'\\n\")\n",
        "docs, cs = compara_doc(corpus2, cual)\n",
        "for i in range(len(corpus2)):\n",
        "  el_mismo = star if docs[i] == corpus2[cual] else \"\"\n",
        "  print(f\"  {docs[i]} (cosine similarity:{cs[i]:.3f}) {el_mismo}\")\n",
        "print(\"\\n\")\n",
        "print(f\"{star} Es el mismo documento\")"
      ],
      "metadata": {
        "colab": {
          "base_uri": "https://localhost:8080/"
        },
        "id": "88YPmhuUxGsL",
        "outputId": "2e15d5fa-6e74-4cec-990c-6491f141d39a"
      },
      "execution_count": 20,
      "outputs": [
        {
          "output_type": "stream",
          "name": "stdout",
          "text": [
            "Similitud con 'el dia de hoy es lunes'\n",
            "\n",
            "  el dia de hoy es lunes (cosine similarity:1.000) (*)\n",
            "  martes el dia de hoy es martes (cosine similarity:0.562) \n",
            "  los lunes son lunes (cosine similarity:0.316) \n",
            "  que dia es hoy (cosine similarity:0.235) \n",
            "  martes muchas gracias (cosine similarity:0.000) \n",
            "\n",
            "\n",
            "(*) Es el mismo documento\n"
          ]
        }
      ]
    },
    {
      "cell_type": "markdown",
      "source": [
        "### Comentarios\n",
        "Una mejora que se puede hacer es crear una clase y colocar todas las funciones como métodos. De esta forma evitaría recalcular los términos y el vocabulario cada vez que se llama a una de las funciones."
      ],
      "metadata": {
        "id": "oJTXFW87h1DK"
      }
    }
  ]
}