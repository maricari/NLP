{
  "cells": [
    {
      "cell_type": "markdown",
      "metadata": {
        "id": "view-in-github",
        "colab_type": "text"
      },
      "source": [
        "<a href=\"https://colab.research.google.com/github/maricari/NLP/blob/main/3c_Custom_embedding_con_Gensim_homework.ipynb\" target=\"_parent\"><img src=\"https://colab.research.google.com/assets/colab-badge.svg\" alt=\"Open In Colab\"/></a>"
      ]
    },
    {
      "cell_type": "markdown",
      "metadata": {
        "id": "sZd5yLnnHOK0"
      },
      "source": [
        "<img src=\"https://github.com/hernancontigiani/ceia_memorias_especializacion/raw/master/Figures/logoFIUBA.jpg\" width=\"500\" align=\"center\">\n",
        "\n",
        "\n",
        "# Procesamiento de lenguaje natural\n",
        "## Custom embedddings con Gensim\n",
        "\n"
      ]
    },
    {
      "cell_type": "markdown",
      "source": [
        "## Alumna: María Carina Roldán"
      ],
      "metadata": {
        "id": "iVUzVlqvn-Hy"
      }
    },
    {
      "cell_type": "markdown",
      "metadata": {
        "id": "vA7nqkumo9z9"
      },
      "source": [
        "### Objetivo\n",
        "Utilizar un corpus para crear embeddings de palabras basado en ese contexto, y luego explicar los resultados."
      ]
    },
    {
      "cell_type": "code",
      "execution_count": 1,
      "metadata": {
        "id": "lFToQs5FK5uZ"
      },
      "outputs": [],
      "source": [
        "import pandas as pd\n",
        "import matplotlib.pyplot as plt\n",
        "import seaborn as sns\n",
        "\n",
        "import multiprocessing\n",
        "from gensim.models import Word2Vec"
      ]
    },
    {
      "cell_type": "markdown",
      "metadata": {
        "id": "g07zJxG7H9vG"
      },
      "source": [
        "### Datos\n",
        "Se trabajará con dos fuentes de datos.\n",
        "* Una página con refranes alusivos al tiempo. (la misma utilizada para el boy con Spacy)\n",
        "* Una página con frases positivas, refranes y dichos (un poco graciosas o cursis :P pero útiles para el ejercicio)"
      ]
    },
    {
      "cell_type": "code",
      "source": [
        "import numpy as np\n",
        "\n",
        "# Para leer y parsear el texto en HTML\n",
        "import urllib.request\n",
        "import bs4 as bs\n",
        "\n",
        "# Para limpiar el texto\n",
        "import re"
      ],
      "metadata": {
        "id": "Wqb0P61Fp_k-"
      },
      "execution_count": 2,
      "outputs": []
    },
    {
      "cell_type": "markdown",
      "source": [
        "#### Lee y parsea la página de refranes alusivos al tiempo"
      ],
      "metadata": {
        "id": "4SnD_Y1GHA1U"
      }
    },
    {
      "cell_type": "code",
      "source": [
        "raw_html = urllib.request.urlopen('https://www.cervantesvirtual.com/obra-visor/refranes-alusivos-al-tiempo/html/')\n",
        "raw_html = raw_html.read()\n",
        "\n",
        "# Parsea el artículo\n",
        "article_html = bs.BeautifulSoup(raw_html, 'lxml')\n",
        "\n",
        "# Extrae el texto\n",
        "# Disclaimer!\n",
        "# Este texto es ad-hoc para esta página. No servirá para una página genérica\n",
        "\n",
        "article_section = article_html.find('section')\n",
        "article_text = article_section.text.split('PANIZO RODRIGUEZ, Juliana\\n')[1].split('BIBLIOGRAFÍA')[0]\n",
        "for titulo in ('EL TIEMPO','EL DIA','LOS DIAS DE LA SEMANA','EL SOL','EL CALOR','EL FRIO','LA HELADA','EL AGUA','EL VIENTO','LA PIEDRA, LOS TRUENOS Y LA NIEBLA','LA NOCHE'):\n",
        "  article_text = article_text.replace(titulo, '')\n",
        "\n",
        "# Remueve espacios, saltos de línea o tabulación que pudieran haber quedado\n",
        "text = re.sub(r'\\s+', ' ', article_text)\n",
        "text"
      ],
      "metadata": {
        "colab": {
          "base_uri": "https://localhost:8080/",
          "height": 139
        },
        "id": "AXQtjV_8qLDf",
        "outputId": "60ca2634-9d9e-4f4d-86c6-7f0f6cff663a"
      },
      "execution_count": 3,
      "outputs": [
        {
          "output_type": "execute_result",
          "data": {
            "text/plain": [
              "'Para Rodríguez Marín el refrán es \"un dicho popular, sentencioso y breve, de verdad comprobada, generalmente simbólico y expuesto en forma poética, que contiene una regla de conducta u otra enseñanza\".Los refranes que inserto a continuación alusivos al tiempo, algunos los he recopilado en Valladolid y pueblos de la provincia y otros proceden de las obras señaladas en la bibliografía. La edad de los informantes oscila entre los veintidós y los ochenta y ocho años.Señalan, entre otros, los siguientes aspectos:-El valor del tiempo: El tiempo es oro. El tiempo es la cosa más preciosa del mundo. El tiempo, que es lo que más vale, no lo da Dios de balde. Quien defiende su tiempo, defiende su dinero.-Los efectos curativos del tiempo: El tiempo cura más que el sol. El tiempo es gran médico para el alma y para el cuerpo. El tiempo todo lo cura y todo lo muda. No hay mal que el tiempo no alivie su tormento.-La invitación a aprovechar el tiempo: Aprovecha el tiempo, que vale el cielo. Con el tiempo y la paciencia se adquiere la ciencia.-La fugacidad del tiempo: Vuela el tiempo de corrida, y tras él va nuestra vida. Tiempo pasado, jamás tornado. El tiempo vuela como el viento. El dinero se va y viene, pero el tiempo ido no vuelve. Tiempo presente, al mentarlo ya es ausente.-Los días de mal agüero: En martes ni te cases ni te embarques. En martes ni tu hija cases ni tu marrano mates. Si quieres que tu gallina buenos pollos saque, no la pongas trece huevos ni le eches en martes-Los efectos nocivos del granizo y del viento: Año de piedra, ninguno medra. Avenidas y pedriscos a muchos hacen pobres y a ninguno rico. Cuando el viento sopla airado, no hay paz en ningún lado. Tiempo ventoso, tiempo asqueroso.-Los beneficios que aporta la lluvia: Agua de mayo, pan para todo el año-Pronósticos meteorológicos: Cuando la perdiz canta, señal es de agua. Cuando el gato mucho se lava, cerca está el agua. A mal tiempo, buena cara: Aconseja resignación ante los malos trances de la vida.Aprovecha el tiempo que vale el cielo: Aconseja no desperdiciar la vida en devaneos, sino emplearlo en cosas de provecho.Aproveche bien a febrero quien holgó por enero: Invita a aprovechar el tiempo a las personas que no lo han hecho anteriormente.A su tiempo maduran las uvas: Refrán que aconseja tener paciencia para conseguir un fin.Cabras que mucho estornudan, tiempo que se muda.Coge las flores del buen tiempo, que pronto llegará tu invierno: Invita a aprovechar el tiempo porque pronto llegará la vejez.Con hacer que hacemos, todo el tiempo perdemos: Refrán contra los que aparentan trabajar y no hacen nada.Con el mal tiempo desaparecen los falsos amigos y las moscas: Indica que los amigos abundan cuando tenemos bienes y desaparecen cuando carecemos de ellos.Con el tiempo se muda el gesto: Indica que el paso del tiempo va cambiando el carácter.Con el tiempo todo se acaba: Significa que todas las cosas con el tiempo tienen su fin.Con el tiempo y paciencia se adquiere la ciencia: Indica que la sabiduría depende de los años.Cuando riendo, cuando riñendo, el tiempo se pasa y nos vamos yendo: Pone de manifiesto la fugacidad de todo lo terrenal.Cuando San Roque (16 de Agosto) vuelve la espalda, el tiempo cambia: (Significa que por estas fechas suele empeorar el tiempo.Danto tiempo al tiempo, el mozo llega a viejo.Dar tiempo al tiempo: Esperar la oportunidad para hacer una cosa.Del tiempo desperdiciado y de las palabras ociosas se ha de dar cuenta a Dios: Indica que el tiempo debe emplearse en obras útiles para la humanidad.De navidad a navidad, sólo un año va.De todos los bienes somos avarientos, menos del tiempo: Pone de manifiesto que a veces no valoramos el tiempo.El día de ayer nadie lo volverá a ver.El dinero se va y viene,. pero el tiempo ido no vuelve: Indica la fugacidad del tiempo.El hombre discreto, para todo tiene tiempo: Alaba a las personas que aprovechan el tiempo.El presente dura tan poco que ya es pasado cuando lo nombro.Tiempo presente, al mentarlo ya es ausente.Tiempo presente, un segundo: lo demás, o es pasado o es futuro.El tiempo aclara las cosas: Hay muchas circunstancias que no se pueden resolver en un momento, pero que pasando el tiempo tendrán su explicación.El tiempo cura las cosas y trae las rosas: Indica que el tiempo se encarga de curar las heridas y trae otros tiempos mejores.El tiempo cura más que el sol.El tiempo es buen consejero.El tiempo es devorador y consumidor de todas las cosas: Pone de manifiesto que no hay nada a lo que el tiempo no ponga fin.El tiempo es un gran médico, para el alma y para el cuerpo.El tiempo es inventor de novedades y descubridor de verdades.El tiempo es la cosa más preciosa del mundo: Porque el que se pierde no se recupera jamás.El tiempo es oro: Aconseja que no se desperdicie el tiempo por lo mucho que vale.El tiempo es padre de la verdad, y a relucir la sacará.El tiempo es una tierra que Dios nos ha dado: unos la labran, y otros la dejan de erizado: Indica que unos aprovechan el tiempo y otros no.El tiempo de los tres hermanos: la pereza, la moquita y el soplamanos: Se refiere al invierno.El tiempo enseña al que no tiene maestro.El tiempo da gusto a todos: unas veces seca y otras hace lodos.El tiempo, siempre borrando y siempre escribiendo.El tiempo no es oro, pero vale más que el oro: se recobra el oro que se perdió, y el tiempo perdido, no.El tiempo quiebra sin canto ni piedra: Con la edad vienen muchas molestias y enfermedades, que van demoliendo a las personas.El tiempo no pasa en balde: El paso del tiempo produce un desgaste en las personas y en los objetos.El tiempo, que es lo que más vale, nos lo da Dios de balde: Pondera la gratuidad del tiempo.El tiempo pasado, siempre fue loado: Refrán que pone de manifiesto la alabanza del tiempo pasado.El tiempo, ni siempre da canas, ni siempre da seso: Indica que el paso del tiempo, en algunas personas, no produce los frutos deseados, que son: sabiduría y experiencia.El tiempo pasado, tuvo mucho de bueno y mucho de malo; el presente de todo tiene; y el que vendrá, de todo tendrá; porque dicha cumplida, sólo en la otra vida,El tiempo todo lo cura y todo lo muda.El tiempo trae las rosas, y después de nevar y llover, las vuelve a traer.El tiempo trae las cosas nuevas, y el tiempo las hace viejas y se las lleva.El tiempo todo lo trae y todo se lo lleva.El tiempo vuela que se las pela.El tiempo vuela sin alas.El tiempo vuela como el viento.El tiempo y el dinero corren con el viento.El tiempo todo lo cura: Las penas más graves se van borrando cuando pasan los años. Si durasen siempre como el primer día que se experimentan, sería imposible la vida.El tiempo trae las rosas: Indica a las personas que están sufriendo, que vendrán épocas mejores.En el mucho tiempo está la prudencia: Indica que sólo con los años se adquiere esa virtud.En tiempo de higos no hay amigos: Censura a los que en los tiempos de su prosperidad o fortuna se olvidan de los amigos que tuvieron antes.Es bien dar tiempo al tiempo: Indica que es conveniente saber esperar.Gran pérdida es al letrado, el tiempo mal gastado.Hay que dar tiempo al tiempo: Invita a tener paciencia y saber esperar.Hay que tomar el tiempo conforme viene: Aconseja tener paciencia cuando un asunto le sale a uno mal.Hay tiempos de hablar y tiempos de callar: Pone de manifiesto que las cosas deben hacerse con oportunidad, porque cada una tiene marcada su ocasión.La pera dura, el tiempo la madura: Invita a tener paciencia.Lo que el tiempo trae, el tiempo se lo lleva.Los mayores imposibles, el tiempo y el dinero los hacen posibles.Más vale llegar a tiempo que rondar un año: Da mejor resultado llegar con oportunidad a alguna parte, aprovechando las circunstancias favorables, que ir y venir repetidas veces fuera de ocasión.Mi tiempo es el campo en que yo siembro.No es peor que el tiempo pase, sino que nos lleve por delante.No hay mal que el tiempo no alivie su tormento: Indica que el paso del tiempo alivia las penas.No hay plazo tan largo, que no llegue al cabo.No se hace sin tiempo lo que en todo tiempo se puede hacer.¡Oh, tiempo desperdiciado, quién te hubiera aprovechado!Para ennoblecer, engordar y saber, tiempo es menester: Las circunstancias indicadas se adquieren con el paso del tiempo.Para verdades, el tiempo, y para justicias, Dios.Por Santa Eulalia (12 de febrero), siempre el tiempo cambia: Significa que en esta época suele mejorar el tiempo.Quien da a tiempo un buen consejo, da mucho más que si diera dinero: Porque el dinero se termina, pero la experiencia de lo aconsejado no se pierde jamás.Quien defiende su tiempo, defiende su dinero.Quien quisiere ser mucho tiempo viejo, comiéncelo presto: Aconseja moderación en las acciones y modo de proceder, porque los excesos de la juventud abrevian la vida.Quien tiempo tuvo y tiempo perdió, con una albarda castíguele Dios: Refrán contra los holgazanes.Quien se burla del tiempo, el tiempo se burla de él: Quien se entrega a la ociosidad, cuando quiera aprovechar el tiempo malogrado, se encontrará con que ya es tarde.Quien su tiempo gasta en cosas vanas, no ve la muerte que está sobre sus espaldas.Si al entrar la noche canta el gallo, tiempo vario: El canto del gallo al anochecer indica que va a cambiar el tiempo.Siempre halla tiempo la buena voluntad: Indica que el que quiere hacer una cosa no deja de buscar la oportunidad para hacerla, aun a costa de algún sacrificio.Sufro y callo, por el tiempo en que me hallo: El que se encuentra en condiciones de inferioridad, respecto a otro que le molesta, no tiene más remedio que aguantar, esperando tiempos mejores.Tiempo ido, nunca más venido.Tiempo pasado, nunca más tornado: Pone de manifiesto el paso del tiempo.Tiempo ido, tiempo perdido: El tiempo que dejamos pasar sin haber hecho nada de provecho es un tiempo que no volverá, siendo, por lo tanto, perdido totalmente.Tiempo, palabras y piedras no tienen vuelta.Tiempo pasado traído a la memoria, da más pena que gloria.Tiempo pasado, con pena recordado.Tiempo perdido, para siempre ido.Tiempo mal gastado, nunca recobrado.Tiempo no aprovechado, viento que ha pasado.Tiempo tuviste: no culpes al tiempo, sino a ti que lo perdiste.Tiempo que se marchó, pájaro que voló.Tiempo y dinero, grandes remedios.Tiempo y reflexión, matan pasión: Indica que todo se olvida con el transcurso de los años.Tiempo y tiento quieren las cosas, y más las más dificultosas.Tiempo tras tiempo, y agua tras viento.Tiempo, viento, mujer y fortuna, son tan mudables como la luna.Todo lo cura el tiempo.Tomar el tiempo como viene: Aconseja resignación en las adversidades.Vaca que huele el suelo y después mira al cielo, te dice que va a cambiar el tiempo.Vuela el tiempo de corrida, y tras él va nuestra vida.A cada día le basta su afán: Indica que todos los días tienen alguna preocupación.Al buen día, ábrele la puerta: Aconseja que se aprovechen las situaciones favorables.Cada día que amanece, el número de tontos crece: Se utiliza este refrán cuando oímos alguna tontería.Día de devoción, víspera de trabajo: La huelga de un día supone mayor labor al siguiente.Días y ollas lo componen todo: Indica que con tiempo y paciencia todo se alcanza.El día de mañana no debe echarnos a perder el de hoy: Aconseja que no se preocupe uno por anticipado de lo que pueda ocurrir más adelante.El día nublado engaña al amo y al criado: porque no se hace en él todo el trabajo que se debiera, ya que anochece más temprano.El que cada día va bien, el domingo no tiene que ponerse: Aconseja no gastar todo a la vez, sino reservar para otras circunstancias.El que en sí confía, yerra cada día: Indica la conveniencia de no fiarlo todo a nuestras propias fuerzas.La noche para pensar y el día para obrar.Ninguno sabe, cuando se levanta, en qué ha de acabar el día: Indica lo inútil que es querer predecir el futuro.No hay cosa más socorrida que un día tras otro, porque lo que no se hace hoy, mañana tampoco: Refrán contra los vagos que no se preocupan por el trabajo.Otro día amanecerá y hará buen tiempo: Se emplea para consolar a los que se quejan de su mala suerte.Primer día de agosto, primer día de invierno: Indica que en el citado mes empeora el tiempo.Todos los días olla, amarga el caldo: Indica que por buena que sea una cosa se hace fastidiosa cuando es muy repetida.Todos los días se aprende una cosa nueva.Lunes, galbana; martes, mala gana; miércoles, tormenta; jueves, mala venta; viernes, a cazar ; sábado, a pescar, y el domingo se hizo para descansar: Indica las actividades de algunos hombres durante los días de la semana,El lunes mojo, el martes lavo; el miércoles cuelo; el jueves saco, el viernes cierno; el sábado amaso, el domingo, que yo hilaría, todos me dicen que no es día: Indica las actividades que realiza una mujer durante los días de la semana.Ya sale mi Juan por su carga de leña; Lunes, sale; martes, llega; miércoles, corta; jueves, seca; viernes, carga; sábado, de vuelta, y ya está aquí mi Juan con su carga de leña: Indica la actividad del hijo durante la semana.Del lunes al martes, pocas son las artes: Indica que en breve distancia de tiempo poca o ninguna variación de fortuna puede experimentarse.Lo que en domingo se agencia, la botica se lo lleva: Indica que no se debe trabajar en día de fiesta.Lunes y martes, ni gallina eches, ni hija cases: Se consideran estos días de mal agüero.Ni en lunes ni en martes vayas sin dinero a ninguna parte: Pone de manifiesto la necesidad del dinero.No hay lunes sin su tarea: Significa que el día siguiente a la fiesta, siempre hay trabajo.Riñen en lunes los amantes, y se buscan el martes: Indica que las riñas entre enamorados no suelen ser duraderas.Buenos y malos martes los hay en todas partes: Significa que a pesar de considerar al martes como día aciago, este día puede ser bueno o malo.Cada martes tiene su domingo: Indica que todo lo malo tiene su compensación.En todos los tiempos y en todas partes hay domingos que son martes: Significa que hay días de fiesta que son desdichados.En todas partes tiene cada semana su martes: Indica que en todos los lugares hay algún día de la semana que es desfavorable.En martes ni tu hija cases ni tu marrano mates: Porque se considera ese día de la semana de mal agüero.En martes, ni te cases ni te embarques.En martes no emprendas viaje.Para el que no tiene fortuna de su parte, todos los días son martes: Significa que para las personas que no tienen suerte todos los días son desfavorables.Por muchas vueltas que dieron los sastres no sacaron el antruejo (carnaval) del martes.Si quieres que tu gallina buenos pollos saque, no le pongas trece huevos ni la eches en martes: Ambas circunstancias se consideran supersticiosas.Para quien no tiene a la suerte de su parte, todos los días son martes.Ponerse en medio como el miércoles: Se aplica a las personas que se colocan en el medio y estorban a las demás.Ni miércoles sin sol, ni viuda sin dolor, ni muchacha sin amor: Se sobreentiende el verbo \"hay\".El jueves de la Ascensión, cerezas en Oviedo y trigo en León: Indica que en ese día son esos los productos que más se venden en las citadas localidades.Jueves, buen día para las mujeres: Porque es el día de mercado.Jueves lardero (el anterior a Carnaval), carne en el puchero.Tres días hay en el año que relucen más que el sol: Jueves Santo, Corpus Christi y el día de la Ascención: En las citadas fechas se celebran tres festividades muy importantes.Haber aprendido una cosa en viernes: Repetir lo que se aprendió u oyó en una ocasión, venga o no a cuento.Quien gasta el viernes, come el sábado: Indica que si gasta dinero el viernes es porque tiene para gastar otros días de la semana.No hay Domingo de Ramos sin Viernes Santo: Significa que al día de fiesta le precede otro de trabajo y de esfuerzo personal.En invierno y en verano, el buen dormir es en sábado: Indica que se duerme con más tranquilidad porque al día siguiente no hay que trabajar.La mujer del barbero, los sábados come puchero: Porque los barberos, los sábados tienen más trabajo.No hay sábado sin sol, ni viudita sin duelo, ni triste sin consuelo.Ni sábado sin sol, ni moza sin amor, ni viejo sin dolor.Quien en sábado descansa, el domingo trabaja.Domingo de Carnaval, mucho vino y poco pan: Significa que en esta fecha suele predominar la bebida.Domingo de Ramos, quien no estrena, no tiene manos: Alude a la costumbre popular de estrenar algo el Domingo de Ramos.Del 15 al 21, no falla ninguno: Se refiere al tercer domingo del mesEn todos tiempos y en todas partes hay domingos que son martes: Significa que algunos domingos son desdichados.Hoy domingo, y mañana fiesta; buena vida es ésta.Arrimarse al sol que más calienta: Aplícase a aquellas personas que no teniendo más ideal que su bienestar, cambian de opinión cuando ven que el que está en el poder puede favorecerlos en algo.Cuando llueve y hace sol, sale el arco del Señor: Se refiere al arco iris, que siempre se presenta en estas condiciones.Cuando llueve y hace sol, baila el perro y el pastor: Indica que los pastores se alegran al coincidir estas circunstancias.Cuando llueve y hace sol, se ríe nuestro Señor, cuando llueve y hace luna, se ríe la Virgen pura.De nada sirve que el sol alumbre para quien cierra los ojos: En inútil que se pretenda convencer a quien se niega a escuchar razonamientos.Donde entra el sol, no entra el doctor: Porque el sol es portador de salud.El que no madruga con el sol no goza del día: Indica que el levantarse tarde no suele reportar beneficios.El sol de marzo pega como un mazo: Significa que en este mes suele ser intenso el sol.Es capaz de jugar el sol por salir: Se aplica: a los que se dejan dominar por el vicio del juego.No dejar a uno ni a sol ni a sombra: No separarse de él.Para todos sale el sol: Indica que todos tenemos derecho a la vida, y que no se nos debe privar de los medios para conseguirla.Quien del sol está muy cerca más se calienta: Quienes se arriman a las personas importantes son los que más partido sacan en su provecho.Ser como el sol de invierno, que sale tarde y se pone luego: Se aplica a la amistad o el cariño, que siendo mucho al principio, se acaba con facilidad y dura poco tiempo.Sol de casa no calienta: Todo lo que se posee suele ser menos estimado.Sol que madruga, presto se arruga: Las cosas intempestivas por demasiado tempranas suelen malograrse.San Lorenzo (10 de agosto) calura y San Vicente (22 de enero) friúra; la uno y lo otro poco dura.Calor, agua, ni hielo, nunca se queda en el cielo: Indica que en todas las estaciones hace su tiempo correspondiente.De Virgen a Virgen (del Carmen a la Asunción) el calor aprieta firme; antes y después, verano es.De Virgen a Virgen los sesos se derriten: Del 16 de julio al 15 de agosto el calor del verano es más intenso.Calor de mayo, valor da al año: Porque en este mes se decide el resultado de las cosechas.Calor de marzo temprano, es para el campo muy sano: Ya que facilita el desarrollo de las plantas sembradas anteriormente.Beber frío y comer caliente: Indica las circunstancias que han de acompañar a la comida y a la bebida para que no dañen la salud.Cada cual siente frío como anda vestido: Las cosas se sienten más o menos, según el temperamento de cada uno.A helada de abril, hambre ha de seguir.Las heladas de abril se conocen al medir: Por lo maléficas que son en este tiempo, ya que estropean las cosechas.A las tres escarchas la lluvia no falta: Indica que después de haber tres heladas llueve.Antes faltará la madre a su hijo que la helada al granizo: Significa que después de granizar hiela.Año de heladas, año de parvas; quita de la era el heno, que el año viene bueno.Año que empieza helando, año de grano.Año que entra helando, mucho pan viene anunciando.Ara con helada, matarás la grama: Arrancadas con el arado las raíces de las malas hierbas, con facilidad se secan en tiempo de hielos.Blancas heladas, detrás las aguas.Blando hielo es de lluvia mensajero.Calor, agua, ni hielo, nunca se queda en el cielo: Significa que en cada estación del año hace su tiempo correspondiente.De todos los santos a navidad, o bien llover o bien helar: Señala los agentes atmosféricos típicos de esa época.Diciembre mojado y enero bien helado: Pone de manifiesto el tiempo característico de los citados meses.Dios nos libre de las heladas de mayo: Porque perjudican los frutos del campo.Hasta San Urbano (25 de mayo), no está libre el hortelano: Significa que no está libre de las heladas.Helada blanca, madrina es del agua: Las heladas intensas anuncian la lluvia.Hielo de enero, del agua es mensajero.Invierno que mucho hiela, cosecha de fruta espera: Porque retrasa su madurez y evita que la dañen las heladas tardías.Lluvias con helada traen buena añada.No hay miedo a frío ni helada, sino a lluvia porfiada: La lluvia intensa y continua perjudica más que el frío y el hielo.Por la Encarnación (25 de marzo), los últimos hielos son.Por todos los Santos, hielo en lo alto; por San Andrés (30 de noviembre), hielo en los pies.Ruín hierba, la helada no la quema.Si hiela por San Blas (3 de febrero), treinta días más: Se sobreentiende \"helará\".Si por San Jorge (23 de abril) hiela, no cogerás muchas peras.Agua de mayo, pan para todo el año: Manifiesta la utilidad de las lluvias en este mes para obtener una buena cosecha.Agua del cielo, no quita riego: Indica que el agua de lluvia a veces es insuficiente para el campo y éste necesita riegos.Agua por San Juan quita vino y no da pan: Pone de manifiesto que la lluvia en junio perjudica al campo.Cuando el gato mucho se lava, cerca está el agua. Cuando la perdiz canta, señal es de agua.Cuando retozan los gatos, agua o viento al canto. Cuando el sol da candilazo, agua en breve plazo: Los refranes anteriores ponen de manifiesto la proximidad de la lluvia.Cuando llueve, todos nos mojamos: Indica que cuando ocurre una desgracia general a todos nos toca parte.De entonces acá ya ha llovido algo: Denota que ha transcurrido mucho tiempo desde que se verificó aquello de que se trata.El que no se alegra cuando llueve, nada tiene: Se refiere a los que no poseen tierras y sembrados.En lloviendo el día de Santa Bibiana llueve cuarenta días y una semana: Significa que si llueve el 2 de diciembre, festividad de Santa Bibiana, lloverá durante 40 días más.Eso es lo mismo que llover sobre mojado: Se aplica a la persona que no puede reponerse pronto de alguna desgracia, por sobrevenirle inmediatamente otra u otras.Gran calma, señal es de agua.Junta de moscas o de mosquitos al oscurecer, anuncian que va a llover: Los signos externos, anteriormente citados, ponen de manifiesto la proximidad de la lluvia.La primera lluvia de agosto apresura el mosto: Porque beneficia los viñedos.Lluvia con aire de Toro, ablandó piedras y todo: Indica lo intensa que es la lluvia cuando va acompañada del viento que sopla del citado pueblo.Lluvias de enero llenan cuba, tinaja y granero: Indica que la lluvia del citado mes es beneficiosa para las vides, los olivos y los trigos.Lluvioso febrero, año cebadero: Las lluvias abundantes en el mes indicado anuncian buen año de cebada.Lluvia por San Lorenzo (10 de agosto), lluvia a buen tiempo: Cuando llueve en la citada época beneficia a los campos.Nunca llueve a gusto de todos: Indica lo difícil que es encontrar pareceres iguales.San Marcos, rey de los charcos: Significa que el día 25 de abril, festividad de San Marcos evangelista, suele llover mucho.Si en julio llueve, renace la hierba y el trigo se pierde: Significa que las lluvias en julio perjudican la cosecha de trigo.Si ves desprender el hollín de las chimeneas, cierto será que llover veas.Aire castellano, malo en invierno y peor en verano.Aire recio y nube baja, agua sobre la paja: Estas dos circunstancias indican que pronto lloverá.Aire solano, agua en la mano: Significa que cuando reina dicho viento lloverá pronto.Al que no se mueve no le da el aire: Aconseja la actividad para conseguir un fin.Aves que revolotean, viento ventean.Cuando el aire es favorable, aprovecharle: Aconseja no perder las ocasiones favorables.Cuando el viento sopla airado, no hay paz en ningún lado: Indica los efectos negativos del viento intenso.Cuando saltan los corderos, señal de viento.Dijo a la lluvia el viento: \"Cuando tú vienes, yo me ausento\".El viento de San Matías (24 de febrero) reina cuarenta días.El viento que anda el día de San Martín (11 de noviembre) domina hasta el fin: Si hace viento el día de San Martín lo hará hasta el final de mes.El viento que corra por San Juan (24 de junio), todo el año reinará.Líbrate, si estás sudado, del aire encallejonado: Porque ese aire es muy perjudicial.No haciendo viento, no hace mal tiempo. Tiempo ventoso, tiempo asqueroso.Viento, mujer y fortuna, mudables como la luna. Viento y ventura, poco dura.Año de piedra, ninguno medra: Porque ese año la cosecha es escasa.Avenidas y pedriscos a muchos hacen pobres y a ninguno rico: Ya que perjudican las cosechas.El granizo empobrece, pero no encarece.Granizar, víspera de helar: Significa que al día siguiente de granizar, normalmente, hiela.Por piedra no es mal año; mas a quien da, dáselo malo: Indica que la piedra perjudica los sembrados.Sol amarillo, agua o granizo.Después de muchos truenos, viene una gran lluvia: Las disputas y voces suelen acabar descargando la ira.Los truenos y la mar enseñan a rezar: Porque en las circunstancias desfavorables el hombre acude a Dios.Niebla rabuda, al tercer día muda: Indica que el tiempo cambia cuando la niebla es muy pertinaz.Andar toda la noche y amanecer en casa: Se aplica a los que parece que hacen mucho y no hacen nada.Cerner noche y día y no echar harina: Pone de manifiesto la desgracia de algunos que trabajan toda su vida y no prosperan.De noche todos los gatos son pardos: Indica que en la obscuridad de la noche es fácil disimular las acciones de las personas.Entre noche y día no hay pared: Indica que entre dos personas o cosas que son iguales, no hay motivo para establecer alguna diferencia.Haz de la noche, noche y del día, día, y vivirás con alegría: Refrán contra los que trasnochan demasiado.La noche se ha hecho para descansar y el día para trabajar.Lo que de noche se hace, de día se ve: Indica que las faltas de lo que se hace por la noche se ven al día siguiente.Ni volver de noche esquina, ni meterte en lo que hace la vecina: Aconseja que no se trasnoche ni se preocupe por lo que hacen los demás.____________'"
            ],
            "application/vnd.google.colaboratory.intrinsic+json": {
              "type": "string"
            }
          },
          "metadata": {},
          "execution_count": 3
        }
      ]
    },
    {
      "cell_type": "code",
      "source": [
        "corpus1 = text.split(\".\") # divide en oraciones\n",
        "corpus1[116:120]"
      ],
      "metadata": {
        "colab": {
          "base_uri": "https://localhost:8080/"
        },
        "id": "FVI63ERfC5qS",
        "outputId": "800ef107-b737-4a96-9ebc-d4cad3f798ab"
      },
      "execution_count": 4,
      "outputs": [
        {
          "output_type": "execute_result",
          "data": {
            "text/plain": [
              "['Tiempo pasado, con pena recordado',\n",
              " 'Tiempo perdido, para siempre ido',\n",
              " 'Tiempo mal gastado, nunca recobrado',\n",
              " 'Tiempo no aprovechado, viento que ha pasado']"
            ]
          },
          "metadata": {},
          "execution_count": 4
        }
      ]
    },
    {
      "cell_type": "code",
      "source": [
        "print(f\"Cantidad de documentos: {len(corpus1)}\")"
      ],
      "metadata": {
        "colab": {
          "base_uri": "https://localhost:8080/"
        },
        "id": "jYno3HYMD30X",
        "outputId": "8f4b6eec-9c03-43ca-f7f8-7bf8a7086f60"
      },
      "execution_count": 5,
      "outputs": [
        {
          "output_type": "stream",
          "name": "stdout",
          "text": [
            "Cantidad de documentos: 290\n"
          ]
        }
      ]
    },
    {
      "cell_type": "markdown",
      "source": [
        "#### Lee y parsea la página de frases positivas, refranes y dichos"
      ],
      "metadata": {
        "id": "DspGsGdkHO4e"
      }
    },
    {
      "cell_type": "code",
      "source": [
        "raw_html = urllib.request.urlopen('https://www.xuliocs.com/frasespositiv.htm')\n",
        "raw_html = raw_html.read()\n",
        "\n",
        "# Parsea el artículo\n",
        "article_html = bs.BeautifulSoup(raw_html, 'lxml')\n",
        "\n",
        "# Encontrar todos los párrafos del HTML (bajo el tag <p>)\n",
        "# y tenerlos disponible como lista\n",
        "article_paragraphs = article_html.find_all('p')\n",
        "# text = re.sub(r'\\s+', ' ', article_text)\n",
        "\n",
        "article_text = ''\n",
        "for para in article_paragraphs:\n",
        "    text = re.sub(r'\\(.+\\)', ' ', para.text) # elimino los autores\n",
        "    article_text += text\n",
        "# clean del texto (muy básico! puede mejorarse)\n",
        "text = article_text.replace('\\n',\"\").replace('\"\"','').replace('\"','.').replace('”','.')\n",
        "text = re.sub(r'[ ]{2,}', ' ', text)\n",
        "text = text.replace('. .','.')\n",
        "text = re.sub(r'\\.+', '.', text)\n",
        "text"
      ],
      "metadata": {
        "colab": {
          "base_uri": "https://localhost:8080/",
          "height": 139
        },
        "id": "koNNQcWEwTHj",
        "outputId": "82d40a6a-cdb9-47f1-ed22-b61aeaeb32e3"
      },
      "execution_count": 6,
      "outputs": [
        {
          "output_type": "execute_result",
          "data": {
            "text/plain": [
              "\"\\xa0* Inicio: ENTRADA* El autor: Xulio* Fotos de esta pÃ¡xina web*Los pueblos del conceyu Lena Algunas frasesa) .Son las nuevas armas de la libertad: bolígrafos, ordenadores, radios, cámaras. b) Con la herencia de Stephen Hawking:“Uno: recuerda mirar hacia arriba, hacia las estrellas, y no a tus pies. Dos: nunca dejes el trabajo, Ã©l te darÃ¡ un significado y un propÃ³sito en la vida sin el cual tu existencia estarÃ¡ vacÃ\\xada. Tres: si tienes la suerte de encontrar el amor, recuerda que es algo muy raro, no lo tires nunca por la borda.c) O porque tal vez también.Beber del pasado permite al grupo humano encontrar la energía para afrontar el presente y preparar su futuro. ,d) Y como decÃ\\xada Salvador Allende: porque.La historia es nuestra, y la hacen los pueblos.e) O como dice Eduardo Galeano: .Al fin y al cabo, somos lo que hacemos, para cambiar lo que somos.f) Y otras tantas frases para los tiempos.g) Pues, en fin, con las palabras bastante más musicales de Raimon,.El que lo sepa todoque no venga a escucharme,que no venga a escucharme.Siempre he cantadopara el que ha querido aprender,porque yo aÃºn aprendodel que me escucha,del que me hace callaro no me escucha,por eso digo:el que ya lo sabe todoque no venga a escucharme,que no venga a escucharme. \\xa0 .Y algunas frases positivas, refranes, dichos., para comenzar mejor cada mañana .Sí,escalera,subeen el presente,peldañotras peldaño,firmeslos pies en la maderadel presente,hacia arriba,hacia arriba. Estas frases suponíannuestro juego diario con la sintaxis,los comentarios de texto, las palabras.Aprendíamos juntos y lo pasábamos bien.Por eso algunas fueron recogidasen diversos trabajos didácticosy publicaciones del autor de la páxina.Julio Concepción Suárez.A mal tiempo, buena caraA nadie le faltan fuerzas, lo que a muchísimos les falta es voluntad . .A quien miente, lo adoran; a quien dice la verdad, lo ahorcan.A un niño le daría alas, pero le dejaría que él solo aprendiese a volar.A veces ocurre. como en las fallas valencianas: primero te levantan, y después te queman.A xente de montaña, vive de maña.Agradece a la llama su luz, pero no olvides el pie del candil que, constante y paciente, la sostiene en la sombra.Antes de que te cases, mira bien lo que hacesAsí me he de morir: libre, sin yugos.Aunque un año venga mal, no dejes de sembrar.Con sacrificio puede ser que logres poco, pero sin sacrificio es seguro que no lograrás nadaConfía en el tiempo, que suele dar dulces salidas a muy amargas dificultades.Constancia., la constancia es la clave del éxito. .Cuando decides dar poca importancia a un problema, se reduce por sí solo. .Cuando soñamos solos, es sólo un sueño, pero cuando soñamos todos juntos, el sueño puede convertirse en realidad.Cuanto más civilizados nos volvemos, menos libertad hay.Cualquier acción motivada por la furia es una acción condenada al fracaso.Cuando el corazón se lamenta de lo que ha perdido, el espíritu se regocija con lo que le queda. .Dadme un punto de apoyo y moveré el mundo .Dentro de nosotros mismos se encuentran las respuestas que tantas veces buscamos deseperadamente en el exterior.Educad a los niños, y no será necesario castigar a los hombres.El apresuramiento es padre del fracaso.El 96% de nuestros temores no se cumple nunca. .El camino del éxito está lleno de derrotas.El entusiasmo mueve el mundo.El erudito estudia en los libros y en las bibliotecas. El sabio, en el Gran Libro de la Naturaleza Viviente.El fracaso es una buena oportunidad para empezar de nuevo con más inteligencia.El mundo entero se aparta cuando ve pasar a un hombre que sabe adónde va.El niño es el más estresado, porque está en un proceso de adaptación constante. El problema es cuando estos estímulos te desbordan. .El pesimismo conduce a la debilidad; el optimismo, al poder.El pesimista percibe dificultades en cada oportunidad. El optimista percibe oportunidades en cada dificultad.El premio de una buena acción es haberla hecho.El que sólo busca la salida, no entiende el laberinto; y, aunque llegara a encontrarla, seguiría sin entenderlo.El que va despacio puede que llegue tarde; pero el que corre demasiado se expone a no llegar nunca. .El saber y la razón hablan; la ignorancia y el error gritan. .El sentido de culpa nos machaca internamente y no nos ayuda a corregir errores. .El talento es todo lo contrario del dinero: cuanto menos se tiene, más contento se está.El verdadero buscador crece y aprende, y descubre que siempre es el principal responsable de lo que sucede.El verdadero modo de no saber nada es aprenderlo todo a la vez.El viciu saca la puerta de quiciu.En el rocío de las cosas pequeñas, el corazón encuentra su alborada y se refresca. .En sí mismo estrés es una palabra positiva, es lo que nos motiva; sin algo de estrés no avanzarías ni llegarías a nada. .Enseñar es aprender dos veces.Eres tan joven como tu fe. Tan viejo como tu duda. Tan joven como tu confianza en ti mismo. Tan joven como tu esperanza. Tan viejo como tu abatimiento. .Es más fácil ver la paja en el ojo ajeno, que la viga en el propio.Es verdad que vengo de perder una batalla, pero antes de que caiga la noche puedo ganar otra.Escribid las injurias en la arena, grabad los beneficios en el mármol. .Está aceptado que el optimismo mejora la salud, pero se ha comprobado además que la actitud de agradecimiento hacia los demás y hacia la existencia en general también repercute en una mejora de calidad de vida.Estamos todos desesperados porque queremos ser felices.Estar contentos con poco es difícil; con mucho, imposible.Estudia no para saber algo más, sino para saber algo mejor.Estuve deprimido y entendí que la vía para ser feliz era hacer canciones.Frente a los enemigos la mejor venganza es ser feliz.Fueron semillas mis errores.Guardiola, alguien que sigue siendo, a la vez, el recogepelotas, el chaval de la cantera, el jugador bisoño, el trotamundos y el joven maestro, merece un galardón como el triplete.Guardiola, el sensible y el fiero, el dialogante y el tajante, el que muestra y el que esconde, ha cavado una trinchera. Ni cercano ni huidizo, ni pedante ni mundano, el entrenador del Barcelona ha roto los límites de su velocidad en su año de novato.Guardiola es el héroe, la figura del escritor Sergi Pàmies., aquel que se levanta, que se esfuerza, que trabaja, que cuida a los hijos y que regresa a casa por la noche orgulloso de todo ello. . hacéis, y sabéis por qué hacéis; pero no sabéis por qué sabéis que sabéis lo que hacéis. .Hasta a morte, vida forte.Hay muchos caminos hacia la cima de la montaña, pero sólo hay una cima. .Hay que estudiar mucho para saber muy poco.Hay que perder la mitad del tiempo para emplear la otra mitad.Hay que sacar pecho, aguantar y salir siempre adelante.Hay que ser fiel a uno mismo; búscate unas creencias que te dejen vivir en paz, no que te machaquen todo el día .Haz de tu vida un sueño, y del sueño, una realidad.Haz lo que haces.He aprendido que todo el mundo quiere vivir en la cima de la montaña, sin saber que la verdadera felicidad está en la forma de subir la escarpada.Inteligente de verdad.Se cuenta que en una ciudad del interior, un grupo de personas se divertían con el “Tonto. del pueblo, un pobre infeliz de poca inteligencia, que vivía haciendo pequeños mandados y recibiendo limosnas. Diariamente, algunos hombres llamaban al “Tonto. al bar donde se reunían y le ofrecían escoger entre dos monedas: una de tamaño grande de 50 centavos y otra de menor tamaño, pero de 1 peso. Él siempre agarraba la más grande y menos valiosa, lo que era motivo de risas para todos. Un día, alguien que observaba al grupo divertirse con el inocente hombre, lo llamó aparte y le preguntó si todavía no había percibido que la moneda de mayor tamaño valía menos y éste le respondió: - Lo sé, no soy tan Tonto como ellos creen…, vale la mitad, pero el día que escoja la otra, el jueguito se acaba y no voy a ganar más mi moneda.MORALEJA: El verdadero hombre inteligente es el que aparenta ser tonto, delante de un tonto que aparenta ser inteligente.Facebook).Juicios tengas y los ganes.La adaptabilidad, más que ningún otro rasgo, es esencial para la vida en situaciones extremas .La alegría nos protege, incluso de coger un resfriado.La alegría pone alas al corazón. Es gratis, y está a nuestro alcance. Es la herramienta perfecta para 'airear' el espíritu y la cabeza en cualquier momento. .La culminación de la inteligencia, su éxito, está en dirigir bien la conducta.La felicidad es una sensación profunda de satisfacción contigo mismo y con tus circunstancias. .Que las estrellas se lleven tu tristeza, que las flores llenen tu corazón de belleza, que la esperanza enjugue para siempre tus lágrimas, y, sobre todo, que el silencio te haga fuerte.La gratitud es vida.La manzana nunca cae muy lejos del árbol.La más larga andadura siempre comienza con el primer paso.La mayor desgracia es no haber conocido jamás la adversidad.La mente más sabia siempre tiene algo que aprender.La nostalgia es un error. .La sonrisa cuesta menos que la electricidad y da más luz.La suerte es para quien la trabajaLa suerte llega cuando piensas en positivo. .La vida es aquello que va sucediendo mientras te empeñas en hacer planes.La vida es cambio, y el cambio es vida.La vida no consiste en recibir buenas cartas, sino en jugar bien las que nos tocan.Lo difícil no es mentir, sino mantener la mentira.Lo difícil se hace; lo imposible se intenta.Lo importante es el rumbo: hacia dónde dirijo mi vida. .Los hay que quieren ir por la vida a 120, y se empeñan en llevar el freno de mano puesto.Los hay que van por el bosque y no ven más que leña para el fuego.Lo más interesante en la vida son los desafíos que afrontamos y acabo aceptando la invitación.Los cobardes mueren muchas veces antes de morir; los valientes, solo una muerte.Los problemas por su orden, y según aparecen.Los problemas son los que nos hacen crecer.Los retos son los que nos hacen crecer, madurar. Lo fácil aburre.Los sabios suelen pecar de lentos, pues una mirada atenta obliga a detenerse.Llevamos muy bien el estar mal si mañana vamos a estar muy bien.Mañana siempre será el primer día de mi nueva vida.Más enseña la necesidá, que la Universidá.Más importante que saber, es saber cómo saber.Más libros, más libres.Más vale encender una vela que maldecir la oscuridad.Más vale un día como un tigre, que una vida como una oveja.Más vale un mal arreglo que un buen pleito.¿Me preguntas por qué compro arroz y flores? Compro arroz para vivir y flores para tener algo por lo que vivir.Mi vida estuvo llena de desgracias, muchas de las cuales jamás sucedieron. .Nada en la vida debe ser temido. Sólo debe ser comprendido.Ni por alto te realces, ni por pobre te rebaxes.Nin o dulce nin o amargo, duran tempo largo. .Ningún camino fácil te llevará a un sitio que merezca la pena.No combatas la oscuridad. Trae la luz y la oscuridad desaparecerá. .No dejes para mañana lo que puedas hacer hoy.No es feliz quien hace lo que quiere, sino quien quiere lo que hace.No es más feliz quien más tiene, sino quien menos necesitaNo hay nada permanente, excepto el cambio.No hay nada tan serio que no pueda decirse con una sonrisa.No me des un pez: enséñame a pescar.No por mucho madrugar amanece más temprano .No puedo en un solo día cambiar el desierto. Pero puedo empezar haciendo un oasis.No se vive celebrando victorias, sino superando fracasos.Nunca eres demasiado viejo para tener otra meta u otro sueño.Nunca te digas a ti mismo, a ti misma, cosas, palabras, frases, expresiones, negativas. ¡para qué! Lejos de sacar nada, te pondrás peor.Nunca te acostarás sin saber una cosa más.Plantaron y comemos: plantemos, y comerán.Podrán cortar las flores, pero no detendrán la primavera.Porque el que espera sabe que la victoria es suya.Porque nadie puede saber por ti. Nadie puede crecer por ti. Nadie puede buscar por ti. Nadie puede hacer por ti lo que tú mismo debes hacer. La existencia no admite representantes. porque las dificultades, incluso me crecen.Prefiero la perspectiva del día a día. Partido a partido, que dicen los entrenadores dse fútbol. .Que nada ni nadie sea capaz de turbar tu paz interior.Quien no quiera enemigos que se quede en casa sin hacer nada.Quien trabaja sin método trabaja en vano.Ratón que sabe de un agujero sólo, pronto caerá.Resistir es vencer.Respira libremente y olvídate del ayer. Lo que es necesario para este instante te está llegando ahora.Se dice que partir / es morir un poco; / pero llegar / es morir del todo. / Sólo caminar es vivir. “Si dejas de soñar, dejas de existir.Si lloras porque no ves el sol, las lágrimas no te dejarán ver las estrellas.Si luchamos, podemos perder; si no luchamos, estamos perdidos. .Si uno no sabe estar solo, nunca será él mismo.Siempre es mejor prevenir que curar.Sin creatividad, no hay vida.Si no encuentras en ti mismo ningún motivo digno de alegría, mira a los demás.Si tienes un sueño, todas las fuerzas del Universo confluyen para que se haga realidad.Sorprenderse, extrañarse es comenzar a aprender.Soy optimista. No parece muy útil ser cualquier otra cosa.Todo hombre puede encenderse a sí mismo una luz en la noche.Todo pensamiento es magnético, porque emite su propia energía y cada uno se convierte en aquello en lo que piensa habitualmente.Todos los días hay que luchar porque ese amor a la humanidad viviente se transforme en hechos concretos. .Tras de hoy, vien mañana.Tras la tempestad, siempre viene la calma.Tu fortaleza podría ser tu debilidad.Un grano no hace el granero, pero ayuda al compañero.Un problema después de resuelto es de una simplicidad aterradora.Una palmada a tiempo de tu jefe puede ser el mejor antídoto contra el estrés.Vive el presente, porque el ayer es un sueño, y el mañana, un ideal.Y nunca peor. \\xa0.Más allá de la noche que me cubre negra como el abismo insondable, doy gracias a los dioses que pudieran existir por mi alma invicta. En las azarosas garras de las circunstancias nunca me he lamentado ni he pestañeado. Sometido a los golpes del destino mi cabeza está ensangrentada, pero erguida. Más allá de este lugar de cólera y lágrimas donde yace el Horror de la Sombra, la amenaza de los años me encuentra, y me encontrará, sin miedo. No importa cuán estrecho sea el portal, cuán cargada de castigos la sentencia, soy el amo de mi destino:soy el capitán de mi alma .Algunos de estos dichos ya fueron recogidos en diversos trabajos y publicaciones del autor. Julio Concepción Suárez. Esquema conjunto de frases de esta página Del refranero en su conjuntoOtros trabayos de Xulio Concepción Suárez Índice alfabético de contenidos0. El NOTICIERU: mÃ¡s o menos reciente.1. Asociaciones, colectivos: trabayos en comÃºn, en estaferia.2. Colaboradores en la pÃ¡xina, autores/as con algunos textos en esta esquisa digital3. Creación literaria, oral, escrita.4. Fotos de la pÃ¡xina Web: unas cuantas que posiciona google5. Palabras en un paisaje: raÃ\\xadces, morfemas, topÃ³nimos6. Presentación de libros, conferencias, charlas.7. Redactar, puntuar el texto, resumir., hoy mucho más fácil8. Reflexiones para estos tiempos: algunos artÃ\\xadculos de prensa9. ResÃºmenes de algunas charlas, coloquios, entrevistas.10. Otros detallesEn la memoria de aquellas reflexiones del inolvidable polesu * Paco Noval11. Agradecimientos necesarios: pues son muchos y muchas las personas que colaboraron en esta esquisa y estaferia virtual:a) Por tantos conceyos asturianos: muchos homes y muyeres escuchados por pueblos, montes, cabanas, braÃ±as.b) Y por aquellas aulas: pequeñas creaciones personales de pupitre, o con textos de autores ya consagrados. El caso es escribir, leer, comentar, valorar, participar dentro y fuera de las aulas .\\xa0Copyright@ 2014 Xulio Concepción Suárez\""
            ],
            "application/vnd.google.colaboratory.intrinsic+json": {
              "type": "string"
            }
          },
          "metadata": {},
          "execution_count": 6
        }
      ]
    },
    {
      "cell_type": "code",
      "source": [
        "corpus2 = text.split(\".\") # divide en oraciones\n",
        "corpus2[230:233]"
      ],
      "metadata": {
        "colab": {
          "base_uri": "https://localhost:8080/"
        },
        "id": "yEzuFhe9qkID",
        "outputId": "ed85881b-2e73-410d-cfc6-60411be29aa3"
      },
      "execution_count": 7,
      "outputs": [
        {
          "output_type": "execute_result",
          "data": {
            "text/plain": [
              "['Tras de hoy, vien mañana',\n",
              " 'Tras la tempestad, siempre viene la calma',\n",
              " 'Tu fortaleza podría ser tu debilidad']"
            ]
          },
          "metadata": {},
          "execution_count": 7
        }
      ]
    },
    {
      "cell_type": "code",
      "execution_count": 8,
      "metadata": {
        "id": "LEpKubK9XzXN",
        "colab": {
          "base_uri": "https://localhost:8080/"
        },
        "outputId": "62222eca-b8f5-4e55-a3d5-b0d21cd6df8f"
      },
      "outputs": [
        {
          "output_type": "stream",
          "name": "stdout",
          "text": [
            "Cantidad de documentos: 268\n"
          ]
        }
      ],
      "source": [
        "print(f\"Cantidad de documentos: {len(corpus2)}\")"
      ]
    },
    {
      "cell_type": "markdown",
      "metadata": {
        "id": "ab94qaFlrA1G"
      },
      "source": [
        "### 1 - Preprocesamiento"
      ]
    },
    {
      "cell_type": "code",
      "source": [
        "from keras.preprocessing.text import text_to_word_sequence"
      ],
      "metadata": {
        "id": "rFd_q55jGFu8"
      },
      "execution_count": 9,
      "outputs": []
    },
    {
      "cell_type": "code",
      "execution_count": 10,
      "metadata": {
        "id": "rIsmMWmjrDHd",
        "colab": {
          "base_uri": "https://localhost:8080/"
        },
        "outputId": "4a12ec5f-d8b0-4a24-9cb8-a8c6344d2876"
      },
      "outputs": [
        {
          "output_type": "execute_result",
          "data": {
            "text/plain": [
              "[['tiempo', 'pasado', 'con', 'pena', 'recordado'],\n",
              " ['tiempo', 'perdido', 'para', 'siempre', 'ido'],\n",
              " ['tiempo', 'mal', 'gastado', 'nunca', 'recobrado'],\n",
              " ['tiempo', 'no', 'aprovechado', 'viento', 'que', 'ha', 'pasado']]"
            ]
          },
          "metadata": {},
          "execution_count": 10
        }
      ],
      "source": [
        "# Texto 1\n",
        "sentence_tokens1 = []\n",
        "# Recorre el corpus y transforma las oraciones\n",
        "# en una secuencia de palabras\n",
        "for _, row in enumerate(corpus1):\n",
        "    sentence_tokens1.append(text_to_word_sequence(row))\n",
        "\n",
        "# sample\n",
        "sentence_tokens1[116:120]\n"
      ]
    },
    {
      "cell_type": "code",
      "source": [
        "# Texto 2\n",
        "sentence_tokens2 = []\n",
        "# Recorre el corpus y transforma las oraciones\n",
        "# en una secuencia de palabras\n",
        "for _, row in enumerate(corpus2):\n",
        "    sentence_tokens2.append(text_to_word_sequence(row))\n",
        "\n",
        "# sample\n",
        "sentence_tokens2[230:233]"
      ],
      "metadata": {
        "colab": {
          "base_uri": "https://localhost:8080/"
        },
        "id": "o-z6tCSXEEs6",
        "outputId": "0d2a11b1-7622-4d9c-c287-91d9e1fad0a9"
      },
      "execution_count": 11,
      "outputs": [
        {
          "output_type": "execute_result",
          "data": {
            "text/plain": [
              "[['tras', 'de', 'hoy', 'vien', 'mañana'],\n",
              " ['tras', 'la', 'tempestad', 'siempre', 'viene', 'la', 'calma'],\n",
              " ['tu', 'fortaleza', 'podría', 'ser', 'tu', 'debilidad']]"
            ]
          },
          "metadata": {},
          "execution_count": 11
        }
      ]
    },
    {
      "cell_type": "markdown",
      "source": [
        "### 2 - Creación de vectores y entrenamiento"
      ],
      "metadata": {
        "id": "F9wSGMDjomIg"
      }
    },
    {
      "cell_type": "markdown",
      "metadata": {
        "id": "BaXV6nlHr5Aa"
      },
      "source": [
        "#### Función auxiliar para la creación de vectores (word2vec)"
      ]
    },
    {
      "cell_type": "code",
      "execution_count": 12,
      "metadata": {
        "id": "OSb0v7h8r7hK"
      },
      "outputs": [],
      "source": [
        "from gensim.models.callbacks import CallbackAny2Vec\n",
        "# Sobracargamos el callback de gensim para poder ver el \"loss\"\n",
        "class callback(CallbackAny2Vec):\n",
        "    \"\"\"\n",
        "    Callback to print loss after each epoch\n",
        "    \"\"\"\n",
        "    def __init__(self):\n",
        "        self.epoch = 0\n",
        "\n",
        "    def on_epoch_end(self, model):\n",
        "        loss = model.get_latest_training_loss()\n",
        "        if self.epoch == 0:\n",
        "            print('Loss after epoch {}: {}'.format(self.epoch, loss))\n",
        "        else:\n",
        "            print('Loss after epoch {}: {}'.format(self.epoch, loss- self.loss_previous_step))\n",
        "        self.epoch += 1\n",
        "        self.loss_previous_step = loss"
      ]
    },
    {
      "cell_type": "markdown",
      "source": [
        "#### 2.1 - Modelo para el texto 1"
      ],
      "metadata": {
        "id": "qY0ER4AOKD0n"
      }
    },
    {
      "cell_type": "code",
      "execution_count": 13,
      "metadata": {
        "id": "i0wnDdv9sJ47"
      },
      "outputs": [],
      "source": [
        "w2v_model1 = Word2Vec(min_count=7,   # frecuencia mínima de palabra para incluirla en el vocabulario\n",
        "                     window=2,       # cant de palabras antes y desp de la predicha\n",
        "                     size=52,        # dimensionalidad de los vectores \n",
        "                     negative=20,    # cantidad de negative samples... 0 es no se usa\n",
        "                     workers=1,      # si tienen más cores pueden cambiar este valor\n",
        "                     sg=1)           # modelo 0:CBOW  1:skipgram\n"
      ]
    },
    {
      "cell_type": "code",
      "execution_count": 14,
      "metadata": {
        "id": "TNc9qt4os5AT",
        "colab": {
          "base_uri": "https://localhost:8080/"
        },
        "outputId": "ded4dc8a-2a31-40ce-c07e-d87cedfc1662"
      },
      "outputs": [
        {
          "output_type": "stream",
          "name": "stdout",
          "text": [
            "Corpus\n",
            "Cantidad de docs: 290\n",
            "Cantidad de words distintas 96\n"
          ]
        }
      ],
      "source": [
        "# Buildear el vocabulario con los tokens\n",
        "w2v_model1.build_vocab(sentence_tokens1)\n",
        "print(f\"Corpus\\nCantidad de docs: {w2v_model1.corpus_count}\\nCantidad de words distintas {len(w2v_model1.wv.vocab)}\")"
      ]
    },
    {
      "cell_type": "code",
      "execution_count": 15,
      "metadata": {
        "id": "QSp-x0PAsq56",
        "colab": {
          "base_uri": "https://localhost:8080/"
        },
        "outputId": "de3058b0-0386-4125-e1e7-bde9fe7532aa"
      },
      "outputs": [
        {
          "output_type": "stream",
          "name": "stdout",
          "text": [
            "Loss after epoch 0: 24171.73046875\n",
            "Loss after epoch 1: 9059.984375\n",
            "Loss after epoch 2: 9140.9296875\n",
            "Loss after epoch 3: 8843.51953125\n",
            "Loss after epoch 4: 8885.43359375\n",
            "Loss after epoch 5: 9200.72265625\n",
            "Loss after epoch 6: 8861.3125\n",
            "Loss after epoch 7: 8510.09375\n",
            "Loss after epoch 8: 9015.140625\n",
            "Loss after epoch 9: 8485.4140625\n",
            "Loss after epoch 10: 8566.25\n",
            "Loss after epoch 11: 8697.265625\n",
            "Loss after epoch 12: 8164.609375\n",
            "Loss after epoch 13: 8285.875\n",
            "Loss after epoch 14: 8542.296875\n",
            "Loss after epoch 15: 8362.515625\n",
            "Loss after epoch 16: 8787.8125\n",
            "Loss after epoch 17: 8085.265625\n",
            "Loss after epoch 18: 8868.9375\n",
            "Loss after epoch 19: 8834.40625\n",
            "Loss after epoch 20: 8386.78125\n",
            "Loss after epoch 21: 9029.75\n",
            "Loss after epoch 22: 8854.984375\n",
            "Loss after epoch 23: 8084.71875\n",
            "Loss after epoch 24: 8554.15625\n",
            "Loss after epoch 25: 8311.078125\n",
            "Loss after epoch 26: 8802.09375\n",
            "Loss after epoch 27: 8494.890625\n",
            "Loss after epoch 28: 8513.25\n",
            "Loss after epoch 29: 8375.90625\n",
            "Loss after epoch 30: 8304.8125\n",
            "Loss after epoch 31: 9258.375\n",
            "Loss after epoch 32: 8453.3125\n",
            "Loss after epoch 33: 8566.125\n",
            "Loss after epoch 34: 7873.46875\n",
            "Loss after epoch 35: 8510.875\n",
            "Loss after epoch 36: 8280.125\n",
            "Loss after epoch 37: 8126.75\n",
            "Loss after epoch 38: 8136.625\n",
            "Loss after epoch 39: 8457.3125\n",
            "Loss after epoch 40: 7945.9375\n",
            "Loss after epoch 41: 8301.90625\n",
            "Loss after epoch 42: 8311.53125\n",
            "Loss after epoch 43: 8182.0\n",
            "Loss after epoch 44: 8600.9375\n",
            "Loss after epoch 45: 8197.0\n",
            "Loss after epoch 46: 8341.21875\n",
            "Loss after epoch 47: 7888.28125\n",
            "Loss after epoch 48: 8384.09375\n",
            "Loss after epoch 49: 8175.59375\n"
          ]
        },
        {
          "output_type": "execute_result",
          "data": {
            "text/plain": [
              "(53623, 239100)"
            ]
          },
          "metadata": {},
          "execution_count": 15
        }
      ],
      "source": [
        "# Entrenamos el modelo generador de vectores\n",
        "w2v_model1.train(sentence_tokens1,\n",
        "                 total_examples=w2v_model1.corpus_count,\n",
        "                 epochs=50,\n",
        "                 compute_loss = True,\n",
        "                 callbacks=[callback()]\n",
        "                 )"
      ]
    },
    {
      "cell_type": "markdown",
      "metadata": {
        "id": "fC9mZ8DPk-UC"
      },
      "source": [
        "#### 2.2 - Modelo para el texto 2"
      ]
    },
    {
      "cell_type": "code",
      "source": [
        "w2v_model2 = Word2Vec(min_count=4,   # frecuencia mínima de palabra para incluirla en el vocabulario\n",
        "                     window=2,       # cant de palabras antes y desp de la predicha\n",
        "                     size=52,        # dimensionalidad de los vectores \n",
        "                     negative=20,    # cantidad de negative samples... 0 es no se usa\n",
        "                     workers=1,      # si tienen más cores pueden cambiar este valor\n",
        "                     sg=1)           # modelo 0:CBOW  1:skipgram\n"
      ],
      "metadata": {
        "id": "9oMattjwLIf_"
      },
      "execution_count": 16,
      "outputs": []
    },
    {
      "cell_type": "code",
      "source": [
        "# Buildear el vocabulario con los tokens\n",
        "w2v_model2.build_vocab(sentence_tokens2)\n",
        "print(f\"Corpus\\nCantidad de docs: {w2v_model2.corpus_count}\\nCantidad de words distintas {len(w2v_model2.wv.vocab)}\")"
      ],
      "metadata": {
        "colab": {
          "base_uri": "https://localhost:8080/"
        },
        "id": "F08VirucLIi_",
        "outputId": "c15a0033-fdcb-4195-8b04-3fa1ac67d1be"
      },
      "execution_count": 17,
      "outputs": [
        {
          "output_type": "stream",
          "name": "stdout",
          "text": [
            "Corpus\n",
            "Cantidad de docs: 268\n",
            "Cantidad de words distintas 104\n"
          ]
        }
      ]
    },
    {
      "cell_type": "code",
      "source": [
        "# Entrenamos el modelo generador de vectores\n",
        "w2v_model2.train(sentence_tokens2,\n",
        "                 total_examples=w2v_model2.corpus_count,\n",
        "                 epochs=100,\n",
        "                 compute_loss = True,\n",
        "                 callbacks=[callback()]\n",
        "                 )"
      ],
      "metadata": {
        "colab": {
          "base_uri": "https://localhost:8080/"
        },
        "id": "l5pRdSbgLImP",
        "outputId": "bb490af9-b49e-4f01-c5dc-afaa684b7f26"
      },
      "execution_count": 18,
      "outputs": [
        {
          "output_type": "stream",
          "name": "stdout",
          "text": [
            "Loss after epoch 0: 14416.96875\n",
            "Loss after epoch 1: 11922.53125\n",
            "Loss after epoch 2: 5444.001953125\n",
            "Loss after epoch 3: 4226.537109375\n",
            "Loss after epoch 4: 4184.50390625\n",
            "Loss after epoch 5: 3935.54296875\n",
            "Loss after epoch 6: 3934.71875\n",
            "Loss after epoch 7: 3950.8671875\n",
            "Loss after epoch 8: 4048.3984375\n",
            "Loss after epoch 9: 3835.00390625\n",
            "Loss after epoch 10: 4223.98828125\n",
            "Loss after epoch 11: 3826.8359375\n",
            "Loss after epoch 12: 4119.2265625\n",
            "Loss after epoch 13: 4099.1796875\n",
            "Loss after epoch 14: 3828.7578125\n",
            "Loss after epoch 15: 4194.65625\n",
            "Loss after epoch 16: 3977.4609375\n",
            "Loss after epoch 17: 4111.5703125\n",
            "Loss after epoch 18: 3996.6953125\n",
            "Loss after epoch 19: 3826.03125\n",
            "Loss after epoch 20: 3673.1484375\n",
            "Loss after epoch 21: 4028.2890625\n",
            "Loss after epoch 22: 4016.90625\n",
            "Loss after epoch 23: 4525.5546875\n",
            "Loss after epoch 24: 3982.859375\n",
            "Loss after epoch 25: 3988.96875\n",
            "Loss after epoch 26: 3758.359375\n",
            "Loss after epoch 27: 4082.03125\n",
            "Loss after epoch 28: 3866.8125\n",
            "Loss after epoch 29: 4098.140625\n",
            "Loss after epoch 30: 4077.75\n",
            "Loss after epoch 31: 4280.828125\n",
            "Loss after epoch 32: 4063.484375\n",
            "Loss after epoch 33: 4295.8125\n",
            "Loss after epoch 34: 3793.265625\n",
            "Loss after epoch 35: 4241.6875\n",
            "Loss after epoch 36: 3879.90625\n",
            "Loss after epoch 37: 3857.015625\n",
            "Loss after epoch 38: 3711.703125\n",
            "Loss after epoch 39: 3838.90625\n",
            "Loss after epoch 40: 3730.546875\n",
            "Loss after epoch 41: 4254.96875\n",
            "Loss after epoch 42: 3964.1875\n",
            "Loss after epoch 43: 3879.734375\n",
            "Loss after epoch 44: 3701.203125\n",
            "Loss after epoch 45: 3727.765625\n",
            "Loss after epoch 46: 3857.59375\n",
            "Loss after epoch 47: 3620.546875\n",
            "Loss after epoch 48: 3893.859375\n",
            "Loss after epoch 49: 3986.9375\n",
            "Loss after epoch 50: 3847.59375\n",
            "Loss after epoch 51: 4092.40625\n",
            "Loss after epoch 52: 3623.734375\n",
            "Loss after epoch 53: 3948.15625\n",
            "Loss after epoch 54: 3905.703125\n",
            "Loss after epoch 55: 4108.53125\n",
            "Loss after epoch 56: 3417.328125\n",
            "Loss after epoch 57: 3801.6875\n",
            "Loss after epoch 58: 3653.296875\n",
            "Loss after epoch 59: 3628.484375\n",
            "Loss after epoch 60: 3421.921875\n",
            "Loss after epoch 61: 3945.1875\n",
            "Loss after epoch 62: 3729.1875\n",
            "Loss after epoch 63: 3695.375\n",
            "Loss after epoch 64: 3607.40625\n",
            "Loss after epoch 65: 3779.625\n",
            "Loss after epoch 66: 3818.03125\n",
            "Loss after epoch 67: 4060.28125\n",
            "Loss after epoch 68: 3943.0\n",
            "Loss after epoch 69: 3833.53125\n",
            "Loss after epoch 70: 3751.34375\n",
            "Loss after epoch 71: 3734.78125\n",
            "Loss after epoch 72: 3980.59375\n",
            "Loss after epoch 73: 3887.5\n",
            "Loss after epoch 74: 3753.84375\n",
            "Loss after epoch 75: 3780.53125\n",
            "Loss after epoch 76: 3727.4375\n",
            "Loss after epoch 77: 3476.90625\n",
            "Loss after epoch 78: 3641.4375\n",
            "Loss after epoch 79: 3372.9375\n",
            "Loss after epoch 80: 3525.65625\n",
            "Loss after epoch 81: 3390.0\n",
            "Loss after epoch 82: 3590.25\n",
            "Loss after epoch 83: 3639.3125\n",
            "Loss after epoch 84: 3879.71875\n",
            "Loss after epoch 85: 3533.8125\n",
            "Loss after epoch 86: 3453.8125\n",
            "Loss after epoch 87: 3614.21875\n",
            "Loss after epoch 88: 3531.4375\n",
            "Loss after epoch 89: 3544.75\n",
            "Loss after epoch 90: 3669.875\n",
            "Loss after epoch 91: 3509.46875\n",
            "Loss after epoch 92: 3790.71875\n",
            "Loss after epoch 93: 3750.78125\n",
            "Loss after epoch 94: 3850.34375\n",
            "Loss after epoch 95: 3578.90625\n",
            "Loss after epoch 96: 3651.9375\n",
            "Loss after epoch 97: 3688.65625\n",
            "Loss after epoch 98: 3213.3125\n",
            "Loss after epoch 99: 3539.59375\n"
          ]
        },
        {
          "output_type": "execute_result",
          "data": {
            "text/plain": [
              "(58528, 274900)"
            ]
          },
          "metadata": {},
          "execution_count": 18
        }
      ]
    },
    {
      "cell_type": "markdown",
      "metadata": {
        "id": "_g8UVWe6lFmh"
      },
      "source": [
        "### 3 - Visualización de agrupaciones de vectores"
      ]
    },
    {
      "cell_type": "code",
      "source": [
        "from sklearn.decomposition import IncrementalPCA    \n",
        "from sklearn.manifold import TSNE                   \n",
        "import warnings\n",
        "warnings.filterwarnings('ignore')\n",
        "\n",
        "import plotly.graph_objects as go\n",
        "import plotly.express as px\n"
      ],
      "metadata": {
        "id": "J3wFMi21Mbbx"
      },
      "execution_count": 19,
      "outputs": []
    },
    {
      "cell_type": "code",
      "execution_count": 20,
      "metadata": {
        "id": "pDxEVXAivjr9"
      },
      "outputs": [],
      "source": [
        "def reduce_dimensions(model):\n",
        "    num_dimensions = 2  \n",
        "\n",
        "    vectors = np.asarray(model.wv.vectors)\n",
        "    labels = np.asarray(model.wv.index2word)  \n",
        "\n",
        "    tsne = TSNE(n_components=num_dimensions, random_state=0)\n",
        "    vectors = tsne.fit_transform(vectors)\n",
        "\n",
        "    x_vals = [v[0] for v in vectors]\n",
        "    y_vals = [v[1] for v in vectors]\n",
        "    return x_vals, y_vals, labels"
      ]
    },
    {
      "cell_type": "markdown",
      "source": [
        "#### 3.1 - Visualización de embeddings del texto 1"
      ],
      "metadata": {
        "id": "6cDOwiA1b_fq"
      }
    },
    {
      "cell_type": "code",
      "execution_count": 21,
      "metadata": {
        "id": "NCCXtDpcugmd",
        "colab": {
          "base_uri": "https://localhost:8080/",
          "height": 1000
        },
        "outputId": "465cc2c9-db03-4799-c01d-64a5795de39d"
      },
      "outputs": [
        {
          "output_type": "display_data",
          "data": {
            "text/html": [
              "<html>\n",
              "<head><meta charset=\"utf-8\" /></head>\n",
              "<body>\n",
              "    <div>            <script src=\"https://cdnjs.cloudflare.com/ajax/libs/mathjax/2.7.5/MathJax.js?config=TeX-AMS-MML_SVG\"></script><script type=\"text/javascript\">if (window.MathJax) {MathJax.Hub.Config({SVG: {font: \"STIX-Web\"}});}</script>                <script type=\"text/javascript\">window.PlotlyConfig = {MathJaxConfig: 'local'};</script>\n",
              "        <script src=\"https://cdn.plot.ly/plotly-2.8.3.min.js\"></script>                <div id=\"8f791a3c-fb11-4a7c-9ed3-76187aac4fa9\" class=\"plotly-graph-div\" style=\"height:1000px; width:1000px;\"></div>            <script type=\"text/javascript\">                                    window.PLOTLYENV=window.PLOTLYENV || {};                                    if (document.getElementById(\"8f791a3c-fb11-4a7c-9ed3-76187aac4fa9\")) {                    Plotly.newPlot(                        \"8f791a3c-fb11-4a7c-9ed3-76187aac4fa9\",                        [{\"hovertemplate\":\"x=%{x}<br>y=%{y}<br>text=%{text}<extra></extra>\",\"legendgroup\":\"\",\"marker\":{\"color\":\"#636efa\",\"symbol\":\"circle\"},\"mode\":\"markers+text\",\"name\":\"\",\"orientation\":\"v\",\"showlegend\":false,\"text\":[\"el\",\"que\",\"de\",\"tiempo\",\"y\",\"la\",\"se\",\"no\",\"en\",\"a\",\"los\",\"las\",\"es\",\"indica\",\"del\",\"lo\",\"d\\u00eda\",\"al\",\"para\",\"cuando\",\"ni\",\"m\\u00e1s\",\"su\",\"con\",\"por\",\"todo\",\"hay\",\"sol\",\"viento\",\"martes\",\"porque\",\"a\\u00f1o\",\"agua\",\"todos\",\"significa\",\"d\\u00edas\",\"lluvia\",\"quien\",\"hace\",\"mucho\",\"sin\",\"son\",\"un\",\"una\",\"san\",\"da\",\"tiene\",\"o\",\"si\",\"aconseja\",\"noche\",\"dinero\",\"mal\",\"cosas\",\"personas\",\"manifiesto\",\"domingo\",\"llueve\",\"va\",\"como\",\"ya\",\"pone\",\"siempre\",\"vida\",\"pasado\",\"cada\",\"est\\u00e1\",\"buen\",\"circunstancias\",\"refr\\u00e1n\",\"cosa\",\"dios\",\"nos\",\"ha\",\"lunes\",\"s\\u00e1bado\",\"semana\",\"heladas\",\"aire\",\"vale\",\"cura\",\"paciencia\",\"viene\",\"tu\",\"le\",\"hacen\",\"invierno\",\"todas\",\"suele\",\"trae\",\"tiempos\",\"mes\",\"jueves\",\"viernes\",\"hielo\",\"helada\"],\"x\":[0.002868336159735918,0.4720486104488373,-2.44795298576355,-4.652834892272949,-3.7689766883850098,-2.6140942573547363,-0.6513386964797974,3.0039939880371094,6.656374931335449,0.02620367519557476,1.326157569885254,-4.812371730804443,-3.1286144256591797,1.2847079038619995,-2.0434489250183105,-4.391195297241211,1.9761953353881836,2.7482571601867676,-2.0695650577545166,-2.8548672199249268,9.576194763183594,-0.6963762640953064,5.503066539764404,-3.304866075515747,2.2337114810943604,-4.944339752197266,7.701650619506836,6.550821304321289,1.9707409143447876,9.007393836975098,1.5723379850387573,-0.7779049873352051,0.64504474401474,6.017928600311279,6.6912007331848145,7.078596115112305,-2.9753830432891846,4.043700218200684,2.8593802452087402,-3.0360662937164307,9.595090866088867,7.252588748931885,-0.28975343704223633,2.2064058780670166,1.8789269924163818,0.725724995136261,5.48883056640625,0.5064414143562317,5.585524559020996,-1.6495909690856934,1.0561708211898804,4.942904949188232,5.674429416656494,-0.4841671884059906,0.4883391261100769,-3.0073819160461426,6.30740213394165,2.844677209854126,-2.7467477321624756,2.782937526702881,0.5628979206085205,-2.952273368835449,5.459547996520996,-1.9647296667099,-3.1266374588012695,4.743285655975342,1.0351542234420776,2.2837905883789062,0.2710256278514862,-2.426218032836914,2.5446574687957764,-4.032319068908691,-4.261935234069824,-4.141663551330566,8.836048126220703,8.92966079711914,6.734469890594482,-2.249328374862671,-0.3949850797653198,-3.6914281845092773,-4.640295505523682,-2.654829978942871,-0.7710064053535461,9.463746070861816,6.801337718963623,-0.4283079504966736,2.4748387336730957,6.759368896484375,2.2506752014160156,-4.9687700271606445,6.187247276306152,0.33189791440963745,8.291180610656738,8.631585121154785,4.155279159545898,0.8186050653457642],\"xaxis\":\"x\",\"y\":[2.3542330265045166,-2.362870454788208,-3.5919179916381836,0.22187469899654388,-1.3055740594863892,-3.1696345806121826,-1.275694489479065,-0.9519048929214478,0.2204156517982483,-1.0972999334335327,-4.205985069274902,-1.9372541904449463,0.30589064955711365,-2.9374005794525146,-2.1942031383514404,-0.1926596462726593,0.05884702503681183,0.09187117964029312,-0.24727338552474976,0.960418701171875,-1.7368525266647339,-2.2166290283203125,1.1372586488723755,-0.5304167866706848,-0.9436631202697754,-0.40845510363578796,0.603390634059906,-1.636786699295044,-0.46610310673713684,-0.6035640239715576,1.0699858665466309,1.3546658754348755,0.8141087889671326,2.082777500152588,0.574211061000824,1.4389419555664062,-2.947356700897217,-1.0344434976577759,-1.643691897392273,0.02175585925579071,-1.8677290678024292,1.897519826889038,0.5724802613258362,-3.7939188480377197,2.2674481868743896,1.44566810131073,1.0656715631484985,-3.5159189701080322,-1.0495169162750244,0.5359371304512024,-1.4088770151138306,-0.8357407450675964,-0.08007688820362091,-3.900620460510254,-3.195528745651245,-4.561278820037842,-0.33105647563934326,-2.1830084323883057,-1.3185280561447144,-0.31460294127464294,-1.130353569984436,-4.563392162322998,-1.2464816570281982,-1.5563403367996216,-1.3258792161941528,0.798173189163208,-1.6264628171920776,1.0580047369003296,-0.5335841774940491,-0.8913154006004333,-2.968172311782837,1.5675342082977295,1.818427324295044,0.7826074957847595,-0.7604079842567444,-1.459665298461914,1.1062123775482178,-2.4423956871032715,1.2010776996612549,0.2162950187921524,-0.47402986884117126,0.026483431458473206,-0.39866429567337036,-1.3671648502349854,-0.9222663044929504,-1.327951431274414,0.7747756242752075,2.191680669784546,-0.32004815340042114,-1.5197889804840088,2.633113384246826,0.9900158643722534,-0.9089266657829285,-1.1067808866500854,-0.071797214448452,-0.5315980911254883],\"yaxis\":\"y\",\"type\":\"scatter\"}],                        {\"template\":{\"data\":{\"bar\":[{\"error_x\":{\"color\":\"#2a3f5f\"},\"error_y\":{\"color\":\"#2a3f5f\"},\"marker\":{\"line\":{\"color\":\"#E5ECF6\",\"width\":0.5},\"pattern\":{\"fillmode\":\"overlay\",\"size\":10,\"solidity\":0.2}},\"type\":\"bar\"}],\"barpolar\":[{\"marker\":{\"line\":{\"color\":\"#E5ECF6\",\"width\":0.5},\"pattern\":{\"fillmode\":\"overlay\",\"size\":10,\"solidity\":0.2}},\"type\":\"barpolar\"}],\"carpet\":[{\"aaxis\":{\"endlinecolor\":\"#2a3f5f\",\"gridcolor\":\"white\",\"linecolor\":\"white\",\"minorgridcolor\":\"white\",\"startlinecolor\":\"#2a3f5f\"},\"baxis\":{\"endlinecolor\":\"#2a3f5f\",\"gridcolor\":\"white\",\"linecolor\":\"white\",\"minorgridcolor\":\"white\",\"startlinecolor\":\"#2a3f5f\"},\"type\":\"carpet\"}],\"choropleth\":[{\"colorbar\":{\"outlinewidth\":0,\"ticks\":\"\"},\"type\":\"choropleth\"}],\"contour\":[{\"colorbar\":{\"outlinewidth\":0,\"ticks\":\"\"},\"colorscale\":[[0.0,\"#0d0887\"],[0.1111111111111111,\"#46039f\"],[0.2222222222222222,\"#7201a8\"],[0.3333333333333333,\"#9c179e\"],[0.4444444444444444,\"#bd3786\"],[0.5555555555555556,\"#d8576b\"],[0.6666666666666666,\"#ed7953\"],[0.7777777777777778,\"#fb9f3a\"],[0.8888888888888888,\"#fdca26\"],[1.0,\"#f0f921\"]],\"type\":\"contour\"}],\"contourcarpet\":[{\"colorbar\":{\"outlinewidth\":0,\"ticks\":\"\"},\"type\":\"contourcarpet\"}],\"heatmap\":[{\"colorbar\":{\"outlinewidth\":0,\"ticks\":\"\"},\"colorscale\":[[0.0,\"#0d0887\"],[0.1111111111111111,\"#46039f\"],[0.2222222222222222,\"#7201a8\"],[0.3333333333333333,\"#9c179e\"],[0.4444444444444444,\"#bd3786\"],[0.5555555555555556,\"#d8576b\"],[0.6666666666666666,\"#ed7953\"],[0.7777777777777778,\"#fb9f3a\"],[0.8888888888888888,\"#fdca26\"],[1.0,\"#f0f921\"]],\"type\":\"heatmap\"}],\"heatmapgl\":[{\"colorbar\":{\"outlinewidth\":0,\"ticks\":\"\"},\"colorscale\":[[0.0,\"#0d0887\"],[0.1111111111111111,\"#46039f\"],[0.2222222222222222,\"#7201a8\"],[0.3333333333333333,\"#9c179e\"],[0.4444444444444444,\"#bd3786\"],[0.5555555555555556,\"#d8576b\"],[0.6666666666666666,\"#ed7953\"],[0.7777777777777778,\"#fb9f3a\"],[0.8888888888888888,\"#fdca26\"],[1.0,\"#f0f921\"]],\"type\":\"heatmapgl\"}],\"histogram\":[{\"marker\":{\"pattern\":{\"fillmode\":\"overlay\",\"size\":10,\"solidity\":0.2}},\"type\":\"histogram\"}],\"histogram2d\":[{\"colorbar\":{\"outlinewidth\":0,\"ticks\":\"\"},\"colorscale\":[[0.0,\"#0d0887\"],[0.1111111111111111,\"#46039f\"],[0.2222222222222222,\"#7201a8\"],[0.3333333333333333,\"#9c179e\"],[0.4444444444444444,\"#bd3786\"],[0.5555555555555556,\"#d8576b\"],[0.6666666666666666,\"#ed7953\"],[0.7777777777777778,\"#fb9f3a\"],[0.8888888888888888,\"#fdca26\"],[1.0,\"#f0f921\"]],\"type\":\"histogram2d\"}],\"histogram2dcontour\":[{\"colorbar\":{\"outlinewidth\":0,\"ticks\":\"\"},\"colorscale\":[[0.0,\"#0d0887\"],[0.1111111111111111,\"#46039f\"],[0.2222222222222222,\"#7201a8\"],[0.3333333333333333,\"#9c179e\"],[0.4444444444444444,\"#bd3786\"],[0.5555555555555556,\"#d8576b\"],[0.6666666666666666,\"#ed7953\"],[0.7777777777777778,\"#fb9f3a\"],[0.8888888888888888,\"#fdca26\"],[1.0,\"#f0f921\"]],\"type\":\"histogram2dcontour\"}],\"mesh3d\":[{\"colorbar\":{\"outlinewidth\":0,\"ticks\":\"\"},\"type\":\"mesh3d\"}],\"parcoords\":[{\"line\":{\"colorbar\":{\"outlinewidth\":0,\"ticks\":\"\"}},\"type\":\"parcoords\"}],\"pie\":[{\"automargin\":true,\"type\":\"pie\"}],\"scatter\":[{\"marker\":{\"colorbar\":{\"outlinewidth\":0,\"ticks\":\"\"}},\"type\":\"scatter\"}],\"scatter3d\":[{\"line\":{\"colorbar\":{\"outlinewidth\":0,\"ticks\":\"\"}},\"marker\":{\"colorbar\":{\"outlinewidth\":0,\"ticks\":\"\"}},\"type\":\"scatter3d\"}],\"scattercarpet\":[{\"marker\":{\"colorbar\":{\"outlinewidth\":0,\"ticks\":\"\"}},\"type\":\"scattercarpet\"}],\"scattergeo\":[{\"marker\":{\"colorbar\":{\"outlinewidth\":0,\"ticks\":\"\"}},\"type\":\"scattergeo\"}],\"scattergl\":[{\"marker\":{\"colorbar\":{\"outlinewidth\":0,\"ticks\":\"\"}},\"type\":\"scattergl\"}],\"scattermapbox\":[{\"marker\":{\"colorbar\":{\"outlinewidth\":0,\"ticks\":\"\"}},\"type\":\"scattermapbox\"}],\"scatterpolar\":[{\"marker\":{\"colorbar\":{\"outlinewidth\":0,\"ticks\":\"\"}},\"type\":\"scatterpolar\"}],\"scatterpolargl\":[{\"marker\":{\"colorbar\":{\"outlinewidth\":0,\"ticks\":\"\"}},\"type\":\"scatterpolargl\"}],\"scatterternary\":[{\"marker\":{\"colorbar\":{\"outlinewidth\":0,\"ticks\":\"\"}},\"type\":\"scatterternary\"}],\"surface\":[{\"colorbar\":{\"outlinewidth\":0,\"ticks\":\"\"},\"colorscale\":[[0.0,\"#0d0887\"],[0.1111111111111111,\"#46039f\"],[0.2222222222222222,\"#7201a8\"],[0.3333333333333333,\"#9c179e\"],[0.4444444444444444,\"#bd3786\"],[0.5555555555555556,\"#d8576b\"],[0.6666666666666666,\"#ed7953\"],[0.7777777777777778,\"#fb9f3a\"],[0.8888888888888888,\"#fdca26\"],[1.0,\"#f0f921\"]],\"type\":\"surface\"}],\"table\":[{\"cells\":{\"fill\":{\"color\":\"#EBF0F8\"},\"line\":{\"color\":\"white\"}},\"header\":{\"fill\":{\"color\":\"#C8D4E3\"},\"line\":{\"color\":\"white\"}},\"type\":\"table\"}]},\"layout\":{\"annotationdefaults\":{\"arrowcolor\":\"#2a3f5f\",\"arrowhead\":0,\"arrowwidth\":1},\"autotypenumbers\":\"strict\",\"coloraxis\":{\"colorbar\":{\"outlinewidth\":0,\"ticks\":\"\"}},\"colorscale\":{\"diverging\":[[0,\"#8e0152\"],[0.1,\"#c51b7d\"],[0.2,\"#de77ae\"],[0.3,\"#f1b6da\"],[0.4,\"#fde0ef\"],[0.5,\"#f7f7f7\"],[0.6,\"#e6f5d0\"],[0.7,\"#b8e186\"],[0.8,\"#7fbc41\"],[0.9,\"#4d9221\"],[1,\"#276419\"]],\"sequential\":[[0.0,\"#0d0887\"],[0.1111111111111111,\"#46039f\"],[0.2222222222222222,\"#7201a8\"],[0.3333333333333333,\"#9c179e\"],[0.4444444444444444,\"#bd3786\"],[0.5555555555555556,\"#d8576b\"],[0.6666666666666666,\"#ed7953\"],[0.7777777777777778,\"#fb9f3a\"],[0.8888888888888888,\"#fdca26\"],[1.0,\"#f0f921\"]],\"sequentialminus\":[[0.0,\"#0d0887\"],[0.1111111111111111,\"#46039f\"],[0.2222222222222222,\"#7201a8\"],[0.3333333333333333,\"#9c179e\"],[0.4444444444444444,\"#bd3786\"],[0.5555555555555556,\"#d8576b\"],[0.6666666666666666,\"#ed7953\"],[0.7777777777777778,\"#fb9f3a\"],[0.8888888888888888,\"#fdca26\"],[1.0,\"#f0f921\"]]},\"colorway\":[\"#636efa\",\"#EF553B\",\"#00cc96\",\"#ab63fa\",\"#FFA15A\",\"#19d3f3\",\"#FF6692\",\"#B6E880\",\"#FF97FF\",\"#FECB52\"],\"font\":{\"color\":\"#2a3f5f\"},\"geo\":{\"bgcolor\":\"white\",\"lakecolor\":\"white\",\"landcolor\":\"#E5ECF6\",\"showlakes\":true,\"showland\":true,\"subunitcolor\":\"white\"},\"hoverlabel\":{\"align\":\"left\"},\"hovermode\":\"closest\",\"mapbox\":{\"style\":\"light\"},\"paper_bgcolor\":\"white\",\"plot_bgcolor\":\"#E5ECF6\",\"polar\":{\"angularaxis\":{\"gridcolor\":\"white\",\"linecolor\":\"white\",\"ticks\":\"\"},\"bgcolor\":\"#E5ECF6\",\"radialaxis\":{\"gridcolor\":\"white\",\"linecolor\":\"white\",\"ticks\":\"\"}},\"scene\":{\"xaxis\":{\"backgroundcolor\":\"#E5ECF6\",\"gridcolor\":\"white\",\"gridwidth\":2,\"linecolor\":\"white\",\"showbackground\":true,\"ticks\":\"\",\"zerolinecolor\":\"white\"},\"yaxis\":{\"backgroundcolor\":\"#E5ECF6\",\"gridcolor\":\"white\",\"gridwidth\":2,\"linecolor\":\"white\",\"showbackground\":true,\"ticks\":\"\",\"zerolinecolor\":\"white\"},\"zaxis\":{\"backgroundcolor\":\"#E5ECF6\",\"gridcolor\":\"white\",\"gridwidth\":2,\"linecolor\":\"white\",\"showbackground\":true,\"ticks\":\"\",\"zerolinecolor\":\"white\"}},\"shapedefaults\":{\"line\":{\"color\":\"#2a3f5f\"}},\"ternary\":{\"aaxis\":{\"gridcolor\":\"white\",\"linecolor\":\"white\",\"ticks\":\"\"},\"baxis\":{\"gridcolor\":\"white\",\"linecolor\":\"white\",\"ticks\":\"\"},\"bgcolor\":\"#E5ECF6\",\"caxis\":{\"gridcolor\":\"white\",\"linecolor\":\"white\",\"ticks\":\"\"}},\"title\":{\"x\":0.05},\"xaxis\":{\"automargin\":true,\"gridcolor\":\"white\",\"linecolor\":\"white\",\"ticks\":\"\",\"title\":{\"standoff\":15},\"zerolinecolor\":\"white\",\"zerolinewidth\":2},\"yaxis\":{\"automargin\":true,\"gridcolor\":\"white\",\"linecolor\":\"white\",\"ticks\":\"\",\"title\":{\"standoff\":15},\"zerolinecolor\":\"white\",\"zerolinewidth\":2}}},\"xaxis\":{\"anchor\":\"y\",\"domain\":[0.0,1.0],\"title\":{\"text\":\"x\"},\"tickmode\":\"linear\",\"tick0\":0,\"dtick\":1},\"yaxis\":{\"anchor\":\"x\",\"domain\":[0.0,1.0],\"title\":{\"text\":\"y\"},\"tickmode\":\"linear\",\"tick0\":0,\"dtick\":1},\"legend\":{\"tracegroupgap\":0},\"margin\":{\"t\":60},\"height\":1000,\"width\":1000},                        {\"responsive\": true}                    ).then(function(){\n",
              "                            \n",
              "var gd = document.getElementById('8f791a3c-fb11-4a7c-9ed3-76187aac4fa9');\n",
              "var x = new MutationObserver(function (mutations, observer) {{\n",
              "        var display = window.getComputedStyle(gd).display;\n",
              "        if (!display || display === 'none') {{\n",
              "            console.log([gd, 'removed!']);\n",
              "            Plotly.purge(gd);\n",
              "            observer.disconnect();\n",
              "        }}\n",
              "}});\n",
              "\n",
              "// Listen for the removal of the full notebook cells\n",
              "var notebookContainer = gd.closest('#notebook-container');\n",
              "if (notebookContainer) {{\n",
              "    x.observe(notebookContainer, {childList: true});\n",
              "}}\n",
              "\n",
              "// Listen for the clearing of the current output cell\n",
              "var outputEl = gd.closest('.output');\n",
              "if (outputEl) {{\n",
              "    x.observe(outputEl, {childList: true});\n",
              "}}\n",
              "\n",
              "                        })                };                            </script>        </div>\n",
              "</body>\n",
              "</html>"
            ]
          },
          "metadata": {}
        }
      ],
      "source": [
        "# Grafica los embeddings del texto1 en 2D\n",
        "x_vals, y_vals, labels = reduce_dimensions(w2v_model1)\n",
        "\n",
        "MAX_WORDS=300\n",
        "\n",
        "fig = px.scatter(x=x_vals[:MAX_WORDS], y=y_vals[:MAX_WORDS], text=labels[:MAX_WORDS],  width=1000, height=1000)\n",
        "fig.update_layout( xaxis = dict(tickmode = 'linear', tick0 = 0,dtick = 1),\n",
        "                   yaxis = dict(tickmode = 'linear', tick0 = 0,dtick = 1))\n",
        "fig.show(renderer=\"colab\")"
      ]
    },
    {
      "cell_type": "markdown",
      "source": [
        "#### Observaciones (texto 1)\n",
        "- Los días de la semana aparece agrupados (lunes, martes, jueves, etc.)\n",
        "- Hay algunos pares de palabras que aparecen próximas entre sí y esto semánticamente tiene sentido, como mes y año, días y semana, lluvia y heladas (aunque estas dos, alejadas de llueve).\n",
        "- En general no se ven \"clusters\" de palabras y sí muchas palabras sin utilidad como artículos o preposiciones.\n",
        "- A pesar de haber ajustado el parámetro min_count de Word2Vec para mejorar la relación entre la cantidad de documentos y las palabras distintas, el corpus no parece ser suficiente para la construcción de embeddings de interés.\n",
        "\n"
      ],
      "metadata": {
        "id": "tfrgArHWZ2US"
      }
    },
    {
      "cell_type": "markdown",
      "source": [
        "#### 3.2 - Visualización de embeddings del texto 2"
      ],
      "metadata": {
        "id": "mrCtmnL2cPd2"
      }
    },
    {
      "cell_type": "code",
      "source": [
        "# Grafica los embeddings del texto2 en 2D\n",
        "x_vals, y_vals, labels = reduce_dimensions(w2v_model2)\n",
        "\n",
        "MAX_WORDS=300\n",
        "fig = px.scatter(x=x_vals[:MAX_WORDS], y=y_vals[:MAX_WORDS], text=labels[:MAX_WORDS], width=1100, height=1000)\n",
        "fig.update_layout( xaxis = dict(tickmode = 'linear', tick0 = 0,dtick = 1),\n",
        "                   yaxis = dict(tickmode = 'linear', tick0 = 0,dtick = 1))\n",
        "fig.show(renderer=\"colab\")"
      ],
      "metadata": {
        "colab": {
          "base_uri": "https://localhost:8080/",
          "height": 1000
        },
        "id": "vcyrC3nsMvYt",
        "outputId": "9da023cc-f0e0-43c2-b2e8-86de7938245c"
      },
      "execution_count": 22,
      "outputs": [
        {
          "output_type": "display_data",
          "data": {
            "text/html": [
              "<html>\n",
              "<head><meta charset=\"utf-8\" /></head>\n",
              "<body>\n",
              "    <div>            <script src=\"https://cdnjs.cloudflare.com/ajax/libs/mathjax/2.7.5/MathJax.js?config=TeX-AMS-MML_SVG\"></script><script type=\"text/javascript\">if (window.MathJax) {MathJax.Hub.Config({SVG: {font: \"STIX-Web\"}});}</script>                <script type=\"text/javascript\">window.PlotlyConfig = {MathJaxConfig: 'local'};</script>\n",
              "        <script src=\"https://cdn.plot.ly/plotly-2.8.3.min.js\"></script>                <div id=\"b4811c8e-eba0-470a-986b-1e7ef772f921\" class=\"plotly-graph-div\" style=\"height:1000px; width:1100px;\"></div>            <script type=\"text/javascript\">                                    window.PLOTLYENV=window.PLOTLYENV || {};                                    if (document.getElementById(\"b4811c8e-eba0-470a-986b-1e7ef772f921\")) {                    Plotly.newPlot(                        \"b4811c8e-eba0-470a-986b-1e7ef772f921\",                        [{\"hovertemplate\":\"x=%{x}<br>y=%{y}<br>text=%{text}<extra></extra>\",\"legendgroup\":\"\",\"marker\":{\"color\":\"#636efa\",\"symbol\":\"circle\"},\"mode\":\"markers+text\",\"name\":\"\",\"orientation\":\"v\",\"showlegend\":false,\"text\":[\"que\",\"la\",\"el\",\"de\",\"y\",\"en\",\"es\",\"a\",\"no\",\"un\",\"lo\",\"los\",\"m\\u00e1s\",\"se\",\"del\",\"por\",\"para\",\"las\",\"una\",\"vida\",\"te\",\"pero\",\"con\",\"tu\",\"como\",\"hay\",\"porque\",\"ser\",\"nunca\",\"sin\",\"saber\",\"al\",\"siempre\",\"me\",\"si\",\"su\",\"quien\",\"puede\",\"est\\u00e1\",\"todo\",\"mismo\",\"ni\",\"hacia\",\"nos\",\"nada\",\"ti\",\"d\\u00eda\",\"mi\",\"muy\",\"le\",\"cuando\",\"sue\\u00f1o\",\"menos\",\"tan\",\"algo\",\"o\",\"ma\\u00f1ana\",\"bien\",\"nadie\",\"s\\u00f3lo\",\"otra\",\"sino\",\"hacer\",\"son\",\"frases\",\"venga\",\"he\",\"ha\",\"hace\",\"sabe\",\"mejor\",\"solo\",\"vivir\",\"esta\",\"algunas\",\"presente\",\"palabras\",\"escucharme\",\"aprender\",\"cada\",\"s\\u00ed\",\"concepci\\u00f3n\",\"su\\u00e1rez\",\"mal\",\"tiempo\",\"veces\",\"luz\",\"morir\",\"poco\",\"todos\",\"coraz\\u00f3n\",\"mundo\",\"hombre\",\"joven\",\"noche\",\"estar\",\"mucho\",\"feliz\",\"sab\\u00e9is\",\"qu\\u00e9\",\"algunos\",\"soy\",\"vale\",\"flores\"],\"x\":[4.0474748611450195,1.5481035709381104,0.12276110053062439,2.593701124191284,2.934231996536255,2.2989418506622314,5.500036239624023,1.2551279067993164,1.6045262813568115,-1.229954481124878,7.749695301055908,3.779435157775879,6.370932579040527,3.2440240383148193,2.7314529418945312,6.709098815917969,6.560336589813232,3.420320987701416,0.2596745491027832,0.2889409065246582,6.026443958282471,2.1475698947906494,1.101076602935791,-3.954051971435547,-3.7911832332611084,3.2320189476013184,2.76367449760437,3.992635726928711,4.410060405731201,4.8100972175598145,7.450019836425781,2.149132251739502,4.223903656005859,5.513370990753174,0.8524954319000244,3.5122251510620117,8.860234260559082,4.838681697845459,2.5643959045410156,4.640744209289551,4.535003662109375,-0.21201995015144348,5.251964569091797,3.975289821624756,6.116659641265869,5.080438137054443,-1.1967222690582275,-0.9147595167160034,2.440953016281128,0.6857000589370728,1.2345870733261108,-0.20437438786029816,6.254420757293701,-3.7769641876220703,7.578836917877197,2.2383596897125244,1.2382044792175293,3.0036208629608154,5.177855491638184,1.49546480178833,1.206323504447937,8.61993408203125,5.114026069641113,3.1566405296325684,1.5306614637374878,-0.18482568860054016,0.1257437914609909,1.2755573987960815,8.26363468170166,0.4434259533882141,5.541893482208252,1.0182310342788696,7.629600524902344,2.992810010910034,2.182709217071533,5.270635604858398,0.637417733669281,-0.18825596570968628,4.983729362487793,2.754603624343872,0.2918616235256195,2.4296231269836426,3.7846975326538086,0.09538355469703674,1.9437636137008667,3.7643089294433594,1.6177480220794678,3.347574234008789,2.646045684814453,1.877492070198059,3.5272815227508545,3.611757516860962,1.1163076162338257,-3.8604252338409424,2.1352615356445312,0.0672423243522644,4.520033836364746,8.623613357543945,8.489875793457031,8.4719877243042,2.4904966354370117,-1.7129247188568115,-1.9130427837371826,7.841962814331055],\"xaxis\":\"x\",\"y\":[1.3793048858642578,4.7011399269104,4.675741672515869,6.822458267211914,5.471156597137451,6.2029337882995605,1.3613688945770264,-2.7652482986450195,-2.8089773654937744,1.263323187828064,2.27040958404541,6.405850887298584,1.626018762588501,3.312920093536377,6.775865077972412,-2.304603338241577,0.7536798119544983,5.854892730712891,2.7421789169311523,3.4762094020843506,-1.367630958557129,1.2972522974014282,2.9985198974609375,2.1938934326171875,2.195420980453491,1.8589787483215332,2.8255558013916016,-1.2978973388671875,0.723986029624939,1.8532928228378296,0.3422849774360657,3.861584424972534,2.923410415649414,4.049865245819092,-1.8486014604568481,7.773695468902588,1.9963852167129517,-3.475196123123169,4.669613361358643,2.65004825592041,-3.5550475120544434,8.463618278503418,7.52637243270874,2.2837915420532227,-1.4626682996749878,-3.8758583068847656,2.116830348968506,3.686110258102417,-1.1988450288772583,-0.4163881540298462,1.6084150075912476,2.239649772644043,1.8150490522384644,2.1911470890045166,0.13760122656822205,2.5213987827301025,-0.3902865946292877,-0.06942588835954666,-3.40165114402771,1.7075647115707397,2.4402215480804443,1.8266044855117798,-3.0000410079956055,6.022623062133789,6.154064655303955,-4.130871295928955,8.287050247192383,7.759268760681152,2.3383758068084717,-2.941840171813965,0.39690881967544556,-1.076621174812317,-0.8673813343048096,7.491726875305176,5.8715434074401855,7.5397868156433105,5.6381072998046875,-4.142791271209717,3.3121376037597656,3.83327054977417,0.8936618566513062,8.431926727294922,8.491242408752441,-2.5896527767181396,-1.6141940355300903,3.6864635944366455,3.8057916164398193,0.8475306630134583,-1.0534765720367432,2.148704767227173,5.123897075653076,3.2449915409088135,-0.7960730791091919,2.18526029586792,3.1050965785980225,-2.0388216972351074,-0.15327417850494385,1.7410191297531128,-2.853205442428589,-2.826415538787842,5.238821983337402,2.76318097114563,2.026669979095459,-1.161223292350769],\"yaxis\":\"y\",\"type\":\"scatter\"}],                        {\"template\":{\"data\":{\"bar\":[{\"error_x\":{\"color\":\"#2a3f5f\"},\"error_y\":{\"color\":\"#2a3f5f\"},\"marker\":{\"line\":{\"color\":\"#E5ECF6\",\"width\":0.5},\"pattern\":{\"fillmode\":\"overlay\",\"size\":10,\"solidity\":0.2}},\"type\":\"bar\"}],\"barpolar\":[{\"marker\":{\"line\":{\"color\":\"#E5ECF6\",\"width\":0.5},\"pattern\":{\"fillmode\":\"overlay\",\"size\":10,\"solidity\":0.2}},\"type\":\"barpolar\"}],\"carpet\":[{\"aaxis\":{\"endlinecolor\":\"#2a3f5f\",\"gridcolor\":\"white\",\"linecolor\":\"white\",\"minorgridcolor\":\"white\",\"startlinecolor\":\"#2a3f5f\"},\"baxis\":{\"endlinecolor\":\"#2a3f5f\",\"gridcolor\":\"white\",\"linecolor\":\"white\",\"minorgridcolor\":\"white\",\"startlinecolor\":\"#2a3f5f\"},\"type\":\"carpet\"}],\"choropleth\":[{\"colorbar\":{\"outlinewidth\":0,\"ticks\":\"\"},\"type\":\"choropleth\"}],\"contour\":[{\"colorbar\":{\"outlinewidth\":0,\"ticks\":\"\"},\"colorscale\":[[0.0,\"#0d0887\"],[0.1111111111111111,\"#46039f\"],[0.2222222222222222,\"#7201a8\"],[0.3333333333333333,\"#9c179e\"],[0.4444444444444444,\"#bd3786\"],[0.5555555555555556,\"#d8576b\"],[0.6666666666666666,\"#ed7953\"],[0.7777777777777778,\"#fb9f3a\"],[0.8888888888888888,\"#fdca26\"],[1.0,\"#f0f921\"]],\"type\":\"contour\"}],\"contourcarpet\":[{\"colorbar\":{\"outlinewidth\":0,\"ticks\":\"\"},\"type\":\"contourcarpet\"}],\"heatmap\":[{\"colorbar\":{\"outlinewidth\":0,\"ticks\":\"\"},\"colorscale\":[[0.0,\"#0d0887\"],[0.1111111111111111,\"#46039f\"],[0.2222222222222222,\"#7201a8\"],[0.3333333333333333,\"#9c179e\"],[0.4444444444444444,\"#bd3786\"],[0.5555555555555556,\"#d8576b\"],[0.6666666666666666,\"#ed7953\"],[0.7777777777777778,\"#fb9f3a\"],[0.8888888888888888,\"#fdca26\"],[1.0,\"#f0f921\"]],\"type\":\"heatmap\"}],\"heatmapgl\":[{\"colorbar\":{\"outlinewidth\":0,\"ticks\":\"\"},\"colorscale\":[[0.0,\"#0d0887\"],[0.1111111111111111,\"#46039f\"],[0.2222222222222222,\"#7201a8\"],[0.3333333333333333,\"#9c179e\"],[0.4444444444444444,\"#bd3786\"],[0.5555555555555556,\"#d8576b\"],[0.6666666666666666,\"#ed7953\"],[0.7777777777777778,\"#fb9f3a\"],[0.8888888888888888,\"#fdca26\"],[1.0,\"#f0f921\"]],\"type\":\"heatmapgl\"}],\"histogram\":[{\"marker\":{\"pattern\":{\"fillmode\":\"overlay\",\"size\":10,\"solidity\":0.2}},\"type\":\"histogram\"}],\"histogram2d\":[{\"colorbar\":{\"outlinewidth\":0,\"ticks\":\"\"},\"colorscale\":[[0.0,\"#0d0887\"],[0.1111111111111111,\"#46039f\"],[0.2222222222222222,\"#7201a8\"],[0.3333333333333333,\"#9c179e\"],[0.4444444444444444,\"#bd3786\"],[0.5555555555555556,\"#d8576b\"],[0.6666666666666666,\"#ed7953\"],[0.7777777777777778,\"#fb9f3a\"],[0.8888888888888888,\"#fdca26\"],[1.0,\"#f0f921\"]],\"type\":\"histogram2d\"}],\"histogram2dcontour\":[{\"colorbar\":{\"outlinewidth\":0,\"ticks\":\"\"},\"colorscale\":[[0.0,\"#0d0887\"],[0.1111111111111111,\"#46039f\"],[0.2222222222222222,\"#7201a8\"],[0.3333333333333333,\"#9c179e\"],[0.4444444444444444,\"#bd3786\"],[0.5555555555555556,\"#d8576b\"],[0.6666666666666666,\"#ed7953\"],[0.7777777777777778,\"#fb9f3a\"],[0.8888888888888888,\"#fdca26\"],[1.0,\"#f0f921\"]],\"type\":\"histogram2dcontour\"}],\"mesh3d\":[{\"colorbar\":{\"outlinewidth\":0,\"ticks\":\"\"},\"type\":\"mesh3d\"}],\"parcoords\":[{\"line\":{\"colorbar\":{\"outlinewidth\":0,\"ticks\":\"\"}},\"type\":\"parcoords\"}],\"pie\":[{\"automargin\":true,\"type\":\"pie\"}],\"scatter\":[{\"marker\":{\"colorbar\":{\"outlinewidth\":0,\"ticks\":\"\"}},\"type\":\"scatter\"}],\"scatter3d\":[{\"line\":{\"colorbar\":{\"outlinewidth\":0,\"ticks\":\"\"}},\"marker\":{\"colorbar\":{\"outlinewidth\":0,\"ticks\":\"\"}},\"type\":\"scatter3d\"}],\"scattercarpet\":[{\"marker\":{\"colorbar\":{\"outlinewidth\":0,\"ticks\":\"\"}},\"type\":\"scattercarpet\"}],\"scattergeo\":[{\"marker\":{\"colorbar\":{\"outlinewidth\":0,\"ticks\":\"\"}},\"type\":\"scattergeo\"}],\"scattergl\":[{\"marker\":{\"colorbar\":{\"outlinewidth\":0,\"ticks\":\"\"}},\"type\":\"scattergl\"}],\"scattermapbox\":[{\"marker\":{\"colorbar\":{\"outlinewidth\":0,\"ticks\":\"\"}},\"type\":\"scattermapbox\"}],\"scatterpolar\":[{\"marker\":{\"colorbar\":{\"outlinewidth\":0,\"ticks\":\"\"}},\"type\":\"scatterpolar\"}],\"scatterpolargl\":[{\"marker\":{\"colorbar\":{\"outlinewidth\":0,\"ticks\":\"\"}},\"type\":\"scatterpolargl\"}],\"scatterternary\":[{\"marker\":{\"colorbar\":{\"outlinewidth\":0,\"ticks\":\"\"}},\"type\":\"scatterternary\"}],\"surface\":[{\"colorbar\":{\"outlinewidth\":0,\"ticks\":\"\"},\"colorscale\":[[0.0,\"#0d0887\"],[0.1111111111111111,\"#46039f\"],[0.2222222222222222,\"#7201a8\"],[0.3333333333333333,\"#9c179e\"],[0.4444444444444444,\"#bd3786\"],[0.5555555555555556,\"#d8576b\"],[0.6666666666666666,\"#ed7953\"],[0.7777777777777778,\"#fb9f3a\"],[0.8888888888888888,\"#fdca26\"],[1.0,\"#f0f921\"]],\"type\":\"surface\"}],\"table\":[{\"cells\":{\"fill\":{\"color\":\"#EBF0F8\"},\"line\":{\"color\":\"white\"}},\"header\":{\"fill\":{\"color\":\"#C8D4E3\"},\"line\":{\"color\":\"white\"}},\"type\":\"table\"}]},\"layout\":{\"annotationdefaults\":{\"arrowcolor\":\"#2a3f5f\",\"arrowhead\":0,\"arrowwidth\":1},\"autotypenumbers\":\"strict\",\"coloraxis\":{\"colorbar\":{\"outlinewidth\":0,\"ticks\":\"\"}},\"colorscale\":{\"diverging\":[[0,\"#8e0152\"],[0.1,\"#c51b7d\"],[0.2,\"#de77ae\"],[0.3,\"#f1b6da\"],[0.4,\"#fde0ef\"],[0.5,\"#f7f7f7\"],[0.6,\"#e6f5d0\"],[0.7,\"#b8e186\"],[0.8,\"#7fbc41\"],[0.9,\"#4d9221\"],[1,\"#276419\"]],\"sequential\":[[0.0,\"#0d0887\"],[0.1111111111111111,\"#46039f\"],[0.2222222222222222,\"#7201a8\"],[0.3333333333333333,\"#9c179e\"],[0.4444444444444444,\"#bd3786\"],[0.5555555555555556,\"#d8576b\"],[0.6666666666666666,\"#ed7953\"],[0.7777777777777778,\"#fb9f3a\"],[0.8888888888888888,\"#fdca26\"],[1.0,\"#f0f921\"]],\"sequentialminus\":[[0.0,\"#0d0887\"],[0.1111111111111111,\"#46039f\"],[0.2222222222222222,\"#7201a8\"],[0.3333333333333333,\"#9c179e\"],[0.4444444444444444,\"#bd3786\"],[0.5555555555555556,\"#d8576b\"],[0.6666666666666666,\"#ed7953\"],[0.7777777777777778,\"#fb9f3a\"],[0.8888888888888888,\"#fdca26\"],[1.0,\"#f0f921\"]]},\"colorway\":[\"#636efa\",\"#EF553B\",\"#00cc96\",\"#ab63fa\",\"#FFA15A\",\"#19d3f3\",\"#FF6692\",\"#B6E880\",\"#FF97FF\",\"#FECB52\"],\"font\":{\"color\":\"#2a3f5f\"},\"geo\":{\"bgcolor\":\"white\",\"lakecolor\":\"white\",\"landcolor\":\"#E5ECF6\",\"showlakes\":true,\"showland\":true,\"subunitcolor\":\"white\"},\"hoverlabel\":{\"align\":\"left\"},\"hovermode\":\"closest\",\"mapbox\":{\"style\":\"light\"},\"paper_bgcolor\":\"white\",\"plot_bgcolor\":\"#E5ECF6\",\"polar\":{\"angularaxis\":{\"gridcolor\":\"white\",\"linecolor\":\"white\",\"ticks\":\"\"},\"bgcolor\":\"#E5ECF6\",\"radialaxis\":{\"gridcolor\":\"white\",\"linecolor\":\"white\",\"ticks\":\"\"}},\"scene\":{\"xaxis\":{\"backgroundcolor\":\"#E5ECF6\",\"gridcolor\":\"white\",\"gridwidth\":2,\"linecolor\":\"white\",\"showbackground\":true,\"ticks\":\"\",\"zerolinecolor\":\"white\"},\"yaxis\":{\"backgroundcolor\":\"#E5ECF6\",\"gridcolor\":\"white\",\"gridwidth\":2,\"linecolor\":\"white\",\"showbackground\":true,\"ticks\":\"\",\"zerolinecolor\":\"white\"},\"zaxis\":{\"backgroundcolor\":\"#E5ECF6\",\"gridcolor\":\"white\",\"gridwidth\":2,\"linecolor\":\"white\",\"showbackground\":true,\"ticks\":\"\",\"zerolinecolor\":\"white\"}},\"shapedefaults\":{\"line\":{\"color\":\"#2a3f5f\"}},\"ternary\":{\"aaxis\":{\"gridcolor\":\"white\",\"linecolor\":\"white\",\"ticks\":\"\"},\"baxis\":{\"gridcolor\":\"white\",\"linecolor\":\"white\",\"ticks\":\"\"},\"bgcolor\":\"#E5ECF6\",\"caxis\":{\"gridcolor\":\"white\",\"linecolor\":\"white\",\"ticks\":\"\"}},\"title\":{\"x\":0.05},\"xaxis\":{\"automargin\":true,\"gridcolor\":\"white\",\"linecolor\":\"white\",\"ticks\":\"\",\"title\":{\"standoff\":15},\"zerolinecolor\":\"white\",\"zerolinewidth\":2},\"yaxis\":{\"automargin\":true,\"gridcolor\":\"white\",\"linecolor\":\"white\",\"ticks\":\"\",\"title\":{\"standoff\":15},\"zerolinecolor\":\"white\",\"zerolinewidth\":2}}},\"xaxis\":{\"anchor\":\"y\",\"domain\":[0.0,1.0],\"title\":{\"text\":\"x\"},\"tickmode\":\"linear\",\"tick0\":0,\"dtick\":1},\"yaxis\":{\"anchor\":\"x\",\"domain\":[0.0,1.0],\"title\":{\"text\":\"y\"},\"tickmode\":\"linear\",\"tick0\":0,\"dtick\":1},\"legend\":{\"tracegroupgap\":0},\"margin\":{\"t\":60},\"height\":1000,\"width\":1100},                        {\"responsive\": true}                    ).then(function(){\n",
              "                            \n",
              "var gd = document.getElementById('b4811c8e-eba0-470a-986b-1e7ef772f921');\n",
              "var x = new MutationObserver(function (mutations, observer) {{\n",
              "        var display = window.getComputedStyle(gd).display;\n",
              "        if (!display || display === 'none') {{\n",
              "            console.log([gd, 'removed!']);\n",
              "            Plotly.purge(gd);\n",
              "            observer.disconnect();\n",
              "        }}\n",
              "}});\n",
              "\n",
              "// Listen for the removal of the full notebook cells\n",
              "var notebookContainer = gd.closest('#notebook-container');\n",
              "if (notebookContainer) {{\n",
              "    x.observe(notebookContainer, {childList: true});\n",
              "}}\n",
              "\n",
              "// Listen for the clearing of the current output cell\n",
              "var outputEl = gd.closest('.output');\n",
              "if (outputEl) {{\n",
              "    x.observe(outputEl, {childList: true});\n",
              "}}\n",
              "\n",
              "                        })                };                            </script>        </div>\n",
              "</body>\n",
              "</html>"
            ]
          },
          "metadata": {}
        }
      ]
    },
    {
      "cell_type": "markdown",
      "source": [
        "#### Observaciones (texto 2)\n",
        "- Aunque el texto tiene cantidad de documentos y palabras distintas similares a los del texto 1, en este caso las palabras se veían más dispersas aún, por lo que decidí subir el parámetro min_count de Word2Vec y los resultados mejoraron un poco.\n",
        "- En este caso se ven varias palabras \"superpuestas\", es decir con vectores muy muy cercanos. Es el caso de *más* y *menos*, que aunque tengan significado contrario, parece que aparecen mucho en el mismo contexto. Lo validamos con el corpus:\n",
        "  - *Cuanto menos se tiene, más contento se está*\n",
        "  - *Él siempre agarraba la más grande y menos valiosa*\n",
        "- Otro ejemplo de palabras muy próximas son *nadie* y *puede*. Validamos con el corpus y encontramos una frase donde la combinación se repite: \"*Porque nadie puede saber por ti. Nadie puede crecer por ti. Nadie puede buscar por ti. Nadie puede hacer por ti lo que tú mismo debes hacer*\". Al ser un corpus medianamente chico, solo esta frase pesa un montón en los resultados.\n"
      ],
      "metadata": {
        "id": "_RvPhPkYcZw-"
      }
    },
    {
      "cell_type": "markdown",
      "source": [
        "### 4 - Algunos términos de interés"
      ],
      "metadata": {
        "id": "iUaAuybZZVS6"
      }
    },
    {
      "cell_type": "code",
      "source": [
        "# Palabras que más se relacionan con 'martes'\n",
        "w2v_model1.wv.most_similar(positive=[\"martes\"], topn=10)\n"
      ],
      "metadata": {
        "colab": {
          "base_uri": "https://localhost:8080/"
        },
        "id": "a9oW-N54ZN4P",
        "outputId": "c8a43f51-425d-42fe-830f-80e9c28c7993"
      },
      "execution_count": 23,
      "outputs": [
        {
          "output_type": "execute_result",
          "data": {
            "text/plain": [
              "[('lunes', 0.9895482063293457),\n",
              " ('jueves', 0.9642949104309082),\n",
              " ('viernes', 0.9605574607849121),\n",
              " ('hay', 0.959932804107666),\n",
              " ('tu', 0.9529927968978882),\n",
              " ('sábado', 0.9438839554786682),\n",
              " ('ni', 0.9433125853538513),\n",
              " ('le', 0.9320670962333679),\n",
              " ('sin', 0.9304990768432617),\n",
              " ('en', 0.9146996736526489)]"
            ]
          },
          "metadata": {},
          "execution_count": 23
        }
      ]
    },
    {
      "cell_type": "code",
      "source": [
        "w2v_model2.wv.most_similar(positive=[\"más\"])"
      ],
      "metadata": {
        "colab": {
          "base_uri": "https://localhost:8080/"
        },
        "id": "MnE8omiqxw_o",
        "outputId": "8eb318cd-cd19-4ada-ae93-b438b1b3634c"
      },
      "execution_count": 38,
      "outputs": [
        {
          "output_type": "execute_result",
          "data": {
            "text/plain": [
              "[('menos', 0.975990891456604),\n",
              " ('es', 0.9620974063873291),\n",
              " ('para', 0.9505943655967712),\n",
              " ('mejor', 0.9412703514099121),\n",
              " ('siempre', 0.9323410391807556),\n",
              " ('hay', 0.9318129420280457),\n",
              " ('la', 0.928756833076477),\n",
              " ('sino', 0.9121649265289307),\n",
              " ('mucho', 0.9120205640792847),\n",
              " ('otra', 0.9092636704444885)]"
            ]
          },
          "metadata": {},
          "execution_count": 38
        }
      ]
    },
    {
      "cell_type": "code",
      "source": [
        "# Palabras que más se relacionan con 'día' en ambos corpus\n",
        "w2v_model1.wv.most_similar(positive=[\"día\"])"
      ],
      "metadata": {
        "colab": {
          "base_uri": "https://localhost:8080/"
        },
        "id": "vU3wKYDEY76z",
        "outputId": "b4af29dd-be7d-4bbb-d5ad-1fd3468a2fa9"
      },
      "execution_count": 24,
      "outputs": [
        {
          "output_type": "execute_result",
          "data": {
            "text/plain": [
              "[('viento', 0.9924243688583374),\n",
              " ('al', 0.9922174215316772),\n",
              " ('suele', 0.9905498027801514),\n",
              " ('por', 0.9887723922729492),\n",
              " ('como', 0.9883795976638794),\n",
              " ('mes', 0.9882107973098755),\n",
              " ('noche', 0.9866777658462524),\n",
              " ('invierno', 0.9860680103302002),\n",
              " ('viene', 0.9857591390609741),\n",
              " ('está', 0.9849348068237305)]"
            ]
          },
          "metadata": {},
          "execution_count": 24
        }
      ]
    },
    {
      "cell_type": "code",
      "source": [
        "w2v_model2.wv.most_similar(positive=[\"día\"])"
      ],
      "metadata": {
        "colab": {
          "base_uri": "https://localhost:8080/"
        },
        "id": "Bg5Sp003Y79v",
        "outputId": "e669c5dc-8233-424a-cc0b-d8150b915ecd"
      },
      "execution_count": 25,
      "outputs": [
        {
          "output_type": "execute_result",
          "data": {
            "text/plain": [
              "[('un', 0.9715929627418518),\n",
              " ('vale', 0.9645786881446838),\n",
              " ('una', 0.9592303037643433),\n",
              " ('soy', 0.9575828909873962),\n",
              " ('sueño', 0.9569344520568848),\n",
              " ('vida', 0.9472383260726929),\n",
              " ('otra', 0.9469289779663086),\n",
              " ('mi', 0.9423478841781616),\n",
              " ('sólo', 0.9312440156936646),\n",
              " ('le', 0.9290863275527954)]"
            ]
          },
          "metadata": {},
          "execution_count": 25
        }
      ]
    },
    {
      "cell_type": "code",
      "source": [
        "# Palabras que más se relacionan con 'tiempo' en ambos corpus\n",
        "w2v_model1.wv.most_similar(positive=[\"tiempo\"])"
      ],
      "metadata": {
        "colab": {
          "base_uri": "https://localhost:8080/"
        },
        "id": "ziPojBOicn0Y",
        "outputId": "38d23257-7c10-4468-9483-5802b4bd14b9"
      },
      "execution_count": 26,
      "outputs": [
        {
          "output_type": "execute_result",
          "data": {
            "text/plain": [
              "[('con', 0.9907104969024658),\n",
              " ('vale', 0.9902099370956421),\n",
              " ('todo', 0.9884042739868164),\n",
              " ('es', 0.9879158139228821),\n",
              " ('cura', 0.9878525733947754),\n",
              " ('paciencia', 0.9873161315917969),\n",
              " ('lo', 0.9857999086380005),\n",
              " ('ha', 0.9843674302101135),\n",
              " ('mucho', 0.983360767364502),\n",
              " ('y', 0.9803305268287659)]"
            ]
          },
          "metadata": {},
          "execution_count": 26
        }
      ]
    },
    {
      "cell_type": "code",
      "source": [
        "w2v_model2.wv.most_similar(positive=[\"tiempo\"])"
      ],
      "metadata": {
        "colab": {
          "base_uri": "https://localhost:8080/"
        },
        "id": "wLPjPty6f5I7",
        "outputId": "54977cff-412e-43b4-d594-a6a6fe0d70a6"
      },
      "execution_count": 27,
      "outputs": [
        {
          "output_type": "execute_result",
          "data": {
            "text/plain": [
              "[('si', 0.9581272602081299),\n",
              " ('hombre', 0.9562689661979675),\n",
              " ('ser', 0.9540499448776245),\n",
              " ('muy', 0.9526740312576294),\n",
              " ('mañana', 0.9473334550857544),\n",
              " ('solo', 0.9434913396835327),\n",
              " ('le', 0.9365193843841553),\n",
              " ('mucho', 0.935633659362793),\n",
              " ('estar', 0.9185158014297485),\n",
              " ('nunca', 0.9158368110656738)]"
            ]
          },
          "metadata": {},
          "execution_count": 27
        }
      ]
    },
    {
      "cell_type": "code",
      "source": [
        "# Palabras que menos se relacionan con \"personas\"\n",
        "w2v_model1.wv.most_similar(negative=[\"personas\"], topn=10)"
      ],
      "metadata": {
        "colab": {
          "base_uri": "https://localhost:8080/"
        },
        "id": "uTeRekW-ZN7L",
        "outputId": "557e9585-8214-4bc0-e1ae-4bfeb7b69951"
      },
      "execution_count": 28,
      "outputs": [
        {
          "output_type": "execute_result",
          "data": {
            "text/plain": [
              "[('sin', -0.5904620885848999),\n",
              " ('ni', -0.6104201078414917),\n",
              " ('tu', -0.6658000946044922),\n",
              " ('sábado', -0.6925266981124878),\n",
              " ('martes', -0.7337359189987183),\n",
              " ('lunes', -0.7418662905693054),\n",
              " ('viernes', -0.7452782392501831),\n",
              " ('jueves', -0.7994962930679321),\n",
              " ('manifiesto', -0.8532463312149048),\n",
              " ('sol', -0.8550961017608643)]"
            ]
          },
          "metadata": {},
          "execution_count": 28
        }
      ]
    },
    {
      "cell_type": "code",
      "source": [
        "# Palabras que se relacionan positicvamente con \"día\"pero negativamente con \"personas\"\n",
        "w2v_model1.wv.most_similar(positive=[\"día\"], negative=[\"personas\"])"
      ],
      "metadata": {
        "colab": {
          "base_uri": "https://localhost:8080/"
        },
        "id": "pPuVQ30yY4hb",
        "outputId": "0a37df1d-e844-4fec-bf11-37da0ba7f628"
      },
      "execution_count": 29,
      "outputs": [
        {
          "output_type": "execute_result",
          "data": {
            "text/plain": [
              "[('tu', 0.19913801550865173),\n",
              " ('san', 0.1867763102054596),\n",
              " ('si', 0.18540479242801666),\n",
              " ('ni', 0.16825293004512787),\n",
              " ('año', 0.15131333470344543),\n",
              " ('buen', 0.14701610803604126),\n",
              " ('viernes', 0.14677725732326508),\n",
              " ('sin', 0.14466805756092072),\n",
              " ('agua', 0.14348426461219788),\n",
              " ('porque', 0.14025545120239258)]"
            ]
          },
          "metadata": {},
          "execution_count": 29
        }
      ]
    },
    {
      "cell_type": "markdown",
      "metadata": {
        "id": "WivQZ3ZCZ9N_"
      },
      "source": [
        "### Conclusiones Similitudes y Diferencias\n",
        "- Mirando algunas palabras en forma individual, las similaridades tienen sentido. Solo usando el parámetro 'positive' los resultados coinciden con la proximidad de los vectores en el gráfico, y a veces (no siempre) con la cercanía del significado de las palabras.\n",
        "- La similitud con parámetro 'negative' es más difícil de interpretar. \n",
        "Mirando el código fuente de gensim (https://github.com/RaRe-Technologies/gensim/blob/develop/gensim/models/keyedvectors.py#L776) pude entender desde el punto de vista matemático el significado de combinar positive y negative. El algoritmo hace un vector \"promedio\" dando a los vectores originales pesos positivos o negativos según corresponda, y luego busca los términos similares a este nuevo vector. Desde esta teoría y mirando los valores en los gráficos, el resultado es interpretable. Desde el punto de vista semántico o de contexto dentro del corpus, es más complicado. \n",
        "\n"
      ]
    },
    {
      "cell_type": "markdown",
      "source": [
        "### 5 - Combinamos los dos corpus"
      ],
      "metadata": {
        "id": "YpjU-YtToPI1"
      }
    },
    {
      "cell_type": "code",
      "source": [
        "sentence_tokens3 = sentence_tokens1 + sentence_tokens2"
      ],
      "metadata": {
        "id": "o5M7R60ZqFbt"
      },
      "execution_count": 30,
      "outputs": []
    },
    {
      "cell_type": "code",
      "source": [
        "w2v_model3 = Word2Vec(min_count=5,   # frecuencia mínima de palabra para incluirla en el vocabulario\n",
        "                     window=2,       # cant de palabras antes y desp de la predicha\n",
        "                     size=52,        # dimensionalidad de los vectores \n",
        "                     negative=20,    # cantidad de negative samples... 0 es no se usa\n",
        "                     workers=1,      # si tienen más cores pueden cambiar este valor\n",
        "                     sg=1)           # modelo 0:CBOW  1:skipgram\n"
      ],
      "metadata": {
        "id": "Dl8ZQUz-qEl5"
      },
      "execution_count": 31,
      "outputs": []
    },
    {
      "cell_type": "code",
      "source": [
        "# Buildear el vocabulario con los tokens\n",
        "w2v_model3.build_vocab(sentence_tokens3)\n",
        "print(f\"Corpus\\nCantidad de docs: {w2v_model3.corpus_count}\\nCantidad de words distintas {len(w2v_model3.wv.vocab)}\")"
      ],
      "metadata": {
        "colab": {
          "base_uri": "https://localhost:8080/"
        },
        "id": "Hb36k55fq2vd",
        "outputId": "a738fecd-fff4-487a-e5ff-8d22fdba8784"
      },
      "execution_count": 32,
      "outputs": [
        {
          "output_type": "stream",
          "name": "stdout",
          "text": [
            "Corpus\n",
            "Cantidad de docs: 558\n",
            "Cantidad de words distintas 207\n"
          ]
        }
      ]
    },
    {
      "cell_type": "code",
      "source": [
        "# Entrenamos el modelo generador de vectores\n",
        "w2v_model3.train(sentence_tokens3,\n",
        "                 total_examples=w2v_model3.corpus_count,\n",
        "                 epochs=100,\n",
        "                 compute_loss = True,\n",
        "                 callbacks=[callback()]\n",
        "                 )"
      ],
      "metadata": {
        "colab": {
          "base_uri": "https://localhost:8080/"
        },
        "id": "OHA2A_FSqi4H",
        "outputId": "07868b45-9325-44e5-d0a6-117756a5ee06"
      },
      "execution_count": 33,
      "outputs": [
        {
          "output_type": "stream",
          "name": "stdout",
          "text": [
            "Loss after epoch 0: 50361.23828125\n",
            "Loss after epoch 1: 22267.28515625\n",
            "Loss after epoch 2: 21445.484375\n",
            "Loss after epoch 3: 20329.1484375\n",
            "Loss after epoch 4: 20431.828125\n",
            "Loss after epoch 5: 21089.625\n",
            "Loss after epoch 6: 20799.25\n",
            "Loss after epoch 7: 20934.375\n",
            "Loss after epoch 8: 20365.421875\n",
            "Loss after epoch 9: 20576.65625\n",
            "Loss after epoch 10: 20400.359375\n",
            "Loss after epoch 11: 20537.078125\n",
            "Loss after epoch 12: 20635.78125\n",
            "Loss after epoch 13: 21079.4375\n",
            "Loss after epoch 14: 20529.0\n",
            "Loss after epoch 15: 20128.0\n",
            "Loss after epoch 16: 20919.25\n",
            "Loss after epoch 17: 20597.4375\n",
            "Loss after epoch 18: 20146.9375\n",
            "Loss after epoch 19: 20661.53125\n",
            "Loss after epoch 20: 20431.96875\n",
            "Loss after epoch 21: 20589.25\n",
            "Loss after epoch 22: 19902.4375\n",
            "Loss after epoch 23: 19974.21875\n",
            "Loss after epoch 24: 19683.875\n",
            "Loss after epoch 25: 19873.0625\n",
            "Loss after epoch 26: 19536.8125\n",
            "Loss after epoch 27: 19132.3125\n",
            "Loss after epoch 28: 19176.9375\n",
            "Loss after epoch 29: 19276.0\n",
            "Loss after epoch 30: 18684.625\n",
            "Loss after epoch 31: 19450.125\n",
            "Loss after epoch 32: 18485.0625\n",
            "Loss after epoch 33: 18897.625\n",
            "Loss after epoch 34: 18684.1875\n",
            "Loss after epoch 35: 18326.625\n",
            "Loss after epoch 36: 18131.25\n",
            "Loss after epoch 37: 17901.875\n",
            "Loss after epoch 38: 18553.25\n",
            "Loss after epoch 39: 17759.0\n",
            "Loss after epoch 40: 17980.875\n",
            "Loss after epoch 41: 17814.6875\n",
            "Loss after epoch 42: 17635.75\n",
            "Loss after epoch 43: 17711.5\n",
            "Loss after epoch 44: 17306.0625\n",
            "Loss after epoch 45: 18078.1875\n",
            "Loss after epoch 46: 17345.0\n",
            "Loss after epoch 47: 17764.75\n",
            "Loss after epoch 48: 17190.125\n",
            "Loss after epoch 49: 17500.0\n",
            "Loss after epoch 50: 17985.6875\n",
            "Loss after epoch 51: 17204.625\n",
            "Loss after epoch 52: 16891.375\n",
            "Loss after epoch 53: 15645.375\n",
            "Loss after epoch 54: 15341.625\n",
            "Loss after epoch 55: 15682.75\n",
            "Loss after epoch 56: 15188.0\n",
            "Loss after epoch 57: 15284.875\n",
            "Loss after epoch 58: 15624.25\n",
            "Loss after epoch 59: 15297.125\n",
            "Loss after epoch 60: 15024.75\n",
            "Loss after epoch 61: 15111.125\n",
            "Loss after epoch 62: 15232.125\n",
            "Loss after epoch 63: 14741.375\n",
            "Loss after epoch 64: 14978.75\n",
            "Loss after epoch 65: 15277.5\n",
            "Loss after epoch 66: 15024.125\n",
            "Loss after epoch 67: 15366.625\n",
            "Loss after epoch 68: 14994.375\n",
            "Loss after epoch 69: 15767.5\n",
            "Loss after epoch 70: 15196.25\n",
            "Loss after epoch 71: 14553.0\n",
            "Loss after epoch 72: 14701.0\n",
            "Loss after epoch 73: 14992.5\n",
            "Loss after epoch 74: 15010.125\n",
            "Loss after epoch 75: 14873.25\n",
            "Loss after epoch 76: 14818.875\n",
            "Loss after epoch 77: 15020.375\n",
            "Loss after epoch 78: 15235.875\n",
            "Loss after epoch 79: 15137.125\n",
            "Loss after epoch 80: 15212.75\n",
            "Loss after epoch 81: 14588.375\n",
            "Loss after epoch 82: 14637.0\n",
            "Loss after epoch 83: 15144.25\n",
            "Loss after epoch 84: 14760.75\n",
            "Loss after epoch 85: 14591.0\n",
            "Loss after epoch 86: 14373.0\n",
            "Loss after epoch 87: 14633.625\n",
            "Loss after epoch 88: 14696.625\n",
            "Loss after epoch 89: 14942.375\n",
            "Loss after epoch 90: 14756.125\n",
            "Loss after epoch 91: 14689.25\n",
            "Loss after epoch 92: 14788.125\n",
            "Loss after epoch 93: 14995.75\n",
            "Loss after epoch 94: 14609.25\n",
            "Loss after epoch 95: 14763.625\n",
            "Loss after epoch 96: 14862.375\n",
            "Loss after epoch 97: 14802.5\n",
            "Loss after epoch 98: 14820.25\n",
            "Loss after epoch 99: 14854.0\n"
          ]
        },
        {
          "output_type": "execute_result",
          "data": {
            "text/plain": [
              "(237044, 753100)"
            ]
          },
          "metadata": {},
          "execution_count": 33
        }
      ]
    },
    {
      "cell_type": "code",
      "source": [
        "# Grafica los embeddings del texto3 en 2D\n",
        "x_vals, y_vals, labels = reduce_dimensions(w2v_model3)\n",
        "\n",
        "MAX_WORDS=300\n",
        "fig = px.scatter(x=x_vals[:MAX_WORDS], y=y_vals[:MAX_WORDS], text=labels[:MAX_WORDS], width=1100, height=1000)\n",
        "fig.update_layout( xaxis = dict(tickmode = 'linear', tick0 = 0,dtick = 1),\n",
        "                   yaxis = dict(tickmode = 'linear', tick0 = 0,dtick = 1))\n",
        "fig.show(renderer=\"colab\")"
      ],
      "metadata": {
        "colab": {
          "base_uri": "https://localhost:8080/",
          "height": 1000
        },
        "id": "vHVaCm84sKjf",
        "outputId": "c9c880fe-3372-4707-b0d8-25a5cd3f85a0"
      },
      "execution_count": 34,
      "outputs": [
        {
          "output_type": "display_data",
          "data": {
            "text/html": [
              "<html>\n",
              "<head><meta charset=\"utf-8\" /></head>\n",
              "<body>\n",
              "    <div>            <script src=\"https://cdnjs.cloudflare.com/ajax/libs/mathjax/2.7.5/MathJax.js?config=TeX-AMS-MML_SVG\"></script><script type=\"text/javascript\">if (window.MathJax) {MathJax.Hub.Config({SVG: {font: \"STIX-Web\"}});}</script>                <script type=\"text/javascript\">window.PlotlyConfig = {MathJaxConfig: 'local'};</script>\n",
              "        <script src=\"https://cdn.plot.ly/plotly-2.8.3.min.js\"></script>                <div id=\"ef0d10f1-02df-45ba-9685-7050ccffab9e\" class=\"plotly-graph-div\" style=\"height:1000px; width:1100px;\"></div>            <script type=\"text/javascript\">                                    window.PLOTLYENV=window.PLOTLYENV || {};                                    if (document.getElementById(\"ef0d10f1-02df-45ba-9685-7050ccffab9e\")) {                    Plotly.newPlot(                        \"ef0d10f1-02df-45ba-9685-7050ccffab9e\",                        [{\"hovertemplate\":\"x=%{x}<br>y=%{y}<br>text=%{text}<extra></extra>\",\"legendgroup\":\"\",\"marker\":{\"color\":\"#636efa\",\"symbol\":\"circle\"},\"mode\":\"markers+text\",\"name\":\"\",\"orientation\":\"v\",\"showlegend\":false,\"text\":[\"el\",\"que\",\"de\",\"la\",\"y\",\"tiempo\",\"en\",\"no\",\"a\",\"se\",\"es\",\"los\",\"las\",\"lo\",\"del\",\"para\",\"m\\u00e1s\",\"por\",\"d\\u00eda\",\"al\",\"indica\",\"un\",\"con\",\"ni\",\"cuando\",\"hay\",\"su\",\"una\",\"todo\",\"porque\",\"vida\",\"sin\",\"quien\",\"sol\",\"como\",\"todos\",\"viento\",\"martes\",\"te\",\"pero\",\"si\",\"a\\u00f1o\",\"hace\",\"siempre\",\"son\",\"tu\",\"agua\",\"mucho\",\"o\",\"d\\u00edas\",\"significa\",\"lluvia\",\"est\\u00e1\",\"ser\",\"tiene\",\"noche\",\"nunca\",\"mal\",\"nos\",\"da\",\"san\",\"va\",\"ya\",\"le\",\"cosas\",\"personas\",\"nada\",\"saber\",\"cada\",\"puede\",\"dinero\",\"aconseja\",\"ha\",\"me\",\"muy\",\"bien\",\"pone\",\"manifiesto\",\"domingo\",\"llueve\",\"vale\",\"pasado\",\"sino\",\"circunstancias\",\"mi\",\"cosa\",\"hacen\",\"buen\",\"hacer\",\"menos\",\"tan\",\"mismo\",\"otra\",\"presente\",\"buena\",\"s\\u00f3lo\",\"poco\",\"tiempos\",\"ti\",\"ma\\u00f1ana\",\"algo\",\"refr\\u00e1n\",\"algunos\",\"dios\",\"\\u00e9l\",\"viene\",\"todas\",\"suele\",\"veces\",\"trae\",\"despu\\u00e9s\",\"uno\",\"este\",\"lunes\",\"s\\u00e1bado\",\"semana\",\"heladas\",\"aire\",\"hacia\",\"otros\",\"cura\",\"paciencia\",\"tras\",\"fin\",\"invierno\",\"paso\",\"nadie\",\"muchas\",\"otro\",\"trabajo\",\"mes\",\"jueves\",\"viernes\",\"hielo\",\"helada\",\"sue\\u00f1o\",\"he\",\"entre\",\"a\\u00f1os\",\"mundo\",\"gran\",\"cielo\",\"vuela\",\"cases\",\"ninguno\",\"muchos\",\"tener\",\"pronto\",\"agosto\",\"viejo\",\"dar\",\"oportunidad\",\"palabras\",\"debe\",\"hombre\",\"tres\",\"llover\",\"antes\",\"sale\",\"mejor\",\"esta\",\"hoy\",\"sabe\",\"suerte\",\"venga\",\"calor\",\"verdad\",\"oro\",\"muda\",\"jam\\u00e1s\",\"ido\",\"piedra\",\"ning\\u00fan\",\"mayo\",\"pan\",\"febrero\",\"enero\",\"flores\",\"contra\",\"tienen\",\"estas\",\"dura\",\"dem\\u00e1s\",\"perdido\",\"algunas\",\"malo\",\"primer\",\"fortuna\",\"alguna\",\"parte\",\"campo\",\"siguiente\",\"perder\",\"s\\u00ed\",\"qu\\u00e9\",\"mi\\u00e9rcoles\",\"fiesta\",\"ese\",\"aplica\",\"virgen\",\"julio\",\"hiela\",\"lluvias\",\"dos\",\"frases\",\"solo\",\"vivir\"],\"x\":[-0.5902565121650696,-1.2308019399642944,-0.34574782848358154,-0.3972863256931305,-0.23342326283454895,-0.7644332647323608,-1.3562453985214233,-2.762334108352661,-1.8320198059082031,-0.8555857539176941,-1.9951251745224,2.1754748821258545,3.208897352218628,-3.06246018409729,0.13060089945793152,-0.8304327726364136,-1.6072897911071777,0.3537669777870178,-0.14369583129882812,1.1625148057937622,0.11533797532320023,-5.903951168060303,0.9275357127189636,-4.1283345222473145,-0.9449003338813782,-0.8107951283454895,1.3920763731002808,-3.372126817703247,-1.9526681900024414,1.520769715309143,-4.649778366088867,-4.158932685852051,2.1763176918029785,2.329875946044922,-10.711664199829102,2.4577395915985107,-9.405572891235352,-1.9745265245437622,-8.379054069519043,-5.986344337463379,-1.324188232421875,4.822712421417236,-1.6749732494354248,-6.251626014709473,4.080611228942871,-9.192330360412598,6.935483455657959,2.854557991027832,7.866787910461426,-0.2746802270412445,8.644580841064453,6.430436134338379,4.981356143951416,-9.493162155151367,1.514426350593567,2.2859368324279785,-2.949147939682007,2.6436550617218018,4.020310878753662,2.204791784286499,8.573041915893555,-8.793230056762695,1.7712299823760986,-2.4310145378112793,4.197036266326904,4.890159606933594,-3.4226620197296143,-5.851073741912842,6.055356025695801,-9.642961502075195,0.5511237978935242,-6.18023157119751,-5.219849586486816,-11.194515228271484,-2.757929801940918,-2.009929895401001,7.393963813781738,7.133139133453369,-2.554734230041504,9.849306106567383,-5.271215915679932,-3.9419162273406982,1.7803382873535156,3.658961534500122,2.537684202194214,-4.809654235839844,-0.47821804881095886,4.266143798828125,-8.261296272277832,3.336275815963745,-9.452786445617676,-7.782505989074707,-4.589997291564941,-8.346063613891602,-7.190191268920898,-5.5622124671936035,-8.673233985900879,4.907404899597168,-9.04808235168457,-3.7646448612213135,-5.341891288757324,-5.4127092361450195,5.5778117179870605,-4.7319207191467285,-7.545100212097168,-7.959784984588623,5.32504415512085,5.844463348388672,5.617991924285889,2.1688485145568848,5.139102935791016,-2.191188335418701,6.939016342163086,-2.2109320163726807,-3.4698662757873535,-0.3331422805786133,6.178018093109131,4.340616226196289,-1.0274313688278198,5.441766738891602,1.7261621952056885,-6.912994861602783,-8.188736915588379,0.6793364882469177,4.638194561004639,3.08659291267395,-8.638618469238281,4.109705448150635,-5.589598178863525,-3.7967007160186768,6.516624927520752,-0.8029616475105286,-1.4745720624923706,7.439876556396484,5.046821594238281,-5.550045013427734,-11.117349624633789,2.5646088123321533,2.0016841888427734,-4.70311164855957,4.565249919891357,2.11576247215271,-8.33170223236084,-3.7763516902923584,0.26727455854415894,0.10009951889514923,-7.263469696044922,-9.254094123840332,7.393489360809326,-8.799219131469727,-4.1509599685668945,-6.86913537979126,3.8002336025238037,-5.196256160736084,-6.780457496643066,6.839271545410156,8.541299819946289,0.8410588502883911,0.24718451499938965,-6.723521709442139,5.156867027282715,-3.7984120845794678,-6.666407585144043,2.1801631450653076,-3.4071292877197266,6.8005805015563965,-4.302847862243652,-5.475149631500244,-1.7129273414611816,-0.062029384076595306,-6.505518913269043,3.1057536602020264,-3.95405912399292,5.585457801818848,5.064478397369385,8.147459983825684,7.741686820983887,-7.468207359313965,-5.297375202178955,3.166529655456543,4.474470615386963,-8.614710807800293,-0.6315019726753235,-6.258352279663086,4.454385757446289,3.089003324508667,0.8088439702987671,7.568081378936768,2.913167715072632,3.6186530590057373,4.797025680541992,0.22295334935188293,-4.359004497528076,-7.508490085601807,-6.765745162963867,-2.412811040878296,-0.10238721966743469,3.342604875564575,0.39880189299583435,8.264065742492676,7.162611484527588,7.675181865692139,6.589328289031982,3.3037049770355225,4.453583717346191,-7.117119312286377,-6.826904773712158],\"xaxis\":\"x\",\"y\":[0.8619586229324341,-0.5469404458999634,-1.2135698795318604,-0.9558452367782593,-0.7828676104545593,0.8229219913482666,-1.5451223850250244,-1.5264099836349487,-1.7240307331085205,0.21722018718719482,-0.879215657711029,-5.237154006958008,-3.619063377380371,-1.3056650161743164,0.9392870664596558,-1.9846206903457642,0.06184375286102295,-2.366642713546753,5.210047721862793,0.9925844669342041,1.4743717908859253,2.8696630001068115,0.10575854778289795,-8.493061065673828,1.9853509664535522,-3.304189443588257,-6.77446985244751,1.8852639198303223,1.3222136497497559,2.6291892528533936,1.0192515850067139,-6.215311050415039,-8.374261856079102,7.490120887756348,0.4093117117881775,-6.3310346603393555,-1.3089044094085693,-8.544337272644043,-3.61599063873291,0.20234206318855286,3.9892971515655518,3.1793766021728516,2.800753116607666,-0.8400870561599731,-5.894657135009766,-4.383108139038086,-0.03622046485543251,2.398202419281006,-5.468106746673584,-9.318344116210938,4.353175640106201,0.9499995112419128,7.3952789306640625,2.624227523803711,-7.848435401916504,-0.4647892713546753,-0.12670426070690155,5.471856594085693,-9.55805778503418,4.154087066650391,2.5280778408050537,0.1773119866847992,1.5328892469406128,4.375355243682861,-4.354569435119629,-3.5175514221191406,-2.3732364177703857,-4.099677562713623,-7.518954753875732,4.251856803894043,8.814595222473145,-6.423678398132324,8.247715950012207,-2.8187553882598877,-4.069491863250732,-2.7938992977142334,-3.370777130126953,-2.8035435676574707,7.387446403503418,1.5012052059173584,-2.077613353729248,-3.9159083366394043,-9.526397705078125,-1.425083041191101,0.8236901164054871,-0.5444740056991577,-5.886147975921631,5.014167308807373,3.7033746242523193,-8.355570793151855,-5.822810649871826,1.53822660446167,2.3583450317382812,-7.3816046714782715,5.795161724090576,1.3804821968078613,-6.757017135620117,-6.464304447174072,3.70283842086792,5.791996479034424,-4.13170862197876,5.634375095367432,-4.582180023193359,3.955594778060913,-0.6079948544502258,-2.057706594467163,-6.662764072418213,5.287792205810547,-1.2988120317459106,-3.6871540546417236,-0.6729680299758911,3.814246654510498,5.115045547485352,-8.132906913757324,-6.259842872619629,-9.181451797485352,2.202582359313965,4.062350273132324,-5.028608798980713,-5.110749244689941,-3.6111507415771484,-5.071558475494385,-0.9404943585395813,-0.7271405458450317,4.89771032333374,-2.4107115268707275,3.3523154258728027,-2.684278726577759,2.6809675693511963,0.33239391446113586,4.426733016967773,7.086411952972412,7.378851413726807,0.5932873487472534,0.5367979407310486,1.4660369157791138,-2.8470804691314697,-1.0378451347351074,-1.0208592414855957,-0.8864186406135559,0.9203013777732849,-2.2535853385925293,-1.1065415143966675,-8.652552604675293,-3.83585786819458,-4.932809829711914,-5.284068584442139,1.556050419807434,2.9279701709747314,-4.949294090270996,-3.539821147918701,5.411055564880371,-3.6747872829437256,4.762609004974365,2.2086410522460938,1.902727484703064,-1.241986870765686,-2.108463764190674,3.347902774810791,5.432596683502197,-2.7412312030792236,5.815917015075684,1.433766484260559,-7.960443019866943,3.436647891998291,0.6314820051193237,1.937631607055664,-1.9872074127197266,0.9026975631713867,-0.017828766256570816,-1.8766220808029175,3.9448158740997314,0.4667665660381317,2.2195041179656982,2.416266918182373,1.82135808467865,1.2622597217559814,-4.447011470794678,5.166398525238037,-5.762309551239014,-2.0364041328430176,-6.601322650909424,-4.9469780921936035,-2.146538257598877,-2.80949068069458,3.0779523849487305,5.692935466766357,-5.584362983703613,-5.30271053314209,-6.8895463943481445,0.8681004047393799,5.306132793426514,2.0901498794555664,3.082836627960205,-3.489542245864868,-7.754025459289551,5.3980231285095215,4.3308868408203125,2.7587621212005615,0.5065274238586426,2.1182339191436768,2.692819833755493,4.099025726318359,-1.3593485355377197,-3.363569736480713,1.306135654449463,-3.8130836486816406],\"yaxis\":\"y\",\"type\":\"scatter\"}],                        {\"template\":{\"data\":{\"bar\":[{\"error_x\":{\"color\":\"#2a3f5f\"},\"error_y\":{\"color\":\"#2a3f5f\"},\"marker\":{\"line\":{\"color\":\"#E5ECF6\",\"width\":0.5},\"pattern\":{\"fillmode\":\"overlay\",\"size\":10,\"solidity\":0.2}},\"type\":\"bar\"}],\"barpolar\":[{\"marker\":{\"line\":{\"color\":\"#E5ECF6\",\"width\":0.5},\"pattern\":{\"fillmode\":\"overlay\",\"size\":10,\"solidity\":0.2}},\"type\":\"barpolar\"}],\"carpet\":[{\"aaxis\":{\"endlinecolor\":\"#2a3f5f\",\"gridcolor\":\"white\",\"linecolor\":\"white\",\"minorgridcolor\":\"white\",\"startlinecolor\":\"#2a3f5f\"},\"baxis\":{\"endlinecolor\":\"#2a3f5f\",\"gridcolor\":\"white\",\"linecolor\":\"white\",\"minorgridcolor\":\"white\",\"startlinecolor\":\"#2a3f5f\"},\"type\":\"carpet\"}],\"choropleth\":[{\"colorbar\":{\"outlinewidth\":0,\"ticks\":\"\"},\"type\":\"choropleth\"}],\"contour\":[{\"colorbar\":{\"outlinewidth\":0,\"ticks\":\"\"},\"colorscale\":[[0.0,\"#0d0887\"],[0.1111111111111111,\"#46039f\"],[0.2222222222222222,\"#7201a8\"],[0.3333333333333333,\"#9c179e\"],[0.4444444444444444,\"#bd3786\"],[0.5555555555555556,\"#d8576b\"],[0.6666666666666666,\"#ed7953\"],[0.7777777777777778,\"#fb9f3a\"],[0.8888888888888888,\"#fdca26\"],[1.0,\"#f0f921\"]],\"type\":\"contour\"}],\"contourcarpet\":[{\"colorbar\":{\"outlinewidth\":0,\"ticks\":\"\"},\"type\":\"contourcarpet\"}],\"heatmap\":[{\"colorbar\":{\"outlinewidth\":0,\"ticks\":\"\"},\"colorscale\":[[0.0,\"#0d0887\"],[0.1111111111111111,\"#46039f\"],[0.2222222222222222,\"#7201a8\"],[0.3333333333333333,\"#9c179e\"],[0.4444444444444444,\"#bd3786\"],[0.5555555555555556,\"#d8576b\"],[0.6666666666666666,\"#ed7953\"],[0.7777777777777778,\"#fb9f3a\"],[0.8888888888888888,\"#fdca26\"],[1.0,\"#f0f921\"]],\"type\":\"heatmap\"}],\"heatmapgl\":[{\"colorbar\":{\"outlinewidth\":0,\"ticks\":\"\"},\"colorscale\":[[0.0,\"#0d0887\"],[0.1111111111111111,\"#46039f\"],[0.2222222222222222,\"#7201a8\"],[0.3333333333333333,\"#9c179e\"],[0.4444444444444444,\"#bd3786\"],[0.5555555555555556,\"#d8576b\"],[0.6666666666666666,\"#ed7953\"],[0.7777777777777778,\"#fb9f3a\"],[0.8888888888888888,\"#fdca26\"],[1.0,\"#f0f921\"]],\"type\":\"heatmapgl\"}],\"histogram\":[{\"marker\":{\"pattern\":{\"fillmode\":\"overlay\",\"size\":10,\"solidity\":0.2}},\"type\":\"histogram\"}],\"histogram2d\":[{\"colorbar\":{\"outlinewidth\":0,\"ticks\":\"\"},\"colorscale\":[[0.0,\"#0d0887\"],[0.1111111111111111,\"#46039f\"],[0.2222222222222222,\"#7201a8\"],[0.3333333333333333,\"#9c179e\"],[0.4444444444444444,\"#bd3786\"],[0.5555555555555556,\"#d8576b\"],[0.6666666666666666,\"#ed7953\"],[0.7777777777777778,\"#fb9f3a\"],[0.8888888888888888,\"#fdca26\"],[1.0,\"#f0f921\"]],\"type\":\"histogram2d\"}],\"histogram2dcontour\":[{\"colorbar\":{\"outlinewidth\":0,\"ticks\":\"\"},\"colorscale\":[[0.0,\"#0d0887\"],[0.1111111111111111,\"#46039f\"],[0.2222222222222222,\"#7201a8\"],[0.3333333333333333,\"#9c179e\"],[0.4444444444444444,\"#bd3786\"],[0.5555555555555556,\"#d8576b\"],[0.6666666666666666,\"#ed7953\"],[0.7777777777777778,\"#fb9f3a\"],[0.8888888888888888,\"#fdca26\"],[1.0,\"#f0f921\"]],\"type\":\"histogram2dcontour\"}],\"mesh3d\":[{\"colorbar\":{\"outlinewidth\":0,\"ticks\":\"\"},\"type\":\"mesh3d\"}],\"parcoords\":[{\"line\":{\"colorbar\":{\"outlinewidth\":0,\"ticks\":\"\"}},\"type\":\"parcoords\"}],\"pie\":[{\"automargin\":true,\"type\":\"pie\"}],\"scatter\":[{\"marker\":{\"colorbar\":{\"outlinewidth\":0,\"ticks\":\"\"}},\"type\":\"scatter\"}],\"scatter3d\":[{\"line\":{\"colorbar\":{\"outlinewidth\":0,\"ticks\":\"\"}},\"marker\":{\"colorbar\":{\"outlinewidth\":0,\"ticks\":\"\"}},\"type\":\"scatter3d\"}],\"scattercarpet\":[{\"marker\":{\"colorbar\":{\"outlinewidth\":0,\"ticks\":\"\"}},\"type\":\"scattercarpet\"}],\"scattergeo\":[{\"marker\":{\"colorbar\":{\"outlinewidth\":0,\"ticks\":\"\"}},\"type\":\"scattergeo\"}],\"scattergl\":[{\"marker\":{\"colorbar\":{\"outlinewidth\":0,\"ticks\":\"\"}},\"type\":\"scattergl\"}],\"scattermapbox\":[{\"marker\":{\"colorbar\":{\"outlinewidth\":0,\"ticks\":\"\"}},\"type\":\"scattermapbox\"}],\"scatterpolar\":[{\"marker\":{\"colorbar\":{\"outlinewidth\":0,\"ticks\":\"\"}},\"type\":\"scatterpolar\"}],\"scatterpolargl\":[{\"marker\":{\"colorbar\":{\"outlinewidth\":0,\"ticks\":\"\"}},\"type\":\"scatterpolargl\"}],\"scatterternary\":[{\"marker\":{\"colorbar\":{\"outlinewidth\":0,\"ticks\":\"\"}},\"type\":\"scatterternary\"}],\"surface\":[{\"colorbar\":{\"outlinewidth\":0,\"ticks\":\"\"},\"colorscale\":[[0.0,\"#0d0887\"],[0.1111111111111111,\"#46039f\"],[0.2222222222222222,\"#7201a8\"],[0.3333333333333333,\"#9c179e\"],[0.4444444444444444,\"#bd3786\"],[0.5555555555555556,\"#d8576b\"],[0.6666666666666666,\"#ed7953\"],[0.7777777777777778,\"#fb9f3a\"],[0.8888888888888888,\"#fdca26\"],[1.0,\"#f0f921\"]],\"type\":\"surface\"}],\"table\":[{\"cells\":{\"fill\":{\"color\":\"#EBF0F8\"},\"line\":{\"color\":\"white\"}},\"header\":{\"fill\":{\"color\":\"#C8D4E3\"},\"line\":{\"color\":\"white\"}},\"type\":\"table\"}]},\"layout\":{\"annotationdefaults\":{\"arrowcolor\":\"#2a3f5f\",\"arrowhead\":0,\"arrowwidth\":1},\"autotypenumbers\":\"strict\",\"coloraxis\":{\"colorbar\":{\"outlinewidth\":0,\"ticks\":\"\"}},\"colorscale\":{\"diverging\":[[0,\"#8e0152\"],[0.1,\"#c51b7d\"],[0.2,\"#de77ae\"],[0.3,\"#f1b6da\"],[0.4,\"#fde0ef\"],[0.5,\"#f7f7f7\"],[0.6,\"#e6f5d0\"],[0.7,\"#b8e186\"],[0.8,\"#7fbc41\"],[0.9,\"#4d9221\"],[1,\"#276419\"]],\"sequential\":[[0.0,\"#0d0887\"],[0.1111111111111111,\"#46039f\"],[0.2222222222222222,\"#7201a8\"],[0.3333333333333333,\"#9c179e\"],[0.4444444444444444,\"#bd3786\"],[0.5555555555555556,\"#d8576b\"],[0.6666666666666666,\"#ed7953\"],[0.7777777777777778,\"#fb9f3a\"],[0.8888888888888888,\"#fdca26\"],[1.0,\"#f0f921\"]],\"sequentialminus\":[[0.0,\"#0d0887\"],[0.1111111111111111,\"#46039f\"],[0.2222222222222222,\"#7201a8\"],[0.3333333333333333,\"#9c179e\"],[0.4444444444444444,\"#bd3786\"],[0.5555555555555556,\"#d8576b\"],[0.6666666666666666,\"#ed7953\"],[0.7777777777777778,\"#fb9f3a\"],[0.8888888888888888,\"#fdca26\"],[1.0,\"#f0f921\"]]},\"colorway\":[\"#636efa\",\"#EF553B\",\"#00cc96\",\"#ab63fa\",\"#FFA15A\",\"#19d3f3\",\"#FF6692\",\"#B6E880\",\"#FF97FF\",\"#FECB52\"],\"font\":{\"color\":\"#2a3f5f\"},\"geo\":{\"bgcolor\":\"white\",\"lakecolor\":\"white\",\"landcolor\":\"#E5ECF6\",\"showlakes\":true,\"showland\":true,\"subunitcolor\":\"white\"},\"hoverlabel\":{\"align\":\"left\"},\"hovermode\":\"closest\",\"mapbox\":{\"style\":\"light\"},\"paper_bgcolor\":\"white\",\"plot_bgcolor\":\"#E5ECF6\",\"polar\":{\"angularaxis\":{\"gridcolor\":\"white\",\"linecolor\":\"white\",\"ticks\":\"\"},\"bgcolor\":\"#E5ECF6\",\"radialaxis\":{\"gridcolor\":\"white\",\"linecolor\":\"white\",\"ticks\":\"\"}},\"scene\":{\"xaxis\":{\"backgroundcolor\":\"#E5ECF6\",\"gridcolor\":\"white\",\"gridwidth\":2,\"linecolor\":\"white\",\"showbackground\":true,\"ticks\":\"\",\"zerolinecolor\":\"white\"},\"yaxis\":{\"backgroundcolor\":\"#E5ECF6\",\"gridcolor\":\"white\",\"gridwidth\":2,\"linecolor\":\"white\",\"showbackground\":true,\"ticks\":\"\",\"zerolinecolor\":\"white\"},\"zaxis\":{\"backgroundcolor\":\"#E5ECF6\",\"gridcolor\":\"white\",\"gridwidth\":2,\"linecolor\":\"white\",\"showbackground\":true,\"ticks\":\"\",\"zerolinecolor\":\"white\"}},\"shapedefaults\":{\"line\":{\"color\":\"#2a3f5f\"}},\"ternary\":{\"aaxis\":{\"gridcolor\":\"white\",\"linecolor\":\"white\",\"ticks\":\"\"},\"baxis\":{\"gridcolor\":\"white\",\"linecolor\":\"white\",\"ticks\":\"\"},\"bgcolor\":\"#E5ECF6\",\"caxis\":{\"gridcolor\":\"white\",\"linecolor\":\"white\",\"ticks\":\"\"}},\"title\":{\"x\":0.05},\"xaxis\":{\"automargin\":true,\"gridcolor\":\"white\",\"linecolor\":\"white\",\"ticks\":\"\",\"title\":{\"standoff\":15},\"zerolinecolor\":\"white\",\"zerolinewidth\":2},\"yaxis\":{\"automargin\":true,\"gridcolor\":\"white\",\"linecolor\":\"white\",\"ticks\":\"\",\"title\":{\"standoff\":15},\"zerolinecolor\":\"white\",\"zerolinewidth\":2}}},\"xaxis\":{\"anchor\":\"y\",\"domain\":[0.0,1.0],\"title\":{\"text\":\"x\"},\"tickmode\":\"linear\",\"tick0\":0,\"dtick\":1},\"yaxis\":{\"anchor\":\"x\",\"domain\":[0.0,1.0],\"title\":{\"text\":\"y\"},\"tickmode\":\"linear\",\"tick0\":0,\"dtick\":1},\"legend\":{\"tracegroupgap\":0},\"margin\":{\"t\":60},\"height\":1000,\"width\":1100},                        {\"responsive\": true}                    ).then(function(){\n",
              "                            \n",
              "var gd = document.getElementById('ef0d10f1-02df-45ba-9685-7050ccffab9e');\n",
              "var x = new MutationObserver(function (mutations, observer) {{\n",
              "        var display = window.getComputedStyle(gd).display;\n",
              "        if (!display || display === 'none') {{\n",
              "            console.log([gd, 'removed!']);\n",
              "            Plotly.purge(gd);\n",
              "            observer.disconnect();\n",
              "        }}\n",
              "}});\n",
              "\n",
              "// Listen for the removal of the full notebook cells\n",
              "var notebookContainer = gd.closest('#notebook-container');\n",
              "if (notebookContainer) {{\n",
              "    x.observe(notebookContainer, {childList: true});\n",
              "}}\n",
              "\n",
              "// Listen for the clearing of the current output cell\n",
              "var outputEl = gd.closest('.output');\n",
              "if (outputEl) {{\n",
              "    x.observe(outputEl, {childList: true});\n",
              "}}\n",
              "\n",
              "                        })                };                            </script>        </div>\n",
              "</body>\n",
              "</html>"
            ]
          },
          "metadata": {}
        }
      ]
    },
    {
      "cell_type": "markdown",
      "source": [
        "Exploramos la similitud de algunas palabras"
      ],
      "metadata": {
        "id": "1Z4MpVWrs9L3"
      }
    },
    {
      "cell_type": "code",
      "source": [
        "w2v_model3.wv.most_similar(positive=[\"día\"])"
      ],
      "metadata": {
        "colab": {
          "base_uri": "https://localhost:8080/"
        },
        "id": "aGODA-aEs0h0",
        "outputId": "7d5d2c6b-7a55-4b8f-b5d8-e2b6da3b35eb"
      },
      "execution_count": 35,
      "outputs": [
        {
          "output_type": "execute_result",
          "data": {
            "text/plain": [
              "[('siguiente', 0.7196047306060791),\n",
              " ('fiesta', 0.7063302993774414),\n",
              " ('noche', 0.6262022852897644),\n",
              " ('mañana', 0.6200934648513794),\n",
              " ('agosto', 0.5915057063102722),\n",
              " ('mes', 0.5730820894241333),\n",
              " ('primer', 0.5671219825744629),\n",
              " ('julio', 0.5645145177841187),\n",
              " ('trabajo', 0.5559523701667786),\n",
              " ('sueño', 0.5389246344566345)]"
            ]
          },
          "metadata": {},
          "execution_count": 35
        }
      ]
    },
    {
      "cell_type": "code",
      "source": [
        "w2v_model3.wv.most_similar(positive=[\"tiempo\"])"
      ],
      "metadata": {
        "colab": {
          "base_uri": "https://localhost:8080/"
        },
        "id": "Tm9DxEjts22P",
        "outputId": "2c5475f7-a80e-4359-c574-cbbc726ff84b"
      },
      "execution_count": 36,
      "outputs": [
        {
          "output_type": "execute_result",
          "data": {
            "text/plain": [
              "[('el', 0.6532574892044067),\n",
              " ('paso', 0.6488692164421082),\n",
              " ('muda', 0.6277015209197998),\n",
              " ('oro', 0.6194952726364136),\n",
              " ('con', 0.5921300649642944),\n",
              " ('ido', 0.582643985748291),\n",
              " ('perdido', 0.566999077796936),\n",
              " ('jamás', 0.5666837692260742),\n",
              " ('cosas', 0.542362630367279),\n",
              " ('vuela', 0.5256019830703735)]"
            ]
          },
          "metadata": {},
          "execution_count": 36
        }
      ]
    },
    {
      "cell_type": "code",
      "source": [
        "w2v_model3.wv.most_similar(positive=[\"lluvia\"])"
      ],
      "metadata": {
        "colab": {
          "base_uri": "https://localhost:8080/"
        },
        "id": "-Q1MK_WhtG11",
        "outputId": "7cc02f91-cd4d-4d5c-9b95-daf72e90cfd6"
      },
      "execution_count": 37,
      "outputs": [
        {
          "output_type": "execute_result",
          "data": {
            "text/plain": [
              "[('calor', 0.7326878309249878),\n",
              " ('tres', 0.7022217512130737),\n",
              " ('julio', 0.6756519079208374),\n",
              " ('mayo', 0.6742298603057861),\n",
              " ('enero', 0.6695873737335205),\n",
              " ('heladas', 0.669151782989502),\n",
              " ('campo', 0.6645703315734863),\n",
              " ('agua', 0.6615532636642456),\n",
              " ('veces', 0.6386480927467346),\n",
              " ('virgen', 0.6317189931869507)]"
            ]
          },
          "metadata": {},
          "execution_count": 37
        }
      ]
    },
    {
      "cell_type": "markdown",
      "source": [
        "### Conclusiones (texto unificado)\n",
        "Al unificar los dos corpus, los cuales tienen algún vocabulario en común) se puede ver que el incremento de la cantidad de información (cantidad de documentos y cantidad de palabras diferentes) se obtienen mejores respuestas:\n",
        "- aparecen juntos los meses - enero, febrero, julio y agosto - y alguna información relativa al clima - lluvia, helada, agua, calor, llover\n",
        "- mirando palabras en forma individual (en particular las mismas que habíamos explorado por separado en los textos 1 y 2) podemos ver que los resultados devuelven palabras con mucha relación desde el punto de vista semántico.\n",
        "\n",
        "En conclusión, trabajar con un corpus mayor dio resultados más interesantes."
      ],
      "metadata": {
        "id": "4gy7dJEHtSKk"
      }
    },
    {
      "cell_type": "code",
      "source": [],
      "metadata": {
        "id": "2vhz3sOkvJud"
      },
      "execution_count": 37,
      "outputs": []
    }
  ],
  "metadata": {
    "colab": {
      "collapsed_sections": [],
      "provenance": [],
      "include_colab_link": true
    },
    "kernelspec": {
      "display_name": "Python 3",
      "language": "python",
      "name": "python3"
    },
    "language_info": {
      "codemirror_mode": {
        "name": "ipython",
        "version": 3
      },
      "file_extension": ".py",
      "mimetype": "text/x-python",
      "name": "python",
      "nbconvert_exporter": "python",
      "pygments_lexer": "ipython3",
      "version": "3.8.10"
    }
  },
  "nbformat": 4,
  "nbformat_minor": 0
}