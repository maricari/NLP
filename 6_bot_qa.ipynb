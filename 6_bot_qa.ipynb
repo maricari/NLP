{
  "cells": [
    {
      "cell_type": "markdown",
      "metadata": {
        "id": "view-in-github",
        "colab_type": "text"
      },
      "source": [
        "<a href=\"https://colab.research.google.com/github/maricari/NLP/blob/main/6_bot_qa.ipynb\" target=\"_parent\"><img src=\"https://colab.research.google.com/assets/colab-badge.svg\" alt=\"Open In Colab\"/></a>"
      ]
    },
    {
      "cell_type": "markdown",
      "metadata": {
        "id": "pfa39F4lsLf3"
      },
      "source": [
        "<img src=\"https://github.com/hernancontigiani/ceia_memorias_especializacion/raw/master/Figures/logoFIUBA.jpg\" width=\"500\" align=\"center\">\n",
        "\n",
        "\n",
        "# Procesamiento de lenguaje natural\n",
        "## LSTM Bot QA con Fasttext"
      ]
    },
    {
      "cell_type": "markdown",
      "source": [
        "## Alumna: María Carina Roldán"
      ],
      "metadata": {
        "id": "4NpS3r58-SLK"
      }
    },
    {
      "cell_type": "markdown",
      "metadata": {
        "id": "ZqO0PRcFsPTe"
      },
      "source": [
        "### Objetivo\n",
        "Implementar un bot basado en el ejemplo del traductor pero con un dataset de QA.\n",
        "\n",
        "Utilizar datos disponibles del challenge ConvAI2 (Conversational Intelligence Challenge 2) de conversaciones en inglés.\n",
        "[LINK](http://convai.io/data/)"
      ]
    },
    {
      "cell_type": "code",
      "execution_count": 57,
      "metadata": {
        "id": "bDFC0I3j9oFD"
      },
      "outputs": [],
      "source": [
        "!pip install --upgrade --no-cache-dir gdown --quiet"
      ]
    },
    {
      "cell_type": "code",
      "source": [
        "import re\n",
        "\n",
        "import numpy as np\n",
        "import pandas as pd\n",
        "\n",
        "import tensorflow as tf\n",
        "from keras.preprocessing.text import one_hot\n",
        "from keras.utils import pad_sequences\n",
        "from keras.models import Sequential\n",
        "from keras.layers.core import Activation, Dropout, Dense\n",
        "from keras.layers import Flatten, LSTM, SimpleRNN\n",
        "from keras.models import Model\n",
        "from keras.layers import Embedding\n",
        "from sklearn.model_selection import train_test_split\n",
        "from keras.preprocessing.text import Tokenizer\n",
        "from keras.layers import Input\n"
      ],
      "metadata": {
        "id": "ercfNjsflNdr"
      },
      "execution_count": 58,
      "outputs": []
    },
    {
      "cell_type": "code",
      "execution_count": 59,
      "metadata": {
        "id": "RHNkUaPp6aYq",
        "colab": {
          "base_uri": "https://localhost:8080/"
        },
        "outputId": "071c9758-16de-4bad-f31f-8b5ec038da39"
      },
      "outputs": [
        {
          "output_type": "stream",
          "name": "stdout",
          "text": [
            "El dataset ya se encuentra descargado\n"
          ]
        }
      ],
      "source": [
        "# Descargar la carpeta de dataset\n",
        "import os\n",
        "import gdown\n",
        "if os.access('data_volunteers.json', os.F_OK) is False:\n",
        "    url = 'https://drive.google.com/uc?id=1awUxYwImF84MIT5-jCaYAPe2QwSgS1hN&export=download'\n",
        "    output = 'data_volunteers.json'\n",
        "    gdown.download(url, output, quiet=False)\n",
        "else:\n",
        "    print(\"El dataset ya se encuentra descargado\")"
      ]
    },
    {
      "cell_type": "code",
      "execution_count": 60,
      "metadata": {
        "id": "WZy1-wgG-Rp7"
      },
      "outputs": [],
      "source": [
        "# dataset_file\n",
        "import json\n",
        "\n",
        "text_file = \"data_volunteers.json\"\n",
        "with open(text_file) as f:\n",
        "    data = json.load(f) # la variable data será un diccionario"
      ]
    },
    {
      "cell_type": "code",
      "execution_count": 61,
      "metadata": {
        "id": "ue5qd54S-eew",
        "colab": {
          "base_uri": "https://localhost:8080/"
        },
        "outputId": "0572ffd4-db7a-472d-d3b3-bac653a12cda"
      },
      "outputs": [
        {
          "output_type": "execute_result",
          "data": {
            "text/plain": [
              "dict_keys(['dialog', 'start_time', 'end_time', 'bot_profile', 'user_profile', 'eval_score', 'profile_match', 'participant1_id', 'participant2_id'])"
            ]
          },
          "metadata": {},
          "execution_count": 61
        }
      ],
      "source": [
        "# Observar los campos disponibles en cada linea del dataset\n",
        "data[0].keys()"
      ]
    },
    {
      "cell_type": "code",
      "source": [
        "for i in (0,1,2): print(data[i]['dialog'])"
      ],
      "metadata": {
        "colab": {
          "base_uri": "https://localhost:8080/"
        },
        "id": "VQFjYiWx_JfK",
        "outputId": "151dc855-8d69-49e8-b414-c9816b3d2b52"
      },
      "execution_count": 62,
      "outputs": [
        {
          "output_type": "stream",
          "name": "stdout",
          "text": [
            "[{'id': 0, 'sender': 'participant1', 'text': 'hi there', 'evaluation_score': None, 'sender_class': 'Human'}]\n",
            "[{'id': 0, 'sender': 'participant1', 'text': 'Hello!', 'evaluation_score': None, 'sender_class': 'Human'}, {'id': 1, 'sender': 'participant2', 'text': 'Hi! How are you?', 'evaluation_score': None, 'sender_class': 'Bot'}, {'id': 2, 'sender': 'participant1', 'text': 'Not bad! And You?', 'evaluation_score': None, 'sender_class': 'Human'}, {'id': 3, 'sender': 'participant2', 'text': \"I'm doing well. Just got engaged to my high school sweetheart.\", 'evaluation_score': None, 'sender_class': 'Bot'}, {'id': 4, 'sender': 'participant1', 'text': 'Wowowowow! Congratulations! Is she pretty?', 'evaluation_score': None, 'sender_class': 'Human'}, {'id': 5, 'sender': 'participant2', 'text': \"She 's pretty cute. She invited me to dinner tonight. 🙂\", 'evaluation_score': None, 'sender_class': 'Bot'}, {'id': 6, 'sender': 'participant1', 'text': 'Cool! Have a good time you both! And what is your hobby?', 'evaluation_score': None, 'sender_class': 'Human'}, {'id': 7, 'sender': 'participant2', 'text': 'I love music! I love Taylor swift. 😉', 'evaluation_score': None, 'sender_class': 'Bot'}, {'id': 8, 'sender': 'participant1', 'text': 'Me too. And what about Iggy Pop?', 'evaluation_score': None, 'sender_class': 'Human'}, {'id': 9, 'sender': 'participant2', 'text': 'I love Ziggy! He is my favorite. Are you and your wife millennial too?', 'evaluation_score': 1, 'sender_class': 'Bot'}, {'id': 10, 'sender': 'participant1', 'text': \"I have no wife. And I'm not millenial, I'm X generation.\", 'evaluation_score': None, 'sender_class': 'Human'}, {'id': 11, 'sender': 'participant1', 'text': 'Hey? Where are you?', 'evaluation_score': None, 'sender_class': 'Human'}, {'id': 12, 'sender': 'participant2', 'text': 'I am sorry to hear that. What do you do for fun?', 'evaluation_score': None, 'sender_class': 'Bot'}, {'id': 13, 'sender': 'participant1', 'text': \"I'm playing pipe organ.\", 'evaluation_score': None, 'sender_class': 'Human'}, {'id': 14, 'sender': 'participant2', 'text': 'That sounds impressive. I like to go out to eat with my friends.', 'evaluation_score': None, 'sender_class': 'Bot'}, {'id': 15, 'sender': 'participant1', 'text': 'Cool! See ya!', 'evaluation_score': None, 'sender_class': 'Human'}]\n",
            "[{'id': 0, 'sender': 'participant1', 'text': 'Hi!', 'evaluation_score': None, 'sender_class': 'Human'}, {'id': 1, 'sender': 'participant1', 'text': 'Hello!', 'evaluation_score': None, 'sender_class': 'Human'}]\n"
          ]
        }
      ]
    },
    {
      "cell_type": "code",
      "execution_count": 63,
      "metadata": {
        "id": "jHBRAXPl-3dz",
        "colab": {
          "base_uri": "https://localhost:8080/"
        },
        "outputId": "b5ebf875-3187-4b2a-a004-0e0426842014"
      },
      "outputs": [
        {
          "output_type": "stream",
          "name": "stdout",
          "text": [
            "Cantidad de rows utilizadas: 6033\n"
          ]
        }
      ],
      "source": [
        "chat_in = []\n",
        "chat_out = []\n",
        "\n",
        "input_sentences = []\n",
        "output_sentences = []\n",
        "output_sentences_inputs = []\n",
        "max_len = 30\n",
        "\n",
        "def clean_text(txt):\n",
        "    txt = txt.lower()    \n",
        "    txt.replace(\"\\'d\", \" had\")\n",
        "    txt.replace(\"\\'s\", \" is\")\n",
        "    txt.replace(\"\\'m\", \" am\")\n",
        "    txt.replace(\"don't\", \"do not\")\n",
        "    txt = re.sub(r'\\W+', ' ', txt)\n",
        "    \n",
        "    return txt\n",
        "\n",
        "for line in data:\n",
        "    for i in range(len(line['dialog'])-1):\n",
        "        # vamos separando el texto en \"preguntas\" (chat_in)\n",
        "        # y \"respuestas\" (chat_out)\n",
        "        chat_in = clean_text(line['dialog'][i]['text'])\n",
        "        chat_out = clean_text(line['dialog'][i+1]['text'])\n",
        "\n",
        "        if len(chat_in) >= max_len or len(chat_out) >= max_len:\n",
        "            continue\n",
        "\n",
        "        input_sentence, output = chat_in, chat_out\n",
        "        \n",
        "        # output sentence (decoder_output) tiene <eos>\n",
        "        output_sentence = output + ' <eos>'\n",
        "        # output sentence input (decoder_input) tiene <sos>\n",
        "        output_sentence_input = '<sos> ' + output\n",
        "\n",
        "        input_sentences.append(input_sentence)\n",
        "        output_sentences.append(output_sentence)\n",
        "        output_sentences_inputs.append(output_sentence_input)\n",
        "\n",
        "print(\"Cantidad de rows utilizadas:\", len(input_sentences))"
      ]
    },
    {
      "cell_type": "code",
      "execution_count": 64,
      "metadata": {
        "id": "07L1qj8pC_l6",
        "colab": {
          "base_uri": "https://localhost:8080/"
        },
        "outputId": "3014283e-9d02-4517-fb65-0472364b9ee0"
      },
      "outputs": [
        {
          "output_type": "stream",
          "name": "stdout",
          "text": [
            "hello \n",
            "\thi how are you  <eos>\n",
            "\t<sos> hi how are you \n",
            "hi how are you \n",
            "\tnot bad and you  <eos>\n",
            "\t<sos> not bad and you \n",
            "hi \n",
            "\thello  <eos>\n",
            "\t<sos> hello \n",
            "hi \n",
            "\thello  <eos>\n",
            "\t<sos> hello \n",
            "hi \n",
            "\thello how are you today  <eos>\n",
            "\t<sos> hello how are you today \n"
          ]
        }
      ],
      "source": [
        "for i in range(5):\n",
        "  print(f\"{input_sentences[i]}\\n\\t{output_sentences[i]}\\n\\t{output_sentences_inputs[i]}\")"
      ]
    },
    {
      "cell_type": "markdown",
      "metadata": {
        "id": "8P-ynUNP5xp6"
      },
      "source": [
        "### 2 - Preprocesamiento\n",
        "Realizar el preprocesamiento necesario para obtener:\n",
        "- word2idx_inputs, max_input_len\n",
        "- word2idx_outputs, max_out_len, num_words_output\n",
        "- encoder_input_sequences, decoder_output_sequences, decoder_targets"
      ]
    },
    {
      "cell_type": "code",
      "source": [
        "# Definir el tamaño máximo del vocabulario\n",
        "MAX_VOCAB_SIZE = 8000"
      ],
      "metadata": {
        "id": "30ddI4_Nikjy"
      },
      "execution_count": 65,
      "outputs": []
    },
    {
      "cell_type": "code",
      "source": [
        "# Tokenizar las palabras con el Tokenizer de Keras\n",
        "\n",
        "# - num_words --> the maximum number of words to keep, based on word frequency.\n",
        "# - Only the most common num_words-1 words will be kept.\n",
        "from keras.preprocessing.text import Tokenizer\n",
        "input_tokenizer = Tokenizer(num_words=MAX_VOCAB_SIZE)\n",
        "input_tokenizer.fit_on_texts(input_sentences)\n",
        "input_integer_seq = input_tokenizer.texts_to_sequences(input_sentences)\n",
        "\n",
        "word2idx_inputs = input_tokenizer.word_index\n",
        "print(\"Palabras en el vocabulario:\", len(word2idx_inputs))\n",
        "\n",
        "max_input_len = max(len(sen) for sen in input_integer_seq)\n",
        "print(\"Sentencia de entrada más larga:\", max_input_len)"
      ],
      "metadata": {
        "colab": {
          "base_uri": "https://localhost:8080/"
        },
        "id": "sWNCIPG3jMPd",
        "outputId": "02e6b0a3-9130-44a7-f56f-7d32fadf9a00"
      },
      "execution_count": 66,
      "outputs": [
        {
          "output_type": "stream",
          "name": "stdout",
          "text": [
            "Palabras en el vocabulario: 1799\n",
            "Sentencia de entrada más larga: 9\n"
          ]
        }
      ]
    },
    {
      "cell_type": "code",
      "source": [
        "output_tokenizer = Tokenizer(num_words=MAX_VOCAB_SIZE, filters='!\"#$%&()*+,-./:;=¿?@[\\\\]^_`{|}~\\t\\n')\n",
        "output_tokenizer.fit_on_texts([\"<sos>\", \"<eos>\"] + output_sentences)\n",
        "output_integer_seq = output_tokenizer.texts_to_sequences(output_sentences)\n",
        "output_input_integer_seq = output_tokenizer.texts_to_sequences(output_sentences_inputs)\n",
        "\n",
        "word2idx_outputs = output_tokenizer.word_index\n",
        "print(\"Palabras en el vocabulario:\", len(word2idx_outputs))\n",
        "\n",
        "num_words_output = min(len(word2idx_outputs) + 1, MAX_VOCAB_SIZE) \n",
        "# Se suma 1 para incluir el token de palabra desconocida\n",
        "\n",
        "max_out_len = max(len(sen) for sen in output_integer_seq)\n",
        "print(\"Sentencia de salida más larga:\", max_out_len)"
      ],
      "metadata": {
        "colab": {
          "base_uri": "https://localhost:8080/"
        },
        "id": "hCYKiEwjjMSx",
        "outputId": "f5386431-f2ba-4dfa-dbd4-107f9f8befbc"
      },
      "execution_count": 67,
      "outputs": [
        {
          "output_type": "stream",
          "name": "stdout",
          "text": [
            "Palabras en el vocabulario: 1806\n",
            "Sentencia de salida más larga: 10\n"
          ]
        }
      ]
    },
    {
      "cell_type": "code",
      "source": [
        "max_input_len = 10\n",
        "max_out_len = 10"
      ],
      "metadata": {
        "id": "f4ba-XiYjMWP"
      },
      "execution_count": 68,
      "outputs": []
    },
    {
      "cell_type": "code",
      "source": [
        "print(\"Cantidad de rows del dataset:\", len(input_integer_seq))\n",
        "\n",
        "encoder_input_sequences = pad_sequences(input_integer_seq, maxlen=max_input_len)\n",
        "print(\"encoder_input_sequences shape:\", encoder_input_sequences.shape)\n",
        "\n",
        "decoder_input_sequences = pad_sequences(output_input_integer_seq, maxlen=max_out_len, padding='post')\n",
        "print(\"decoder_input_sequences shape:\", decoder_input_sequences.shape)"
      ],
      "metadata": {
        "colab": {
          "base_uri": "https://localhost:8080/"
        },
        "id": "BQ1nimgfjss_",
        "outputId": "34cbfb2a-a5b8-435e-f0ba-6bcae36002f1"
      },
      "execution_count": 69,
      "outputs": [
        {
          "output_type": "stream",
          "name": "stdout",
          "text": [
            "Cantidad de rows del dataset: 6033\n",
            "encoder_input_sequences shape: (6033, 10)\n",
            "decoder_input_sequences shape: (6033, 10)\n"
          ]
        }
      ]
    },
    {
      "cell_type": "code",
      "source": [
        "from keras.utils.np_utils import to_categorical\n",
        "decoder_output_sequences = pad_sequences(output_integer_seq, maxlen=max_out_len, padding='post')\n",
        "decoder_targets = to_categorical(decoder_output_sequences, num_classes=num_words_output)\n",
        "decoder_targets.shape"
      ],
      "metadata": {
        "colab": {
          "base_uri": "https://localhost:8080/"
        },
        "id": "soWtde5MjsxH",
        "outputId": "bf9f4e43-ef5c-46b0-f832-6a8923b6c915"
      },
      "execution_count": 70,
      "outputs": [
        {
          "output_type": "execute_result",
          "data": {
            "text/plain": [
              "(6033, 10, 1807)"
            ]
          },
          "metadata": {},
          "execution_count": 70
        }
      ]
    },
    {
      "cell_type": "markdown",
      "metadata": {
        "id": "_CJIsLBbj6rg"
      },
      "source": [
        "### 3 - Preparar los embeddings\n",
        "Se utilizaron embeddings de FastText."
      ]
    },
    {
      "cell_type": "code",
      "source": [
        "# \n",
        "!curl -L -o 'fasttext.pkl' 'https://drive.google.com/u/0/uc?id=1Qi1r-u5lsEsNqRSxLrpNOqQ3B_ufltCa&export=download&confirm=t'"
      ],
      "metadata": {
        "colab": {
          "base_uri": "https://localhost:8080/"
        },
        "id": "kEbAZrIMnq1i",
        "outputId": "2916c039-bb31-41ff-ddcb-eae2c7cf8c50"
      },
      "execution_count": 71,
      "outputs": [
        {
          "output_type": "stream",
          "name": "stdout",
          "text": [
            "  % Total    % Received % Xferd  Average Speed   Time    Time     Time  Current\n",
            "                                 Dload  Upload   Total   Spent    Left  Speed\n",
            "  0     0    0     0    0     0      0      0 --:--:-- --:--:-- --:--:--     0\n",
            "  0     0    0     0    0     0      0      0 --:--:--  0:00:01 --:--:--     0\n",
            "100 2746M  100 2746M    0     0  89.0M      0  0:00:30  0:00:30 --:--:--  110M\n"
          ]
        }
      ]
    },
    {
      "cell_type": "code",
      "source": [
        "import logging\n",
        "import os\n",
        "from pathlib import Path\n",
        "from io import StringIO\n",
        "import pickle\n",
        "\n",
        "class WordsEmbeddings(object):\n",
        "    logger = logging.getLogger(__name__)\n",
        "\n",
        "    def __init__(self):\n",
        "        # load the embeddings\n",
        "        words_embedding_pkl = Path(self.PKL_PATH)\n",
        "        if not words_embedding_pkl.is_file():\n",
        "            words_embedding_txt = Path(self.WORD_TO_VEC_MODEL_TXT_PATH)\n",
        "            assert words_embedding_txt.is_file(), 'Words embedding not available'\n",
        "            embeddings = self.convert_model_to_pickle()\n",
        "        else:\n",
        "            embeddings = self.load_model_from_pickle()\n",
        "        self.embeddings = embeddings\n",
        "        # build the vocabulary hashmap\n",
        "        index = np.arange(self.embeddings.shape[0])\n",
        "        # Diccionarios para traducir de embedding a IDX de la palabra\n",
        "        self.word2idx = dict(zip(self.embeddings['word'], index))\n",
        "        self.idx2word = dict(zip(index, self.embeddings['word']))\n",
        "\n",
        "    def get_words_embeddings(self, words):\n",
        "        words_idxs = self.words2idxs(words)\n",
        "        return self.embeddings[words_idxs]['embedding']\n",
        "\n",
        "    def words2idxs(self, words):\n",
        "        return np.array([self.word2idx.get(word, -1) for word in words])\n",
        "\n",
        "    def idxs2words(self, idxs):\n",
        "        return np.array([self.idx2word.get(idx, '-1') for idx in idxs])\n",
        "\n",
        "    def load_model_from_pickle(self):\n",
        "        self.logger.debug(\n",
        "            'loading words embeddings from pickle {}'.format(\n",
        "                self.PKL_PATH\n",
        "            )\n",
        "        )\n",
        "        max_bytes = 2**28 - 1 # 256MB\n",
        "        bytes_in = bytearray(0)\n",
        "        input_size = os.path.getsize(self.PKL_PATH)\n",
        "        with open(self.PKL_PATH, 'rb') as f_in:\n",
        "            for _ in range(0, input_size, max_bytes):\n",
        "                bytes_in += f_in.read(max_bytes)\n",
        "        embeddings = pickle.loads(bytes_in)\n",
        "        self.logger.debug('words embeddings loaded')\n",
        "        return embeddings\n",
        "\n",
        "    def convert_model_to_pickle(self):\n",
        "        self.logger.debug(\n",
        "            'converting and loading words embeddings from text file {}'.format(\n",
        "                self.WORD_TO_VEC_MODEL_TXT_PATH\n",
        "            )\n",
        "        )\n",
        "        structure = [('word', np.dtype('U' + str(self.WORD_MAX_SIZE))),\n",
        "                     ('embedding', np.float32, (self.N_FEATURES,))]\n",
        "        structure = np.dtype(structure)\n",
        "        # load numpy array from disk using a generator\n",
        "        with open(self.WORD_TO_VEC_MODEL_TXT_PATH, encoding=\"utf8\") as words_embeddings_txt:\n",
        "            embeddings_gen = (\n",
        "                (line.split()[0], line.split()[1:]) for line in words_embeddings_txt\n",
        "                if len(line.split()[1:]) == self.N_FEATURES\n",
        "            )\n",
        "            embeddings = np.fromiter(embeddings_gen, structure)\n",
        "        # add a null embedding\n",
        "        null_embedding = np.array(\n",
        "            [('null_embedding', np.zeros((self.N_FEATURES,), dtype=np.float32))],\n",
        "            dtype=structure\n",
        "        )\n",
        "        embeddings = np.concatenate([embeddings, null_embedding])\n",
        "        # dump numpy array to disk using pickle\n",
        "        max_bytes = 2**28 - 1 # # 256MB\n",
        "        bytes_out = pickle.dumps(embeddings, protocol=pickle.HIGHEST_PROTOCOL)\n",
        "        with open(self.PKL_PATH, 'wb') as f_out:\n",
        "            for idx in range(0, len(bytes_out), max_bytes):\n",
        "                f_out.write(bytes_out[idx:idx+max_bytes])\n",
        "        self.logger.debug('words embeddings loaded')\n",
        "        return embeddings\n",
        "\n",
        "\n",
        "class GloveEmbeddings(WordsEmbeddings):\n",
        "    WORD_TO_VEC_MODEL_TXT_PATH = 'glove.twitter.27B.50d.txt'\n",
        "    PKL_PATH = 'gloveembedding.pkl'\n",
        "    N_FEATURES = 50\n",
        "    WORD_MAX_SIZE = 60\n",
        "\n",
        "class FasttextEmbeddings(WordsEmbeddings):\n",
        "    WORD_TO_VEC_MODEL_TXT_PATH = 'cc.en.300.vec'\n",
        "    PKL_PATH = 'fasttext.pkl'\n",
        "    N_FEATURES = 300\n",
        "    WORD_MAX_SIZE = 60\n"
      ],
      "metadata": {
        "id": "T6Wc__W1lr6H"
      },
      "execution_count": 72,
      "outputs": []
    },
    {
      "cell_type": "code",
      "source": [
        "model_embeddings = FasttextEmbeddings()"
      ],
      "metadata": {
        "id": "u9azrYLajs7R"
      },
      "execution_count": 73,
      "outputs": []
    },
    {
      "cell_type": "code",
      "source": [
        "# Crear la Embedding matrix de las secuencias\n",
        "\n",
        "print('preparing embedding matrix...')\n",
        "embed_dim = model_embeddings.N_FEATURES\n",
        "words_not_found = []\n",
        "\n",
        "# word_index provieen del tokenizer\n",
        "\n",
        "nb_words = min(MAX_VOCAB_SIZE, len(word2idx_inputs)) # vocab_size\n",
        "embedding_matrix = np.zeros((nb_words, embed_dim))\n",
        "for word, i in word2idx_inputs.items():\n",
        "    if i >= nb_words:\n",
        "        continue\n",
        "    embedding_vector = model_embeddings.get_words_embeddings(word)[0]\n",
        "    if (embedding_vector is not None) and len(embedding_vector) > 0:\n",
        "        \n",
        "        embedding_matrix[i] = embedding_vector\n",
        "    else:\n",
        "        # words not found in embedding index will be all-zeros.\n",
        "        words_not_found.append(word)\n",
        "\n",
        "print('number of null word embeddings:', np.sum(np.sum(embedding_matrix, axis=1) == 0))"
      ],
      "metadata": {
        "colab": {
          "base_uri": "https://localhost:8080/"
        },
        "id": "PFXF47H5kitf",
        "outputId": "3dfdd582-1b54-445a-e3f5-b406fdb6312c"
      },
      "execution_count": 74,
      "outputs": [
        {
          "output_type": "stream",
          "name": "stdout",
          "text": [
            "preparing embedding matrix...\n",
            "number of null word embeddings: 1\n"
          ]
        }
      ]
    },
    {
      "cell_type": "code",
      "source": [
        "# Dimensión de los embeddings de la secuencia\n",
        "embedding_matrix.shape"
      ],
      "metadata": {
        "colab": {
          "base_uri": "https://localhost:8080/"
        },
        "id": "23LzGwYfkixX",
        "outputId": "30960168-4b4b-4a24-d75c-c88c8182b01e"
      },
      "execution_count": 75,
      "outputs": [
        {
          "output_type": "execute_result",
          "data": {
            "text/plain": [
              "(1799, 300)"
            ]
          },
          "metadata": {},
          "execution_count": 75
        }
      ]
    },
    {
      "cell_type": "markdown",
      "metadata": {
        "id": "3vKbhjtIwPgM"
      },
      "source": [
        "### 4 - Entrenar el modelo\n",
        "Entrenar un modelo basado en el esquema encoder-decoder utilizando los datos generados en los puntos anteriores."
      ]
    },
    {
      "cell_type": "code",
      "source": [
        "# plot de resultados\n",
        "\n",
        "import matplotlib.pyplot as plt\n",
        "import seaborn as sns\n",
        "\n",
        "def plot_accuracy(h):\n",
        "  epoch_count = range(1, len(h.history['accuracy']) + 1)\n",
        "  sns.lineplot(x=epoch_count,  y=h.history['accuracy'], label='train')\n",
        "  sns.lineplot(x=epoch_count,  y=h.history['val_accuracy'], label='valid')\n",
        "  plt.show()"
      ],
      "metadata": {
        "id": "FxVz5PYHsM82"
      },
      "execution_count": 76,
      "outputs": []
    },
    {
      "cell_type": "code",
      "source": [
        "from keras.models import Model\n",
        "from keras.layers import Input, LSTM, Dense, Dropout\n",
        "from keras.utils.vis_utils import plot_model"
      ],
      "metadata": {
        "id": "dwWFfd3krt--"
      },
      "execution_count": 89,
      "outputs": []
    },
    {
      "cell_type": "code",
      "source": [
        "# Modelo\n",
        "\n",
        "n_units = 256\n",
        "\n",
        "# define training encoder\n",
        "encoder_inputs = Input(shape=(max_input_len))\n",
        "\n",
        "encoder_embedding_layer = Embedding(\n",
        "          input_dim=nb_words,  # definido en el Tokenizador\n",
        "          output_dim=embed_dim,  # dimensión de los embeddings utilizados\n",
        "          input_length=max_input_len, # máxima sentencia de entrada\n",
        "          weights=[embedding_matrix],  # matrix de embeddings\n",
        "          trainable=False)      # marcar como layer no entrenable\n",
        "\n",
        "encoder_inputs_x = encoder_embedding_layer(encoder_inputs)\n",
        "\n",
        "encoder = LSTM(n_units, return_state=True, recurrent_dropout=0.2)\n",
        "encoder_outputs, state_h, state_c = encoder(encoder_inputs_x)\n",
        "encoder_states = [state_h, state_c]\n",
        "\n",
        "# define training decoder\n",
        "decoder_inputs = Input(shape=(max_out_len))\n",
        "decoder_embedding_layer = Embedding(input_dim=num_words_output, output_dim=n_units, input_length=max_out_len)\n",
        "decoder_inputs_x = decoder_embedding_layer(decoder_inputs)\n",
        "\n",
        "decoder_lstm = LSTM(n_units, return_sequences=True, return_state=True, recurrent_dropout=0.2)\n",
        "decoder_outputs, _, _ = decoder_lstm(decoder_inputs_x, initial_state=encoder_states)\n",
        "\n",
        "decoder_dropout = Dropout(0.5)\n",
        "decoder_outputs = decoder_dropout(decoder_outputs)\n",
        "\n",
        "# Dense\n",
        "decoder_dense = Dense(num_words_output, activation='softmax')\n",
        "decoder_outputs = decoder_dense(decoder_outputs)\n",
        "model = Model([encoder_inputs, decoder_inputs], decoder_outputs)\n",
        "\n",
        "model.compile(loss='categorical_crossentropy', optimizer=\"Adam\", metrics=['accuracy'])\n",
        "model.summary()"
      ],
      "metadata": {
        "colab": {
          "base_uri": "https://localhost:8080/"
        },
        "id": "BjweX8o4oXKq",
        "outputId": "41f2d9f8-e73e-4941-c51d-a9cac8c68d4a"
      },
      "execution_count": 101,
      "outputs": [
        {
          "output_type": "stream",
          "name": "stderr",
          "text": [
            "WARNING:tensorflow:Layer lstm_12 will not use cuDNN kernels since it doesn't meet the criteria. It will use a generic GPU kernel as fallback when running on GPU.\n",
            "WARNING:tensorflow:Layer lstm_13 will not use cuDNN kernels since it doesn't meet the criteria. It will use a generic GPU kernel as fallback when running on GPU.\n"
          ]
        },
        {
          "output_type": "stream",
          "name": "stdout",
          "text": [
            "Model: \"model_12\"\n",
            "__________________________________________________________________________________________________\n",
            " Layer (type)                   Output Shape         Param #     Connected to                     \n",
            "==================================================================================================\n",
            " input_25 (InputLayer)          [(None, 10)]         0           []                               \n",
            "                                                                                                  \n",
            " input_26 (InputLayer)          [(None, 10)]         0           []                               \n",
            "                                                                                                  \n",
            " embedding_12 (Embedding)       (None, 10, 300)      539700      ['input_25[0][0]']               \n",
            "                                                                                                  \n",
            " embedding_13 (Embedding)       (None, 10, 256)      462592      ['input_26[0][0]']               \n",
            "                                                                                                  \n",
            " lstm_12 (LSTM)                 [(None, 256),        570368      ['embedding_12[0][0]']           \n",
            "                                 (None, 256),                                                     \n",
            "                                 (None, 256)]                                                     \n",
            "                                                                                                  \n",
            " lstm_13 (LSTM)                 [(None, 10, 256),    525312      ['embedding_13[0][0]',           \n",
            "                                 (None, 256),                     'lstm_12[0][1]',                \n",
            "                                 (None, 256)]                     'lstm_12[0][2]']                \n",
            "                                                                                                  \n",
            " dropout_2 (Dropout)            (None, 10, 256)      0           ['lstm_13[0][0]']                \n",
            "                                                                                                  \n",
            " dense_4 (Dense)                (None, 10, 1807)     464399      ['dropout_2[0][0]']              \n",
            "                                                                                                  \n",
            "==================================================================================================\n",
            "Total params: 2,562,371\n",
            "Trainable params: 2,022,671\n",
            "Non-trainable params: 539,700\n",
            "__________________________________________________________________________________________________\n"
          ]
        }
      ]
    },
    {
      "cell_type": "code",
      "source": [
        "# Modelo completo (encoder+decoder) para poder entrenar\n",
        "plot_model(model, to_file='model_plot.png', show_shapes=True, show_layer_names=True)"
      ],
      "metadata": {
        "colab": {
          "base_uri": "https://localhost:8080/",
          "height": 644
        },
        "id": "p6r-sUikoXOM",
        "outputId": "5d30e002-814d-4474-ab24-9af6edc52099"
      },
      "execution_count": 102,
      "outputs": [
        {
          "output_type": "execute_result",
          "data": {
            "image/png": "[encoded data removed]",
            "text/plain": [
              "<IPython.core.display.Image object>"
            ]
          },
          "metadata": {},
          "execution_count": 102
        }
      ]
    },
    {
      "cell_type": "code",
      "source": [
        "# Modelo solo encoder\n",
        "\n",
        "# define inference encoder\n",
        "encoder_model = Model(encoder_inputs, encoder_states)\n",
        "plot_model(encoder_model, to_file='encoder_plot.png', show_shapes=True, show_layer_names=True)"
      ],
      "metadata": {
        "colab": {
          "base_uri": "https://localhost:8080/",
          "height": 312
        },
        "id": "Zno2hcu2osDy",
        "outputId": "aae678d7-33b2-4227-c0a1-6cccd27ab809"
      },
      "execution_count": 103,
      "outputs": [
        {
          "output_type": "execute_result",
          "data": {
            "image/png": "[encoded data removed]",
            "text/plain": [
              "<IPython.core.display.Image object>"
            ]
          },
          "metadata": {},
          "execution_count": 103
        }
      ]
    },
    {
      "cell_type": "code",
      "source": [
        "# Modelo solo decoder (para realizar inferencia)\n",
        "from keras.utils.vis_utils import plot_model\n",
        "\n",
        "# define inference decoder\n",
        "decoder_state_input_h = Input(shape=(n_units,))\n",
        "decoder_state_input_c = Input(shape=(n_units,))\n",
        "decoder_states_inputs = [decoder_state_input_h, decoder_state_input_c]\n",
        "\n",
        "# En cada predicción habrá una sola palabra de entrada al decoder,\n",
        "# que es la realimentación de la palabra anterior\n",
        "# por lo que hay que modificar el input shape de la layer de Embedding\n",
        "decoder_inputs_single = Input(shape=(1,))\n",
        "decoder_inputs_single_x = decoder_embedding_layer(decoder_inputs_single)\n",
        "\n",
        "decoder_outputs, state_h, state_c = decoder_lstm(decoder_inputs_single_x, initial_state=decoder_states_inputs)\n",
        "decoder_states = [state_h, state_c]\n",
        "decoder_outputs = decoder_dense(decoder_outputs)\n",
        "decoder_model = Model([decoder_inputs_single] + decoder_states_inputs, [decoder_outputs] + decoder_states)\n",
        "\n",
        "plot_model(decoder_model, to_file='decoder_plot.png', show_shapes=True, show_layer_names=True)"
      ],
      "metadata": {
        "colab": {
          "base_uri": "https://localhost:8080/",
          "height": 422
        },
        "id": "Al19rxyOoXR0",
        "outputId": "99adbea1-3342-4298-fa5b-16fb0bfaf10f"
      },
      "execution_count": 104,
      "outputs": [
        {
          "output_type": "execute_result",
          "data": {
            "image/png": "[encoded data removed]",
            "text/plain": [
              "<IPython.core.display.Image object>"
            ]
          },
          "metadata": {},
          "execution_count": 104
        }
      ]
    },
    {
      "cell_type": "code",
      "source": [
        "hist = model.fit(\n",
        "    [encoder_input_sequences, decoder_input_sequences],\n",
        "    decoder_targets,\n",
        "    epochs=50, \n",
        "    validation_split=0.2)"
      ],
      "metadata": {
        "colab": {
          "base_uri": "https://localhost:8080/"
        },
        "id": "AFre4l7nor-I",
        "outputId": "4f486aba-9bbc-4321-86f2-3d8b2125ff23"
      },
      "execution_count": 105,
      "outputs": [
        {
          "output_type": "stream",
          "name": "stdout",
          "text": [
            "Epoch 1/50\n",
            "151/151 [==============================] - 17s 90ms/step - loss: 2.7040 - accuracy: 0.5555 - val_loss: 2.1325 - val_accuracy: 0.6499\n",
            "Epoch 2/50\n",
            "151/151 [==============================] - 14s 92ms/step - loss: 1.8838 - accuracy: 0.6695 - val_loss: 1.8941 - val_accuracy: 0.6905\n",
            "Epoch 3/50\n",
            "151/151 [==============================] - 13s 87ms/step - loss: 1.6376 - accuracy: 0.7118 - val_loss: 1.7780 - val_accuracy: 0.7065\n",
            "Epoch 4/50\n",
            "151/151 [==============================] - 13s 86ms/step - loss: 1.5118 - accuracy: 0.7288 - val_loss: 1.7174 - val_accuracy: 0.7137\n",
            "Epoch 5/50\n",
            "151/151 [==============================] - 13s 87ms/step - loss: 1.4315 - accuracy: 0.7374 - val_loss: 1.6801 - val_accuracy: 0.7170\n",
            "Epoch 6/50\n",
            "151/151 [==============================] - 14s 91ms/step - loss: 1.3747 - accuracy: 0.7419 - val_loss: 1.6572 - val_accuracy: 0.7204\n",
            "Epoch 7/50\n",
            "151/151 [==============================] - 13s 87ms/step - loss: 1.3269 - accuracy: 0.7468 - val_loss: 1.6383 - val_accuracy: 0.7239\n",
            "Epoch 8/50\n",
            "151/151 [==============================] - 14s 92ms/step - loss: 1.2803 - accuracy: 0.7518 - val_loss: 1.6230 - val_accuracy: 0.7263\n",
            "Epoch 9/50\n",
            "151/151 [==============================] - 14s 92ms/step - loss: 1.2467 - accuracy: 0.7542 - val_loss: 1.6200 - val_accuracy: 0.7278\n",
            "Epoch 10/50\n",
            "151/151 [==============================] - 13s 86ms/step - loss: 1.2137 - accuracy: 0.7584 - val_loss: 1.6146 - val_accuracy: 0.7309\n",
            "Epoch 11/50\n",
            "151/151 [==============================] - 13s 86ms/step - loss: 1.1862 - accuracy: 0.7606 - val_loss: 1.6156 - val_accuracy: 0.7314\n",
            "Epoch 12/50\n",
            "151/151 [==============================] - 13s 86ms/step - loss: 1.1563 - accuracy: 0.7631 - val_loss: 1.6092 - val_accuracy: 0.7326\n",
            "Epoch 13/50\n",
            "151/151 [==============================] - 14s 91ms/step - loss: 1.1321 - accuracy: 0.7658 - val_loss: 1.6077 - val_accuracy: 0.7333\n",
            "Epoch 14/50\n",
            "151/151 [==============================] - 13s 86ms/step - loss: 1.1105 - accuracy: 0.7674 - val_loss: 1.6124 - val_accuracy: 0.7346\n",
            "Epoch 15/50\n",
            "151/151 [==============================] - 13s 85ms/step - loss: 1.0853 - accuracy: 0.7711 - val_loss: 1.6072 - val_accuracy: 0.7360\n",
            "Epoch 16/50\n",
            "151/151 [==============================] - 13s 87ms/step - loss: 1.0640 - accuracy: 0.7720 - val_loss: 1.6156 - val_accuracy: 0.7339\n",
            "Epoch 17/50\n",
            "151/151 [==============================] - 14s 91ms/step - loss: 1.0469 - accuracy: 0.7735 - val_loss: 1.6136 - val_accuracy: 0.7355\n",
            "Epoch 18/50\n",
            "151/151 [==============================] - 13s 85ms/step - loss: 1.0266 - accuracy: 0.7758 - val_loss: 1.6272 - val_accuracy: 0.7368\n",
            "Epoch 19/50\n",
            "151/151 [==============================] - 13s 85ms/step - loss: 1.0103 - accuracy: 0.7791 - val_loss: 1.6300 - val_accuracy: 0.7370\n",
            "Epoch 20/50\n",
            "151/151 [==============================] - 14s 91ms/step - loss: 0.9936 - accuracy: 0.7790 - val_loss: 1.6288 - val_accuracy: 0.7370\n",
            "Epoch 21/50\n",
            "151/151 [==============================] - 13s 87ms/step - loss: 0.9757 - accuracy: 0.7818 - val_loss: 1.6347 - val_accuracy: 0.7380\n",
            "Epoch 22/50\n",
            "151/151 [==============================] - 13s 88ms/step - loss: 0.9616 - accuracy: 0.7838 - val_loss: 1.6404 - val_accuracy: 0.7374\n",
            "Epoch 23/50\n",
            "151/151 [==============================] - 13s 85ms/step - loss: 0.9468 - accuracy: 0.7856 - val_loss: 1.6432 - val_accuracy: 0.7384\n",
            "Epoch 24/50\n",
            "151/151 [==============================] - 14s 90ms/step - loss: 0.9306 - accuracy: 0.7885 - val_loss: 1.6532 - val_accuracy: 0.7373\n",
            "Epoch 25/50\n",
            "151/151 [==============================] - 13s 88ms/step - loss: 0.9194 - accuracy: 0.7884 - val_loss: 1.6510 - val_accuracy: 0.7397\n",
            "Epoch 26/50\n",
            "151/151 [==============================] - 15s 97ms/step - loss: 0.9054 - accuracy: 0.7921 - val_loss: 1.6627 - val_accuracy: 0.7386\n",
            "Epoch 27/50\n",
            "151/151 [==============================] - 14s 95ms/step - loss: 0.8941 - accuracy: 0.7931 - val_loss: 1.6633 - val_accuracy: 0.7397\n",
            "Epoch 28/50\n",
            "151/151 [==============================] - 14s 91ms/step - loss: 0.8807 - accuracy: 0.7959 - val_loss: 1.6736 - val_accuracy: 0.7392\n",
            "Epoch 29/50\n",
            "151/151 [==============================] - 13s 89ms/step - loss: 0.8684 - accuracy: 0.7987 - val_loss: 1.6764 - val_accuracy: 0.7387\n",
            "Epoch 30/50\n",
            "151/151 [==============================] - 13s 87ms/step - loss: 0.8583 - accuracy: 0.7991 - val_loss: 1.6893 - val_accuracy: 0.7386\n",
            "Epoch 31/50\n",
            "151/151 [==============================] - 14s 93ms/step - loss: 0.8495 - accuracy: 0.8003 - val_loss: 1.6937 - val_accuracy: 0.7385\n",
            "Epoch 32/50\n",
            "151/151 [==============================] - 13s 87ms/step - loss: 0.8382 - accuracy: 0.8006 - val_loss: 1.7021 - val_accuracy: 0.7405\n",
            "Epoch 33/50\n",
            "151/151 [==============================] - 13s 87ms/step - loss: 0.8242 - accuracy: 0.8040 - val_loss: 1.6982 - val_accuracy: 0.7411\n",
            "Epoch 34/50\n",
            "151/151 [==============================] - 14s 92ms/step - loss: 0.8188 - accuracy: 0.8044 - val_loss: 1.7171 - val_accuracy: 0.7393\n",
            "Epoch 35/50\n",
            "151/151 [==============================] - 13s 88ms/step - loss: 0.8063 - accuracy: 0.8061 - val_loss: 1.7171 - val_accuracy: 0.7408\n",
            "Epoch 36/50\n",
            "151/151 [==============================] - 13s 86ms/step - loss: 0.7993 - accuracy: 0.8062 - val_loss: 1.7248 - val_accuracy: 0.7396\n",
            "Epoch 37/50\n",
            "151/151 [==============================] - 13s 87ms/step - loss: 0.7922 - accuracy: 0.8079 - val_loss: 1.7313 - val_accuracy: 0.7394\n",
            "Epoch 38/50\n",
            "151/151 [==============================] - 14s 91ms/step - loss: 0.7838 - accuracy: 0.8097 - val_loss: 1.7449 - val_accuracy: 0.7399\n",
            "Epoch 39/50\n",
            "151/151 [==============================] - 13s 87ms/step - loss: 0.7737 - accuracy: 0.8107 - val_loss: 1.7455 - val_accuracy: 0.7403\n",
            "Epoch 40/50\n",
            "151/151 [==============================] - 13s 86ms/step - loss: 0.7643 - accuracy: 0.8133 - val_loss: 1.7607 - val_accuracy: 0.7392\n",
            "Epoch 41/50\n",
            "151/151 [==============================] - 14s 92ms/step - loss: 0.7600 - accuracy: 0.8135 - val_loss: 1.7710 - val_accuracy: 0.7406\n",
            "Epoch 42/50\n",
            "151/151 [==============================] - 13s 87ms/step - loss: 0.7541 - accuracy: 0.8141 - val_loss: 1.7722 - val_accuracy: 0.7398\n",
            "Epoch 43/50\n",
            "151/151 [==============================] - 14s 91ms/step - loss: 0.7474 - accuracy: 0.8155 - val_loss: 1.7800 - val_accuracy: 0.7397\n",
            "Epoch 44/50\n",
            "151/151 [==============================] - 13s 88ms/step - loss: 0.7377 - accuracy: 0.8169 - val_loss: 1.7828 - val_accuracy: 0.7408\n",
            "Epoch 45/50\n",
            "151/151 [==============================] - 14s 91ms/step - loss: 0.7331 - accuracy: 0.8173 - val_loss: 1.7991 - val_accuracy: 0.7416\n",
            "Epoch 46/50\n",
            "151/151 [==============================] - 13s 87ms/step - loss: 0.7259 - accuracy: 0.8190 - val_loss: 1.8037 - val_accuracy: 0.7396\n",
            "Epoch 47/50\n",
            "151/151 [==============================] - 13s 87ms/step - loss: 0.7221 - accuracy: 0.8188 - val_loss: 1.8113 - val_accuracy: 0.7397\n",
            "Epoch 48/50\n",
            "151/151 [==============================] - 14s 91ms/step - loss: 0.7125 - accuracy: 0.8212 - val_loss: 1.8236 - val_accuracy: 0.7426\n",
            "Epoch 49/50\n",
            "151/151 [==============================] - 13s 88ms/step - loss: 0.7071 - accuracy: 0.8214 - val_loss: 1.8306 - val_accuracy: 0.7425\n",
            "Epoch 50/50\n",
            "151/151 [==============================] - 13s 87ms/step - loss: 0.6989 - accuracy: 0.8241 - val_loss: 1.8333 - val_accuracy: 0.7408\n"
          ]
        }
      ]
    },
    {
      "cell_type": "code",
      "source": [
        "plot_accuracy(hist)"
      ],
      "metadata": {
        "colab": {
          "base_uri": "https://localhost:8080/",
          "height": 265
        },
        "id": "LFxAprBgsms2",
        "outputId": "f4f3dc16-350e-4d92-d156-bc722c814058"
      },
      "execution_count": 106,
      "outputs": [
        {
          "output_type": "display_data",
          "data": {
            "text/plain": [
              "<Figure size 432x288 with 1 Axes>"
            ],
            "image/png": "[encoded data removed]"
          },
          "metadata": {
            "needs_background": "light"
          }
        }
      ]
    },
    {
      "cell_type": "markdown",
      "metadata": {
        "id": "Zbwn0ekDy_s2"
      },
      "source": [
        "### 5 - Inferencia\n",
        "Experimentar el funcionamiento de su modelo. Recuerde que debe realizar la inferencia de los modelos por separado de encoder y decoder."
      ]
    },
    {
      "cell_type": "code",
      "source": [
        "# Armar los conversores de índice a palabra:\n",
        "idx2word_input = {v:k for k, v in word2idx_inputs.items()}\n",
        "idx2word_target = {v:k for k, v in word2idx_outputs.items()}"
      ],
      "metadata": {
        "id": "qtlxRWpAo_0m"
      },
      "execution_count": 84,
      "outputs": []
    },
    {
      "cell_type": "code",
      "source": [
        "def responder_pregunta(input_seq):\n",
        "    # Se transforma la sequencia de entrada a los estados \"h\" y \"c\" de la LSTM\n",
        "    # para enviar la primera vez al decoder\n",
        "    states_value = encoder_model.predict(input_seq)\n",
        "\n",
        "    # Se inicializa la secuencia de entrada al decoder como \"<sos>\"\n",
        "    target_seq = np.zeros((1, 1))\n",
        "    target_seq[0, 0] = word2idx_outputs['<sos>']\n",
        "\n",
        "    # Se obtiene el índice que finaliza la inferencia\n",
        "    eos = word2idx_outputs['<eos>']\n",
        "    \n",
        "    output_sentence = []\n",
        "    for _ in range(max_out_len):\n",
        "        # Predicción del próximo elemento\n",
        "        output_tokens, h, c = decoder_model.predict([target_seq] + states_value)\n",
        "        idx = np.argmax(output_tokens[0, 0, :])\n",
        "\n",
        "        # Si es \"end of sentece <eos>\" se acaba\n",
        "        if eos == idx:\n",
        "            break\n",
        "\n",
        "        # Transformar idx a palabra\n",
        "        word = ''        \n",
        "        if idx > 0:\n",
        "            word = idx2word_target[idx]\n",
        "            output_sentence.append(word)\n",
        "\n",
        "        # Actualizar los estados dada la última predicción\n",
        "        states_value = [h, c]\n",
        "\n",
        "        # Actualizar secuencia de entrada con la salida (re-alimentación)\n",
        "        target_seq[0, 0] = idx\n",
        "\n",
        "    return ' '.join(output_sentence)"
      ],
      "metadata": {
        "id": "Hv-TdH6Eo_3b"
      },
      "execution_count": 107,
      "outputs": []
    },
    {
      "cell_type": "code",
      "source": [
        "# probando ...\n",
        "i = np.random.choice(len(input_sentences))\n",
        "question = encoder_input_sequences[i:i+1]\n",
        "answer = responder_pregunta(question)\n",
        "print('-')\n",
        "print('Pregunta:', input_sentences[i])\n",
        "print('Respuesta:', answer)"
      ],
      "metadata": {
        "colab": {
          "base_uri": "https://localhost:8080/"
        },
        "id": "PT9YaVqpo_6Z",
        "outputId": "79700303-a563-4f63-d1ef-5cb209e77333"
      },
      "execution_count": 135,
      "outputs": [
        {
          "output_type": "stream",
          "name": "stdout",
          "text": [
            "1/1 [==============================] - 0s 21ms/step\n",
            "1/1 [==============================] - 0s 15ms/step\n",
            "1/1 [==============================] - 0s 17ms/step\n",
            "1/1 [==============================] - 0s 16ms/step\n",
            "1/1 [==============================] - 0s 17ms/step\n",
            "1/1 [==============================] - 0s 17ms/step\n",
            "-\n",
            "Pregunta: what do you do for a living \n",
            "Respuesta: i m a student\n"
          ]
        }
      ]
    },
    {
      "cell_type": "code",
      "source": [
        "def respuesta(pregunta):\n",
        "  integer_seq_test = input_tokenizer.texts_to_sequences([pregunta])[0]\n",
        "  encoder_sequence_test = pad_sequences([integer_seq_test], maxlen=max_input_len)\n",
        "  respuesta = responder_pregunta(encoder_sequence_test)\n",
        "  return respuesta\n",
        "\n",
        "pregunta = \"Do you want to go out?\"\n",
        "print (respuesta(pregunta))"
      ],
      "metadata": {
        "colab": {
          "base_uri": "https://localhost:8080/"
        },
        "id": "YfNUVle1pAKA",
        "outputId": "7fa62f63-3c3b-4300-f8bc-460525242593"
      },
      "execution_count": 123,
      "outputs": [
        {
          "output_type": "stream",
          "name": "stdout",
          "text": [
            "1/1 [==============================] - 0s 19ms/step\n",
            "1/1 [==============================] - 0s 16ms/step\n",
            "1/1 [==============================] - 0s 19ms/step\n",
            "1/1 [==============================] - 0s 17ms/step\n",
            "1/1 [==============================] - 0s 18ms/step\n",
            "1/1 [==============================] - 0s 17ms/step\n",
            "1/1 [==============================] - 0s 17ms/step\n",
            "1/1 [==============================] - 0s 17ms/step\n",
            "i like to play video games\n"
          ]
        }
      ]
    },
    {
      "cell_type": "markdown",
      "source": [
        "### Probando con un banco de preguntas"
      ],
      "metadata": {
        "id": "bPMTUO58GfyF"
      }
    },
    {
      "cell_type": "code",
      "source": [
        "sample_questions = [\n",
        "    'What time is it?',\n",
        "    'Do you like my eyes?',\n",
        "    'What`s your favorite drink?',\n",
        "    'What`s your favorite food?',\n",
        "    'How old is your sister?',\n",
        "    'Do you like cats or dogs?',\n",
        "    'Are we friends?',\n",
        "    'Where do you live?',\n",
        "    'Where are you from?',\n",
        "    'Do you know how to code?'\n",
        "]"
      ],
      "metadata": {
        "id": "kAh6AGkeCGnb"
      },
      "execution_count": 132,
      "outputs": []
    },
    {
      "cell_type": "code",
      "source": [
        "import pandas as pd\n",
        "df = pd.DataFrame()\n",
        "df_row = {'pregunta': \"\", 'respuesta': \"\"}\n",
        "print(type(new_row))\n",
        "for q in sample_questions:\n",
        "  print(q)\n",
        "  df_row['pregunta'] = q\n",
        "  df_row['respuesta'] = respuesta(q)\n",
        "  df = df.append(df_row, ignore_index=True)\n"
      ],
      "metadata": {
        "id": "kRtbhp0TCGqZ"
      },
      "execution_count": null,
      "outputs": []
    },
    {
      "cell_type": "code",
      "source": [
        "df"
      ],
      "metadata": {
        "colab": {
          "base_uri": "https://localhost:8080/",
          "height": 363
        },
        "id": "4U2za203D7z9",
        "outputId": "c5e69c89-2ec2-4881-cd7e-6d19a5f83d0a"
      },
      "execution_count": 134,
      "outputs": [
        {
          "output_type": "execute_result",
          "data": {
            "text/plain": [
              "                      pregunta                   respuesta\n",
              "0             What time is it?   i love to go to the beach\n",
              "1         Do you like my eyes?            i do not like it\n",
              "2  What`s your favorite drink?  i like to play video games\n",
              "3   What`s your favorite food?              i like to read\n",
              "4      How old is your sister?       i m a bathroom singer\n",
              "5    Do you like cats or dogs?  i like to play video games\n",
              "6              Are we friends?              i love to cook\n",
              "7           Where do you live?  i like to play video games\n",
              "8          Where are you from?  i m from the united states\n",
              "9     Do you know how to code?   i do not know what to say"
            ],
            "text/html": [
              "\n",
              "  <div id=\"df-d9e56979-580f-4dff-87d0-0224cc1bae72\">\n",
              "    <div class=\"colab-df-container\">\n",
              "      <div>\n",
              "<style scoped>\n",
              "    .dataframe tbody tr th:only-of-type {\n",
              "        vertical-align: middle;\n",
              "    }\n",
              "\n",
              "    .dataframe tbody tr th {\n",
              "        vertical-align: top;\n",
              "    }\n",
              "\n",
              "    .dataframe thead th {\n",
              "        text-align: right;\n",
              "    }\n",
              "</style>\n",
              "<table border=\"1\" class=\"dataframe\">\n",
              "  <thead>\n",
              "    <tr style=\"text-align: right;\">\n",
              "      <th></th>\n",
              "      <th>pregunta</th>\n",
              "      <th>respuesta</th>\n",
              "    </tr>\n",
              "  </thead>\n",
              "  <tbody>\n",
              "    <tr>\n",
              "      <th>0</th>\n",
              "      <td>What time is it?</td>\n",
              "      <td>i love to go to the beach</td>\n",
              "    </tr>\n",
              "    <tr>\n",
              "      <th>1</th>\n",
              "      <td>Do you like my eyes?</td>\n",
              "      <td>i do not like it</td>\n",
              "    </tr>\n",
              "    <tr>\n",
              "      <th>2</th>\n",
              "      <td>What`s your favorite drink?</td>\n",
              "      <td>i like to play video games</td>\n",
              "    </tr>\n",
              "    <tr>\n",
              "      <th>3</th>\n",
              "      <td>What`s your favorite food?</td>\n",
              "      <td>i like to read</td>\n",
              "    </tr>\n",
              "    <tr>\n",
              "      <th>4</th>\n",
              "      <td>How old is your sister?</td>\n",
              "      <td>i m a bathroom singer</td>\n",
              "    </tr>\n",
              "    <tr>\n",
              "      <th>5</th>\n",
              "      <td>Do you like cats or dogs?</td>\n",
              "      <td>i like to play video games</td>\n",
              "    </tr>\n",
              "    <tr>\n",
              "      <th>6</th>\n",
              "      <td>Are we friends?</td>\n",
              "      <td>i love to cook</td>\n",
              "    </tr>\n",
              "    <tr>\n",
              "      <th>7</th>\n",
              "      <td>Where do you live?</td>\n",
              "      <td>i like to play video games</td>\n",
              "    </tr>\n",
              "    <tr>\n",
              "      <th>8</th>\n",
              "      <td>Where are you from?</td>\n",
              "      <td>i m from the united states</td>\n",
              "    </tr>\n",
              "    <tr>\n",
              "      <th>9</th>\n",
              "      <td>Do you know how to code?</td>\n",
              "      <td>i do not know what to say</td>\n",
              "    </tr>\n",
              "  </tbody>\n",
              "</table>\n",
              "</div>\n",
              "      <button class=\"colab-df-convert\" onclick=\"convertToInteractive('df-d9e56979-580f-4dff-87d0-0224cc1bae72')\"\n",
              "              title=\"Convert this dataframe to an interactive table.\"\n",
              "              style=\"display:none;\">\n",
              "        \n",
              "  <svg xmlns=\"http://www.w3.org/2000/svg\" height=\"24px\"viewBox=\"0 0 24 24\"\n",
              "       width=\"24px\">\n",
              "    <path d=\"M0 0h24v24H0V0z\" fill=\"none\"/>\n",
              "    <path d=\"M18.56 5.44l.94 2.06.94-2.06 2.06-.94-2.06-.94-.94-2.06-.94 2.06-2.06.94zm-11 1L8.5 8.5l.94-2.06 2.06-.94-2.06-.94L8.5 2.5l-.94 2.06-2.06.94zm10 10l.94 2.06.94-2.06 2.06-.94-2.06-.94-.94-2.06-.94 2.06-2.06.94z\"/><path d=\"M17.41 7.96l-1.37-1.37c-.4-.4-.92-.59-1.43-.59-.52 0-1.04.2-1.43.59L10.3 9.45l-7.72 7.72c-.78.78-.78 2.05 0 2.83L4 21.41c.39.39.9.59 1.41.59.51 0 1.02-.2 1.41-.59l7.78-7.78 2.81-2.81c.8-.78.8-2.07 0-2.86zM5.41 20L4 18.59l7.72-7.72 1.47 1.35L5.41 20z\"/>\n",
              "  </svg>\n",
              "      </button>\n",
              "      \n",
              "  <style>\n",
              "    .colab-df-container {\n",
              "      display:flex;\n",
              "      flex-wrap:wrap;\n",
              "      gap: 12px;\n",
              "    }\n",
              "\n",
              "    .colab-df-convert {\n",
              "      background-color: #E8F0FE;\n",
              "      border: none;\n",
              "      border-radius: 50%;\n",
              "      cursor: pointer;\n",
              "      display: none;\n",
              "      fill: #1967D2;\n",
              "      height: 32px;\n",
              "      padding: 0 0 0 0;\n",
              "      width: 32px;\n",
              "    }\n",
              "\n",
              "    .colab-df-convert:hover {\n",
              "      background-color: #E2EBFA;\n",
              "      box-shadow: 0px 1px 2px rgba(60, 64, 67, 0.3), 0px 1px 3px 1px rgba(60, 64, 67, 0.15);\n",
              "      fill: #174EA6;\n",
              "    }\n",
              "\n",
              "    [theme=dark] .colab-df-convert {\n",
              "      background-color: #3B4455;\n",
              "      fill: #D2E3FC;\n",
              "    }\n",
              "\n",
              "    [theme=dark] .colab-df-convert:hover {\n",
              "      background-color: #434B5C;\n",
              "      box-shadow: 0px 1px 3px 1px rgba(0, 0, 0, 0.15);\n",
              "      filter: drop-shadow(0px 1px 2px rgba(0, 0, 0, 0.3));\n",
              "      fill: #FFFFFF;\n",
              "    }\n",
              "  </style>\n",
              "\n",
              "      <script>\n",
              "        const buttonEl =\n",
              "          document.querySelector('#df-d9e56979-580f-4dff-87d0-0224cc1bae72 button.colab-df-convert');\n",
              "        buttonEl.style.display =\n",
              "          google.colab.kernel.accessAllowed ? 'block' : 'none';\n",
              "\n",
              "        async function convertToInteractive(key) {\n",
              "          const element = document.querySelector('#df-d9e56979-580f-4dff-87d0-0224cc1bae72');\n",
              "          const dataTable =\n",
              "            await google.colab.kernel.invokeFunction('convertToInteractive',\n",
              "                                                     [key], {});\n",
              "          if (!dataTable) return;\n",
              "\n",
              "          const docLinkHtml = 'Like what you see? Visit the ' +\n",
              "            '<a target=\"_blank\" href=https://colab.research.google.com/notebooks/data_table.ipynb>data table notebook</a>'\n",
              "            + ' to learn more about interactive tables.';\n",
              "          element.innerHTML = '';\n",
              "          dataTable['output_type'] = 'display_data';\n",
              "          await google.colab.output.renderOutput(dataTable, element);\n",
              "          const docLink = document.createElement('div');\n",
              "          docLink.innerHTML = docLinkHtml;\n",
              "          element.appendChild(docLink);\n",
              "        }\n",
              "      </script>\n",
              "    </div>\n",
              "  </div>\n",
              "  "
            ]
          },
          "metadata": {},
          "execution_count": 134
        }
      ]
    },
    {
      "cell_type": "markdown",
      "source": [
        "### Resumen y Conclusiones\n",
        "\n",
        "A partir del modelo original se probaron algunas variantes:\n",
        "- **modelo 1**. Versión original (inspirada en el traductor)\n",
        "- **modelo 2**. modelo 1 + una layer de dropout de 0.5 en el decoder\n",
        "- **modelo 3**. modelo 2 + se pasa de dimensionalidad 128 a 256\n",
        "- **modelo 4**. modelo 3 + dropout de 0.2 en las layers LSTM\n",
        "\n",
        "Todos los modelos se corrieron 50 epochs.\n",
        "Los resultados después de la última epoch fueron los siguientes:\n",
        "\n",
        "```\n",
        "Modelo 1 - 2s 11ms/step - loss: 0.7233 - accuracy: 0.8246 - val_loss: 1.8063 - val_accuracy: 0.7365\n",
        "Modelo 2 - 2s 10ms/step - loss: 0.9273 - accuracy: 0.7897 - val_loss: 1.7788 - val_accuracy: 0.7399\n",
        "Modelo 3 - 2s 11ms/step - loss: 0.6462 - accuracy: 0.8347 - val_loss: 1.9015 - val_accuracy: 0.7360\n",
        "Modelo 4 - 13s 87ms/step - loss: 0.6989 - accuracy: 0.8241 - val_loss: 1.8333 - val_accuracy: 0.7408\n",
        "```\n",
        "\n",
        "No hay mucha diferencia entre ellos. En todos los casos la accuracy de validación empieza subiendo y después se \"congela\" alrededor de 0.72\n",
        "\n",
        "Con el último modelo se realizaron algunas pruebas con un banco de preguntas y la mayoría de las respuestas no tuvieron mucho sentido.\n",
        "\n",
        "Como siempre, para obtener mejores resultados además de hacer este tipo de pruebas se podría experimentar con un set de datos más grande o de mejor calidad. En este caso el dataset disponible no se puede probar por las limitaciones del Colab.\n",
        "\n"
      ],
      "metadata": {
        "id": "jOPGxFteGmjz"
      }
    }
  ],
  "metadata": {
    "accelerator": "GPU",
    "colab": {
      "provenance": [],
      "include_colab_link": true
    },
    "kernelspec": {
      "display_name": "Python 3.10.6 64-bit",
      "language": "python",
      "name": "python3"
    },
    "language_info": {
      "name": "python",
      "version": "3.10.6"
    },
    "vscode": {
      "interpreter": {
        "hash": "916dbcbb3f70747c44a77c7bcd40155683ae19c65e1c03b4aa3499c5328201f1"
      }
    }
  },
  "nbformat": 4,
  "nbformat_minor": 0
}
